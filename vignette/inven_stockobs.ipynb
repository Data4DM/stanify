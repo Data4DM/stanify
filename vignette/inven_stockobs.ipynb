{
 "cells": [
  {
   "cell_type": "code",
   "execution_count": 2,
   "metadata": {
    "collapsed": true,
    "pycharm": {
     "name": "#%%\n"
    }
   },
   "outputs": [],
   "source": [
    "import os\n",
    "\n",
    "import arviz as az\n",
    "import numpy as np\n",
    "import pandas as pd\n",
    "import matplotlib.pyplot as plt\n",
    "from cmdstanpy import CmdStanModel\n",
    "from stanify.calibrator.draws_data_mapper import draws2data2draws\n",
    "from stanify.calibrator.calib_utilities import check_consistency\n",
    "import random\n",
    "random.seed(10)\n",
    "import warnings\n",
    "warnings.filterwarnings('ignore')"
   ]
  },
  {
   "cell_type": "markdown",
   "source": [
    "##  developing model families using visual diagnostics and numeric summaries\n",
    "If you run the user interface code which states input and output format as below, it creates specific model, data, plot (two `.stan`, two `.nc files, multiple plots) in three folders. With minimal number of clicks, your model quality can be inspected. This aim of this vignette is to inspect how given the two outputs (model and data) can be analyzed for your next move.\n",
    "\n",
    "keyword: simulation-based calibration, pair plots, divergence, InferenceData"
   ],
   "metadata": {
    "collapsed": false,
    "pycharm": {
     "name": "#%% md\n"
    }
   }
  },
  {
   "cell_type": "markdown",
   "source": [
    "<div>\n",
    "<img src=\"../vensim_models/inventory/inven_1est_invenadjtime.png\" width=\"800\"/>\n",
    "</div>"
   ],
   "metadata": {
    "collapsed": false,
    "pycharm": {
     "name": "#%% md\n"
    }
   }
  },
  {
   "cell_type": "markdown",
   "source": [
    "\n",
    "\n",
    "## user interface"
   ],
   "metadata": {
    "collapsed": false,
    "pycharm": {
     "name": "#%% md\n"
    }
   }
  },
  {
   "cell_type": "code",
   "execution_count": 2,
   "outputs": [
    {
     "name": "stderr",
     "output_type": "stream",
     "text": [
      "22:29:24 - cmdstanpy - INFO - compiling stan file /Users/hyunjimoon/Dropbox/stanify/vignette/stan_files/2hier_s_norm_pn1_saveper_S1N20Q2P2H0R1_M100_ps1/draws2data.stan to exe file /Users/hyunjimoon/Dropbox/stanify/vignette/stan_files/2hier_s_norm_pn1_saveper_S1N20Q2P2H0R1_M100_ps1/draws2data\n",
      "22:29:32 - cmdstanpy - INFO - compiled model executable: /Users/hyunjimoon/Dropbox/stanify/vignette/stan_files/2hier_s_norm_pn1_saveper_S1N20Q2P2H0R1_M100_ps1/draws2data\n",
      "22:29:32 - cmdstanpy - WARNING - Stan compiler has produced 1 warnings:\n",
      "22:29:32 - cmdstanpy - WARNING - \n",
      "--- Translating Stan model to C++ code ---\n",
      "bin/stanc --include-paths=/Users/hyunjimoon/Dropbox/stanify/vignette/stan_files/2hier_s_norm_pn1_saveper_S1N20Q2P2H0R1_M100_ps1 --o=/Users/hyunjimoon/Dropbox/stanify/vignette/stan_files/2hier_s_norm_pn1_saveper_S1N20Q2P2H0R1_M100_ps1/draws2data.hpp /Users/hyunjimoon/Dropbox/stanify/vignette/stan_files/2hier_s_norm_pn1_saveper_S1N20Q2P2H0R1_M100_ps1/draws2data.stan\n",
      "Warning in '/Users/hyunjimoon/Dropbox/stanify/vignette/stan_files/2hier_s_norm_pn1_saveper_S1N20Q2P2H0R1_M100_ps1/draws2data.stan', line 56, column 4: Declaration\n",
      "    of arrays by placing brackets after a variable name is deprecated and\n",
      "    will be removed in Stan 2.32.0. Instead use the array keyword before the\n",
      "    type. This can be changed automatically using the auto-format flag to\n",
      "    stanc\n",
      "\n",
      "--- Compiling, linking C++ code ---\n",
      "clang++ -std=c++1y -Wno-unknown-warning-option -Wno-tautological-compare -Wno-sign-compare -D_REENTRANT -Wno-ignored-attributes     -DSTAN_THREADS -I stan/lib/stan_math/lib/tbb_2020.3/include    -O3 -I src -I stan/src -I lib/rapidjson_1.1.0/ -I lib/CLI11-1.9.1/ -I stan/lib/stan_math/ -I stan/lib/stan_math/lib/eigen_3.3.9 -I stan/lib/stan_math/lib/boost_1.78.0 -I stan/lib/stan_math/lib/sundials_6.1.1/include -I stan/lib/stan_math/lib/sundials_6.1.1/src/sundials    -DBOOST_DISABLE_ASSERTS          -c -include-pch stan/src/stan/model/model_header_threads.hpp.gch -x c++ -o /Users/hyunjimoon/Dropbox/stanify/vignette/stan_files/2hier_s_norm_pn1_saveper_S1N20Q2P2H0R1_M100_ps1/draws2data.o /Users/hyunjimoon/Dropbox/stanify/vignette/stan_files/2hier_s_norm_pn1_saveper_S1N20Q2P2H0R1_M100_ps1/draws2data.hpp\n",
      "clang++ -std=c++1y -Wno-unknown-warning-option -Wno-tautological-compare -Wno-sign-compare -D_REENTRANT -Wno-ignored-attributes     -DSTAN_THREADS -I stan/lib/stan_math/lib/tbb_2020.3/include    -O3 -I src -I stan/src -I lib/rapidjson_1.1.0/ -I lib/CLI11-1.9.1/ -I stan/lib/stan_math/ -I stan/lib/stan_math/lib/eigen_3.3.9 -I stan/lib/stan_math/lib/boost_1.78.0 -I stan/lib/stan_math/lib/sundials_6.1.1/include -I stan/lib/stan_math/lib/sundials_6.1.1/src/sundials    -DBOOST_DISABLE_ASSERTS                -Wl,-L,\"/Users/hyunjimoon/.cmdstan/cmdstan-2.30.1/stan/lib/stan_math/lib/tbb\" -Wl,-rpath,\"/Users/hyunjimoon/.cmdstan/cmdstan-2.30.1/stan/lib/stan_math/lib/tbb\"      /Users/hyunjimoon/Dropbox/stanify/vignette/stan_files/2hier_s_norm_pn1_saveper_S1N20Q2P2H0R1_M100_ps1/draws2data.o src/cmdstan/main_threads.o        -Wl,-L,\"/Users/hyunjimoon/.cmdstan/cmdstan-2.30.1/stan/lib/stan_math/lib/tbb\" -Wl,-rpath,\"/Users/hyunjimoon/.cmdstan/cmdstan-2.30.1/stan/lib/stan_math/lib/tbb\"   stan/lib/stan_math/lib/sundials_6.1.1/lib/libsundials_nvecserial.a stan/lib/stan_math/lib/sundials_6.1.1/lib/libsundials_cvodes.a stan/lib/stan_math/lib/sundials_6.1.1/lib/libsundials_idas.a stan/lib/stan_math/lib/sundials_6.1.1/lib/libsundials_kinsol.a  stan/lib/stan_math/lib/tbb/libtbb.dylib stan/lib/stan_math/lib/tbb/libtbbmalloc.dylib stan/lib/stan_math/lib/tbb/libtbbmalloc_proxy.dylib -o /Users/hyunjimoon/Dropbox/stanify/vignette/stan_files/2hier_s_norm_pn1_saveper_S1N20Q2P2H0R1_M100_ps1/draws2data\n",
      "rm -f /Users/hyunjimoon/Dropbox/stanify/vignette/stan_files/2hier_s_norm_pn1_saveper_S1N20Q2P2H0R1_M100_ps1/draws2data.o\n",
      "\n",
      "22:29:33 - cmdstanpy - INFO - CmdStan start processing\n"
     ]
    },
    {
     "data": {
      "text/plain": "chain 1 |          | 00:00 Status",
      "application/vnd.jupyter.widget-view+json": {
       "version_major": 2,
       "version_minor": 0,
       "model_id": "b0be1779787c487b987b86cf0167ec4a"
      }
     },
     "metadata": {},
     "output_type": "display_data"
    },
    {
     "name": "stdout",
     "output_type": "stream",
     "text": [
      "                                                                                "
     ]
    },
    {
     "name": "stderr",
     "output_type": "stream",
     "text": [
      "22:29:33 - cmdstanpy - INFO - CmdStan done processing.\n"
     ]
    },
    {
     "name": "stdout",
     "output_type": "stream",
     "text": [
      "\n"
     ]
    },
    {
     "name": "stderr",
     "output_type": "stream",
     "text": [
      "22:29:33 - cmdstanpy - INFO - compiling stan file /Users/hyunjimoon/Dropbox/stanify/vignette/stan_files/2hier_s_norm_pn1_saveper_S1N20Q2P2H0R1_M100_ps1/data2draws.stan to exe file /Users/hyunjimoon/Dropbox/stanify/vignette/stan_files/2hier_s_norm_pn1_saveper_S1N20Q2P2H0R1_M100_ps1/data2draws\n",
      "22:29:43 - cmdstanpy - INFO - compiled model executable: /Users/hyunjimoon/Dropbox/stanify/vignette/stan_files/2hier_s_norm_pn1_saveper_S1N20Q2P2H0R1_M100_ps1/data2draws\n",
      "22:29:43 - cmdstanpy - WARNING - Stan compiler has produced 1 warnings:\n",
      "22:29:43 - cmdstanpy - WARNING - \n",
      "--- Translating Stan model to C++ code ---\n",
      "bin/stanc --include-paths=/Users/hyunjimoon/Dropbox/stanify/vignette/stan_files/2hier_s_norm_pn1_saveper_S1N20Q2P2H0R1_M100_ps1 --o=/Users/hyunjimoon/Dropbox/stanify/vignette/stan_files/2hier_s_norm_pn1_saveper_S1N20Q2P2H0R1_M100_ps1/data2draws.hpp /Users/hyunjimoon/Dropbox/stanify/vignette/stan_files/2hier_s_norm_pn1_saveper_S1N20Q2P2H0R1_M100_ps1/data2draws.stan\n",
      "Warning in '/Users/hyunjimoon/Dropbox/stanify/vignette/stan_files/2hier_s_norm_pn1_saveper_S1N20Q2P2H0R1_M100_ps1/data2draws.stan', line 60, column 4: Declaration\n",
      "    of arrays by placing brackets after a variable name is deprecated and\n",
      "    will be removed in Stan 2.32.0. Instead use the array keyword before the\n",
      "    type. This can be changed automatically using the auto-format flag to\n",
      "    stanc\n",
      "\n",
      "--- Compiling, linking C++ code ---\n",
      "clang++ -std=c++1y -Wno-unknown-warning-option -Wno-tautological-compare -Wno-sign-compare -D_REENTRANT -Wno-ignored-attributes     -DSTAN_THREADS -I stan/lib/stan_math/lib/tbb_2020.3/include    -O3 -I src -I stan/src -I lib/rapidjson_1.1.0/ -I lib/CLI11-1.9.1/ -I stan/lib/stan_math/ -I stan/lib/stan_math/lib/eigen_3.3.9 -I stan/lib/stan_math/lib/boost_1.78.0 -I stan/lib/stan_math/lib/sundials_6.1.1/include -I stan/lib/stan_math/lib/sundials_6.1.1/src/sundials    -DBOOST_DISABLE_ASSERTS          -c -include-pch stan/src/stan/model/model_header_threads.hpp.gch -x c++ -o /Users/hyunjimoon/Dropbox/stanify/vignette/stan_files/2hier_s_norm_pn1_saveper_S1N20Q2P2H0R1_M100_ps1/data2draws.o /Users/hyunjimoon/Dropbox/stanify/vignette/stan_files/2hier_s_norm_pn1_saveper_S1N20Q2P2H0R1_M100_ps1/data2draws.hpp\n",
      "clang++ -std=c++1y -Wno-unknown-warning-option -Wno-tautological-compare -Wno-sign-compare -D_REENTRANT -Wno-ignored-attributes     -DSTAN_THREADS -I stan/lib/stan_math/lib/tbb_2020.3/include    -O3 -I src -I stan/src -I lib/rapidjson_1.1.0/ -I lib/CLI11-1.9.1/ -I stan/lib/stan_math/ -I stan/lib/stan_math/lib/eigen_3.3.9 -I stan/lib/stan_math/lib/boost_1.78.0 -I stan/lib/stan_math/lib/sundials_6.1.1/include -I stan/lib/stan_math/lib/sundials_6.1.1/src/sundials    -DBOOST_DISABLE_ASSERTS                -Wl,-L,\"/Users/hyunjimoon/.cmdstan/cmdstan-2.30.1/stan/lib/stan_math/lib/tbb\" -Wl,-rpath,\"/Users/hyunjimoon/.cmdstan/cmdstan-2.30.1/stan/lib/stan_math/lib/tbb\"      /Users/hyunjimoon/Dropbox/stanify/vignette/stan_files/2hier_s_norm_pn1_saveper_S1N20Q2P2H0R1_M100_ps1/data2draws.o src/cmdstan/main_threads.o        -Wl,-L,\"/Users/hyunjimoon/.cmdstan/cmdstan-2.30.1/stan/lib/stan_math/lib/tbb\" -Wl,-rpath,\"/Users/hyunjimoon/.cmdstan/cmdstan-2.30.1/stan/lib/stan_math/lib/tbb\"   stan/lib/stan_math/lib/sundials_6.1.1/lib/libsundials_nvecserial.a stan/lib/stan_math/lib/sundials_6.1.1/lib/libsundials_cvodes.a stan/lib/stan_math/lib/sundials_6.1.1/lib/libsundials_idas.a stan/lib/stan_math/lib/sundials_6.1.1/lib/libsundials_kinsol.a  stan/lib/stan_math/lib/tbb/libtbb.dylib stan/lib/stan_math/lib/tbb/libtbbmalloc.dylib stan/lib/stan_math/lib/tbb/libtbbmalloc_proxy.dylib -o /Users/hyunjimoon/Dropbox/stanify/vignette/stan_files/2hier_s_norm_pn1_saveper_S1N20Q2P2H0R1_M100_ps1/data2draws\n",
      "rm -f /Users/hyunjimoon/Dropbox/stanify/vignette/stan_files/2hier_s_norm_pn1_saveper_S1N20Q2P2H0R1_M100_ps1/data2draws.o\n",
      "\n",
      "22:29:43 - cmdstanpy - INFO - CmdStan start processing\n"
     ]
    },
    {
     "data": {
      "text/plain": "chain 1 |          | 00:00 Status",
      "application/vnd.jupyter.widget-view+json": {
       "version_major": 2,
       "version_minor": 0,
       "model_id": "added240d97344b5b221c709024e7907"
      }
     },
     "metadata": {},
     "output_type": "display_data"
    },
    {
     "data": {
      "text/plain": "chain 2 |          | 00:00 Status",
      "application/vnd.jupyter.widget-view+json": {
       "version_major": 2,
       "version_minor": 0,
       "model_id": "c4f62404985c49d79dd860c8e5145d70"
      }
     },
     "metadata": {},
     "output_type": "display_data"
    },
    {
     "name": "stdout",
     "output_type": "stream",
     "text": [
      "                                                                                                                                                                "
     ]
    },
    {
     "name": "stderr",
     "output_type": "stream",
     "text": [
      "22:29:46 - cmdstanpy - INFO - CmdStan done processing.\n",
      "22:29:46 - cmdstanpy - WARNING - Non-fatal error during sampling:\n",
      "Exception: normal_lpdf: Scale parameter is 0, but must be positive! (in '/Users/hyunjimoon/Dropbox/stanify/vignette/stan_files/2hier_s_norm_pn1_saveper_S1N20Q2P2H0R1_M100_ps1/data2draws.stan', line 76, column 4 to column 59)\n",
      "\tException: normal_lpdf: Scale parameter is 0, but must be positive! (in '/Users/hyunjimoon/Dropbox/stanify/vignette/stan_files/2hier_s_norm_pn1_saveper_S1N20Q2P2H0R1_M100_ps1/data2draws.stan', line 76, column 4 to column 59)\n",
      "Consider re-running with show_console=True if the above output is unclear!\n"
     ]
    },
    {
     "name": "stdout",
     "output_type": "stream",
     "text": [
      "\n"
     ]
    },
    {
     "data": {
      "text/plain": "<Figure size 640x480 with 1 Axes>",
      "image/png": "[encoded data removed]"
     },
     "metadata": {},
     "output_type": "display_data"
    },
    {
     "data": {
      "text/plain": "<Figure size 640x480 with 1 Axes>",
      "image/png": "[encoded data removed]"
     },
     "metadata": {},
     "output_type": "display_data"
    },
    {
     "data": {
      "text/plain": "<Figure size 3000x1500 with 0 Axes>"
     },
     "metadata": {},
     "output_type": "display_data"
    },
    {
     "data": {
      "text/plain": "<Figure size 3000x1500 with 0 Axes>"
     },
     "metadata": {},
     "output_type": "display_data"
    },
    {
     "data": {
      "text/plain": "<Figure size 3000x1500 with 0 Axes>"
     },
     "metadata": {},
     "output_type": "display_data"
    },
    {
     "data": {
      "text/plain": "<Figure size 3000x1500 with 0 Axes>"
     },
     "metadata": {},
     "output_type": "display_data"
    },
    {
     "data": {
      "text/plain": "<Figure size 3000x1500 with 0 Axes>"
     },
     "metadata": {},
     "output_type": "display_data"
    },
    {
     "data": {
      "text/plain": "<Figure size 640x480 with 0 Axes>"
     },
     "metadata": {},
     "output_type": "display_data"
    }
   ],
   "source": [
    "import numpy as np\n",
    "from stanify.calibrator.draws_data_mapper import draws2data2draws\n",
    "from stanify.calibrator.calib_utilities import check_consistency\n",
    "np.random.seed(10)\n",
    "import warnings\n",
    "warnings.filterwarnings('ignore')\n",
    "\n",
    "precision ={\n",
    "    \"S\": 1, # # of draws from prior\n",
    "    \"M\": 100, # # of draws from posterior (# of chains * # of draws from each chain)\n",
    "    \"N\": 20, # # of observation\n",
    "    \"R\": 1 # # of subgroups for hierarchical Bayes\n",
    "}\n",
    "\n",
    "setting = {\n",
    "    \"est_param_names\" : [\"adj_frac1\", \"adj_frac2\"],#,\"adj_frac3\"],# \"ss2p_frac4\"],# \"ss2p_frac4\"\n",
    "    \"hier_est_param_names\": [], #\"adj_frac1\", \"adj_frac2\", \"adj_frac3\"],# \"ss2p_frac4\"],\n",
    "    \"target_simulated_vector_names\" : [\"stocked_ping\", \"stocked_pping\"],\n",
    "    \"driving_vector_names\" : [\"exog_demand\", \"process_noise_normal_driving\"],\n",
    "    \"model_name\": \"2hier_s_norm_pn1_saveper\"\n",
    "}\n",
    "init_order = 100\n",
    "# driving data\n",
    "numeric = {\n",
    "        \"exog_demand\": np.sin(np.arange(0, precision['N'])*100000) * init_order * .5 + init_order,\n",
    "        \"process_noise_normal_driving\": np.random.normal(0, 1, size=precision['N']),\n",
    "        'process_noise_scale':1  #.1\n",
    "}\n",
    "# TODO auto real dataFunc__exog_demand(0, time_saveper) * (1 / 1 / 3 + 1 / 1 / 2)\n",
    "\n",
    "prior = {\n",
    "    #(\"adj_frac1_loc\", \"normal\", .25, .25* .1, 0), # order\n",
    "    #(\"adj_frac2_loc\", \"normal\", .125, .125* .1, 0),\n",
    "    #(\"adj_frac3_loc\", \"normal\", .5, .5* .1, 0),\n",
    "    #(\"ss2p_frac4_loc\", \"normal\", .2, .2* .1, 0),\n",
    "    (\"adj_frac1\", \"normal\", .25, .25 *.1, 0),\n",
    "   (\"adj_frac2\", \"normal\", .125,.125 *.1, 0),\n",
    "   # (\"adj_frac3\", \"normal\", \"adj_frac3_loc\", .5 *.1, 0),\n",
    "    #(\"ss2p_frac4\", \"normal\", \"ss2p_frac4_loc\", .2 *.1, 0),\n",
    "    (\"m_noise_scale\", \"normal\", 0, 1, 0) # \"normal\", init_order * .1, init_order * .01, 0) #\n",
    "}\n",
    "# setting = {\n",
    "#     \"est_param_names\" : [ \"adj_frac1\"], # \"adj_frac2\"],#,\"adj_frac3\"],# \"ss2p_frac4\"\n",
    "#     \"hier_est_param_names\": [], #[\"adj_frac1\"], #[, \"adj_frac2\"],\n",
    "#     \"target_simulated_vector_names\" : [\"ss\", \"s\"],\n",
    "#     \"driving_vector_names\" : [\"exog_demand\", \"process_noise_normal_driving\"],\n",
    "#     \"model_name\": \"2hier_s_lognormal\"\n",
    "# }\n",
    "# init_order = 100\n",
    "# # driving data\n",
    "# numeric = {\n",
    "#         \"exog_demand\": np.sin(np.arange(0, precision['N'])*10000) * init_order * .5 + init_order,\n",
    "#         \"process_noise_normal_driving\": np.random.normal(0, 1, size=precision['N']),\n",
    "#         'process_noise_scale': .1 #.1\n",
    "# }\n",
    "# # TODO auto real dataFunc__exog_demand(0, time_saveper) * (1 / 1 / 3 + 1 / 1 / 2)\n",
    "# # TODO design checks or automatically turning on prior only included in the setting (compare on server, makefile?)\n",
    "# prior = {\n",
    "#     (\"adj_frac1\", \"normal\", .25, .25 *.1, 0),\n",
    "#     #(\"adj_frac2\", \"normal\", .125,.125 *.1, 0),\n",
    "#     #(\"adj_mat_pull_frac3\", \"normal\", .5 , .5 *.1, 0),\n",
    "#     #(\"ss2p_frac4\", \"normal\", .2, .2 *.1, 0),\n",
    "#     (\"m_noise_scale\",\"lognormal\", np.log(1), .01, 0) #\"normal\", init_order * .1, init_order * .01, 0) #\n",
    "# }\n",
    "output_format = dict(\n",
    "    prior_predictive=[\"stocked_ping_obs\", \"stocked_pping_obs\"],\n",
    "    posterior_predictive=[\"stocked_ping_obs_post\", \"stocked_pping_obs_post\"],\n",
    "    log_likelihood={\n",
    "        \"loglik\": \"loglik\"\n",
    "    },\n",
    "    coords={\n",
    "        \"time\": [n for n in range(precision['N'])],\n",
    "        \"stock\": setting['target_simulated_vector_names'],\n",
    "        \"region\": [r for r in range(precision['R'])]\n",
    "    },\n",
    "    #TODO automatic making target_simulated, observed_data, observed_data_post\n",
    "    dims={\n",
    "        'initial_outcome': [\"stock\"],\n",
    "        'integrated_result': [\"time\", \"stock\"],\n",
    "        \"stocked_ping_obs\": [\"time\"],\n",
    "        \"stocked_pping_obs\": [\"time\"],\n",
    "        \"stocked_ping_obs_post\": [\"time\"],\n",
    "        \"stocked_pping_obs_post\": [\"time\"],\n",
    "    }\n",
    ")\n",
    "\n",
    "if check_consistency(setting, precision, numeric, prior, output_format):\n",
    "    idata_orig, model = draws2data2draws('../vensim_models/inventory/hier2_flow.mdl', setting, precision, numeric, prior, output_format)"
   ],
   "metadata": {
    "collapsed": false,
    "pycharm": {
     "name": "#%%\n"
    }
   }
  },
  {
   "cell_type": "markdown",
   "source": [
    "We load produced data for plotting. Please refer to the end of this document for model (stan code) and data structure which is Stanify's main contribution, but not the scope here.\n",
    "\n",
    "`data2draws` have four groups: `posterior`, `prior_predictive`, `log_likelihood`, `samp_stats`, `observed_data`. First click the arrow below to inspect dataset structure of each group. If you click database icon, it will show each data variable (estimated parameter, target simulated vectors for `posterior` group, observed vector (adding measurement noise on target simulated vector posterior) for `osberved_data` group, loglikelihood of each posterior sample for `log_likelihood`, lp, acceptance_rate, tree_depth, energy (HMC alg.parameters) `sample_stats_prior` group)"
   ],
   "metadata": {
    "collapsed": false,
    "pycharm": {
     "name": "#%% md\n"
    }
   }
  },
  {
   "cell_type": "code",
   "execution_count": 3,
   "outputs": [
    {
     "data": {
      "text/plain": "<xarray.DataArray 'process_noise' (prior_draw: 1, chain: 2, draw: 50,\n                                   process_noise_dim_0: 20)>\n[2000 values with dtype=float64]\nCoordinates:\n  * chain                (chain) int64 0 1\n  * draw                 (draw) int64 0 1 2 3 4 5 6 7 ... 43 44 45 46 47 48 49\n  * process_noise_dim_0  (process_noise_dim_0) int64 0 1 2 3 4 ... 16 17 18 19\nDimensions without coordinates: prior_draw",
      "text/html": "<div><svg style=\"position: absolute; width: 0; height: 0; overflow: hidden\">\n<defs>\n<symbol id=\"icon-database\" viewBox=\"0 0 32 32\">\n<path d=\"M16 0c-8.837 0-16 2.239-16 5v4c0 2.761 7.163 5 16 5s16-2.239 16-5v-4c0-2.761-7.163-5-16-5z\"></path>\n<path d=\"M16 17c-8.837 0-16-2.239-16-5v6c0 2.761 7.163 5 16 5s16-2.239 16-5v-6c0 2.761-7.163 5-16 5z\"></path>\n<path d=\"M16 26c-8.837 0-16-2.239-16-5v6c0 2.761 7.163 5 16 5s16-2.239 16-5v-6c0 2.761-7.163 5-16 5z\"></path>\n</symbol>\n<symbol id=\"icon-file-text2\" viewBox=\"0 0 32 32\">\n<path d=\"M28.681 7.159c-0.694-0.947-1.662-2.053-2.724-3.116s-2.169-2.030-3.116-2.724c-1.612-1.182-2.393-1.319-2.841-1.319h-15.5c-1.378 0-2.5 1.121-2.5 2.5v27c0 1.378 1.122 2.5 2.5 2.5h23c1.378 0 2.5-1.122 2.5-2.5v-19.5c0-0.448-0.137-1.23-1.319-2.841zM24.543 5.457c0.959 0.959 1.712 1.825 2.268 2.543h-4.811v-4.811c0.718 0.556 1.584 1.309 2.543 2.268zM28 29.5c0 0.271-0.229 0.5-0.5 0.5h-23c-0.271 0-0.5-0.229-0.5-0.5v-27c0-0.271 0.229-0.5 0.5-0.5 0 0 15.499-0 15.5 0v7c0 0.552 0.448 1 1 1h7v19.5z\"></path>\n<path d=\"M23 26h-14c-0.552 0-1-0.448-1-1s0.448-1 1-1h14c0.552 0 1 0.448 1 1s-0.448 1-1 1z\"></path>\n<path d=\"M23 22h-14c-0.552 0-1-0.448-1-1s0.448-1 1-1h14c0.552 0 1 0.448 1 1s-0.448 1-1 1z\"></path>\n<path d=\"M23 18h-14c-0.552 0-1-0.448-1-1s0.448-1 1-1h14c0.552 0 1 0.448 1 1s-0.448 1-1 1z\"></path>\n</symbol>\n</defs>\n</svg>\n<style>/* CSS stylesheet for displaying xarray objects in jupyterlab.\n *\n */\n\n:root {\n  --xr-font-color0: var(--jp-content-font-color0, rgba(0, 0, 0, 1));\n  --xr-font-color2: var(--jp-content-font-color2, rgba(0, 0, 0, 0.54));\n  --xr-font-color3: var(--jp-content-font-color3, rgba(0, 0, 0, 0.38));\n  --xr-border-color: var(--jp-border-color2, #e0e0e0);\n  --xr-disabled-color: var(--jp-layout-color3, #bdbdbd);\n  --xr-background-color: var(--jp-layout-color0, white);\n  --xr-background-color-row-even: var(--jp-layout-color1, white);\n  --xr-background-color-row-odd: var(--jp-layout-color2, #eeeeee);\n}\n\nhtml[theme=dark],\nbody[data-theme=dark],\nbody.vscode-dark {\n  --xr-font-color0: rgba(255, 255, 255, 1);\n  --xr-font-color2: rgba(255, 255, 255, 0.54);\n  --xr-font-color3: rgba(255, 255, 255, 0.38);\n  --xr-border-color: #1F1F1F;\n  --xr-disabled-color: #515151;\n  --xr-background-color: #111111;\n  --xr-background-color-row-even: #111111;\n  --xr-background-color-row-odd: #313131;\n}\n\n.xr-wrap {\n  display: block !important;\n  min-width: 300px;\n  max-width: 700px;\n}\n\n.xr-text-repr-fallback {\n  /* fallback to plain text repr when CSS is not injected (untrusted notebook) */\n  display: none;\n}\n\n.xr-header {\n  padding-top: 6px;\n  padding-bottom: 6px;\n  margin-bottom: 4px;\n  border-bottom: solid 1px var(--xr-border-color);\n}\n\n.xr-header > div,\n.xr-header > ul {\n  display: inline;\n  margin-top: 0;\n  margin-bottom: 0;\n}\n\n.xr-obj-type,\n.xr-array-name {\n  margin-left: 2px;\n  margin-right: 10px;\n}\n\n.xr-obj-type {\n  color: var(--xr-font-color2);\n}\n\n.xr-sections {\n  padding-left: 0 !important;\n  display: grid;\n  grid-template-columns: 150px auto auto 1fr 20px 20px;\n}\n\n.xr-section-item {\n  display: contents;\n}\n\n.xr-section-item input {\n  display: none;\n}\n\n.xr-section-item input + label {\n  color: var(--xr-disabled-color);\n}\n\n.xr-section-item input:enabled + label {\n  cursor: pointer;\n  color: var(--xr-font-color2);\n}\n\n.xr-section-item input:enabled + label:hover {\n  color: var(--xr-font-color0);\n}\n\n.xr-section-summary {\n  grid-column: 1;\n  color: var(--xr-font-color2);\n  font-weight: 500;\n}\n\n.xr-section-summary > span {\n  display: inline-block;\n  padding-left: 0.5em;\n}\n\n.xr-section-summary-in:disabled + label {\n  color: var(--xr-font-color2);\n}\n\n.xr-section-summary-in + label:before {\n  display: inline-block;\n  content: '►';\n  font-size: 11px;\n  width: 15px;\n  text-align: center;\n}\n\n.xr-section-summary-in:disabled + label:before {\n  color: var(--xr-disabled-color);\n}\n\n.xr-section-summary-in:checked + label:before {\n  content: '▼';\n}\n\n.xr-section-summary-in:checked + label > span {\n  display: none;\n}\n\n.xr-section-summary,\n.xr-section-inline-details {\n  padding-top: 4px;\n  padding-bottom: 4px;\n}\n\n.xr-section-inline-details {\n  grid-column: 2 / -1;\n}\n\n.xr-section-details {\n  display: none;\n  grid-column: 1 / -1;\n  margin-bottom: 5px;\n}\n\n.xr-section-summary-in:checked ~ .xr-section-details {\n  display: contents;\n}\n\n.xr-array-wrap {\n  grid-column: 1 / -1;\n  display: grid;\n  grid-template-columns: 20px auto;\n}\n\n.xr-array-wrap > label {\n  grid-column: 1;\n  vertical-align: top;\n}\n\n.xr-preview {\n  color: var(--xr-font-color3);\n}\n\n.xr-array-preview,\n.xr-array-data {\n  padding: 0 5px !important;\n  grid-column: 2;\n}\n\n.xr-array-data,\n.xr-array-in:checked ~ .xr-array-preview {\n  display: none;\n}\n\n.xr-array-in:checked ~ .xr-array-data,\n.xr-array-preview {\n  display: inline-block;\n}\n\n.xr-dim-list {\n  display: inline-block !important;\n  list-style: none;\n  padding: 0 !important;\n  margin: 0;\n}\n\n.xr-dim-list li {\n  display: inline-block;\n  padding: 0;\n  margin: 0;\n}\n\n.xr-dim-list:before {\n  content: '(';\n}\n\n.xr-dim-list:after {\n  content: ')';\n}\n\n.xr-dim-list li:not(:last-child):after {\n  content: ',';\n  padding-right: 5px;\n}\n\n.xr-has-index {\n  font-weight: bold;\n}\n\n.xr-var-list,\n.xr-var-item {\n  display: contents;\n}\n\n.xr-var-item > div,\n.xr-var-item label,\n.xr-var-item > .xr-var-name span {\n  background-color: var(--xr-background-color-row-even);\n  margin-bottom: 0;\n}\n\n.xr-var-item > .xr-var-name:hover span {\n  padding-right: 5px;\n}\n\n.xr-var-list > li:nth-child(odd) > div,\n.xr-var-list > li:nth-child(odd) > label,\n.xr-var-list > li:nth-child(odd) > .xr-var-name span {\n  background-color: var(--xr-background-color-row-odd);\n}\n\n.xr-var-name {\n  grid-column: 1;\n}\n\n.xr-var-dims {\n  grid-column: 2;\n}\n\n.xr-var-dtype {\n  grid-column: 3;\n  text-align: right;\n  color: var(--xr-font-color2);\n}\n\n.xr-var-preview {\n  grid-column: 4;\n}\n\n.xr-index-preview {\n  grid-column: 2 / 5;\n  color: var(--xr-font-color2);\n}\n\n.xr-var-name,\n.xr-var-dims,\n.xr-var-dtype,\n.xr-preview,\n.xr-attrs dt {\n  white-space: nowrap;\n  overflow: hidden;\n  text-overflow: ellipsis;\n  padding-right: 10px;\n}\n\n.xr-var-name:hover,\n.xr-var-dims:hover,\n.xr-var-dtype:hover,\n.xr-attrs dt:hover {\n  overflow: visible;\n  width: auto;\n  z-index: 1;\n}\n\n.xr-var-attrs,\n.xr-var-data,\n.xr-index-data {\n  display: none;\n  background-color: var(--xr-background-color) !important;\n  padding-bottom: 5px !important;\n}\n\n.xr-var-attrs-in:checked ~ .xr-var-attrs,\n.xr-var-data-in:checked ~ .xr-var-data,\n.xr-index-data-in:checked ~ .xr-index-data {\n  display: block;\n}\n\n.xr-var-data > table {\n  float: right;\n}\n\n.xr-var-name span,\n.xr-var-data,\n.xr-index-name div,\n.xr-index-data,\n.xr-attrs {\n  padding-left: 25px !important;\n}\n\n.xr-attrs,\n.xr-var-attrs,\n.xr-var-data,\n.xr-index-data {\n  grid-column: 1 / -1;\n}\n\ndl.xr-attrs {\n  padding: 0;\n  margin: 0;\n  display: grid;\n  grid-template-columns: 125px auto;\n}\n\n.xr-attrs dt,\n.xr-attrs dd {\n  padding: 0;\n  margin: 0;\n  float: left;\n  padding-right: 10px;\n  width: auto;\n}\n\n.xr-attrs dt {\n  font-weight: normal;\n  grid-column: 1;\n}\n\n.xr-attrs dt:hover span {\n  display: inline-block;\n  background: var(--xr-background-color);\n  padding-right: 10px;\n}\n\n.xr-attrs dd {\n  grid-column: 2;\n  white-space: pre-wrap;\n  word-break: break-all;\n}\n\n.xr-icon-database,\n.xr-icon-file-text2,\n.xr-no-icon {\n  display: inline-block;\n  vertical-align: middle;\n  width: 1em;\n  height: 1.5em !important;\n  stroke-width: 0;\n  stroke: currentColor;\n  fill: currentColor;\n}\n</style><pre class='xr-text-repr-fallback'>&lt;xarray.DataArray &#x27;process_noise&#x27; (prior_draw: 1, chain: 2, draw: 50,\n                                   process_noise_dim_0: 20)&gt;\n[2000 values with dtype=float64]\nCoordinates:\n  * chain                (chain) int64 0 1\n  * draw                 (draw) int64 0 1 2 3 4 5 6 7 ... 43 44 45 46 47 48 49\n  * process_noise_dim_0  (process_noise_dim_0) int64 0 1 2 3 4 ... 16 17 18 19\nDimensions without coordinates: prior_draw</pre><div class='xr-wrap' style='display:none'><div class='xr-header'><div class='xr-obj-type'>xarray.DataArray</div><div class='xr-array-name'>'process_noise'</div><ul class='xr-dim-list'><li><span>prior_draw</span>: 1</li><li><span class='xr-has-index'>chain</span>: 2</li><li><span class='xr-has-index'>draw</span>: 50</li><li><span class='xr-has-index'>process_noise_dim_0</span>: 20</li></ul></div><ul class='xr-sections'><li class='xr-section-item'><div class='xr-array-wrap'><input id='section-632138d7-bb2b-4543-b264-01bc8f784422' class='xr-array-in' type='checkbox' checked><label for='section-632138d7-bb2b-4543-b264-01bc8f784422' title='Show/hide data repr'><svg class='icon xr-icon-database'><use xlink:href='#icon-database'></use></svg></label><div class='xr-array-preview xr-preview'><span>...</span></div><div class='xr-array-data'><pre>[2000 values with dtype=float64]</pre></div></div></li><li class='xr-section-item'><input id='section-0ab59d08-7611-4da9-a03c-f142139216cd' class='xr-section-summary-in' type='checkbox'  checked><label for='section-0ab59d08-7611-4da9-a03c-f142139216cd' class='xr-section-summary' >Coordinates: <span>(3)</span></label><div class='xr-section-inline-details'></div><div class='xr-section-details'><ul class='xr-var-list'><li class='xr-var-item'><div class='xr-var-name'><span class='xr-has-index'>chain</span></div><div class='xr-var-dims'>(chain)</div><div class='xr-var-dtype'>int64</div><div class='xr-var-preview xr-preview'>0 1</div><input id='attrs-8c3c6b2d-0b54-4fc7-a6ae-45f6f8201c47' class='xr-var-attrs-in' type='checkbox' disabled><label for='attrs-8c3c6b2d-0b54-4fc7-a6ae-45f6f8201c47' title='Show/Hide attributes'><svg class='icon xr-icon-file-text2'><use xlink:href='#icon-file-text2'></use></svg></label><input id='data-1fa39d2c-a4a0-4d31-b3d1-436c60aea211' class='xr-var-data-in' type='checkbox'><label for='data-1fa39d2c-a4a0-4d31-b3d1-436c60aea211' title='Show/Hide data repr'><svg class='icon xr-icon-database'><use xlink:href='#icon-database'></use></svg></label><div class='xr-var-attrs'><dl class='xr-attrs'></dl></div><div class='xr-var-data'><pre>array([0, 1])</pre></div></li><li class='xr-var-item'><div class='xr-var-name'><span class='xr-has-index'>draw</span></div><div class='xr-var-dims'>(draw)</div><div class='xr-var-dtype'>int64</div><div class='xr-var-preview xr-preview'>0 1 2 3 4 5 6 ... 44 45 46 47 48 49</div><input id='attrs-32e0f2ad-e06c-4a72-8d07-78a2a7fd202d' class='xr-var-attrs-in' type='checkbox' disabled><label for='attrs-32e0f2ad-e06c-4a72-8d07-78a2a7fd202d' title='Show/Hide attributes'><svg class='icon xr-icon-file-text2'><use xlink:href='#icon-file-text2'></use></svg></label><input id='data-9b60c84b-92ff-452a-9f50-7557f58fc03b' class='xr-var-data-in' type='checkbox'><label for='data-9b60c84b-92ff-452a-9f50-7557f58fc03b' title='Show/Hide data repr'><svg class='icon xr-icon-database'><use xlink:href='#icon-database'></use></svg></label><div class='xr-var-attrs'><dl class='xr-attrs'></dl></div><div class='xr-var-data'><pre>array([ 0,  1,  2,  3,  4,  5,  6,  7,  8,  9, 10, 11, 12, 13, 14, 15, 16, 17,\n       18, 19, 20, 21, 22, 23, 24, 25, 26, 27, 28, 29, 30, 31, 32, 33, 34, 35,\n       36, 37, 38, 39, 40, 41, 42, 43, 44, 45, 46, 47, 48, 49])</pre></div></li><li class='xr-var-item'><div class='xr-var-name'><span class='xr-has-index'>process_noise_dim_0</span></div><div class='xr-var-dims'>(process_noise_dim_0)</div><div class='xr-var-dtype'>int64</div><div class='xr-var-preview xr-preview'>0 1 2 3 4 5 6 ... 14 15 16 17 18 19</div><input id='attrs-d9026ee7-21e8-4aa6-80a1-ab795af0c88b' class='xr-var-attrs-in' type='checkbox' disabled><label for='attrs-d9026ee7-21e8-4aa6-80a1-ab795af0c88b' title='Show/Hide attributes'><svg class='icon xr-icon-file-text2'><use xlink:href='#icon-file-text2'></use></svg></label><input id='data-ede1b381-9fc0-4903-8432-b165da64ceb6' class='xr-var-data-in' type='checkbox'><label for='data-ede1b381-9fc0-4903-8432-b165da64ceb6' title='Show/Hide data repr'><svg class='icon xr-icon-database'><use xlink:href='#icon-database'></use></svg></label><div class='xr-var-attrs'><dl class='xr-attrs'></dl></div><div class='xr-var-data'><pre>array([ 0,  1,  2,  3,  4,  5,  6,  7,  8,  9, 10, 11, 12, 13, 14, 15, 16, 17,\n       18, 19])</pre></div></li></ul></div></li><li class='xr-section-item'><input id='section-b138680c-9315-435e-b155-d12fe6f66316' class='xr-section-summary-in' type='checkbox'  ><label for='section-b138680c-9315-435e-b155-d12fe6f66316' class='xr-section-summary' >Indexes: <span>(3)</span></label><div class='xr-section-inline-details'></div><div class='xr-section-details'><ul class='xr-var-list'><li class='xr-var-item'><div class='xr-index-name'><div>chain</div></div><div class='xr-index-preview'>PandasIndex</div><div></div><input id='index-b6fb5c36-146a-447d-aef4-bf71b9d5d795' class='xr-index-data-in' type='checkbox'/><label for='index-b6fb5c36-146a-447d-aef4-bf71b9d5d795' title='Show/Hide index repr'><svg class='icon xr-icon-database'><use xlink:href='#icon-database'></use></svg></label><div class='xr-index-data'><pre>PandasIndex(Int64Index([0, 1], dtype=&#x27;int64&#x27;, name=&#x27;chain&#x27;))</pre></div></li><li class='xr-var-item'><div class='xr-index-name'><div>draw</div></div><div class='xr-index-preview'>PandasIndex</div><div></div><input id='index-92e800f2-b4bd-4f60-823e-12ce7b992ec8' class='xr-index-data-in' type='checkbox'/><label for='index-92e800f2-b4bd-4f60-823e-12ce7b992ec8' title='Show/Hide index repr'><svg class='icon xr-icon-database'><use xlink:href='#icon-database'></use></svg></label><div class='xr-index-data'><pre>PandasIndex(Int64Index([ 0,  1,  2,  3,  4,  5,  6,  7,  8,  9, 10, 11, 12, 13, 14, 15, 16,\n            17, 18, 19, 20, 21, 22, 23, 24, 25, 26, 27, 28, 29, 30, 31, 32, 33,\n            34, 35, 36, 37, 38, 39, 40, 41, 42, 43, 44, 45, 46, 47, 48, 49],\n           dtype=&#x27;int64&#x27;, name=&#x27;draw&#x27;))</pre></div></li><li class='xr-var-item'><div class='xr-index-name'><div>process_noise_dim_0</div></div><div class='xr-index-preview'>PandasIndex</div><div></div><input id='index-ef202d0b-baed-42ba-b371-afac2731150f' class='xr-index-data-in' type='checkbox'/><label for='index-ef202d0b-baed-42ba-b371-afac2731150f' title='Show/Hide index repr'><svg class='icon xr-icon-database'><use xlink:href='#icon-database'></use></svg></label><div class='xr-index-data'><pre>PandasIndex(Int64Index([0, 1, 2, 3, 4, 5, 6, 7, 8, 9, 10, 11, 12, 13, 14, 15, 16, 17, 18,\n            19],\n           dtype=&#x27;int64&#x27;, name=&#x27;process_noise_dim_0&#x27;))</pre></div></li></ul></div></li><li class='xr-section-item'><input id='section-19422527-09a7-4636-b50b-3733c38946fc' class='xr-section-summary-in' type='checkbox' disabled ><label for='section-19422527-09a7-4636-b50b-3733c38946fc' class='xr-section-summary'  title='Expand/collapse section'>Attributes: <span>(0)</span></label><div class='xr-section-inline-details'></div><div class='xr-section-details'><dl class='xr-attrs'></dl></div></li></ul></div></div>"
     },
     "execution_count": 3,
     "metadata": {},
     "output_type": "execute_result"
    }
   ],
   "source": [
    "sbc = az.from_netcdf(f\"data/2hier_s_norm_pn1_saveper_S1N20Q2P2H0R1_M100_ps1/sbc_2est_pnoise1.nc\")\n",
    "pn = sbc.posterior['process_noise']\n",
    "pn"
   ],
   "metadata": {
    "collapsed": false,
    "pycharm": {
     "name": "#%%\n"
    }
   }
  },
  {
   "cell_type": "code",
   "execution_count": null,
   "outputs": [],
   "source": [],
   "metadata": {
    "collapsed": false,
    "pycharm": {
     "name": "#%%\n"
    }
   }
  },
  {
   "cell_type": "code",
   "execution_count": 4,
   "outputs": [
    {
     "data": {
      "text/plain": "[<matplotlib.lines.Line2D at 0x150abb280>]"
     },
     "execution_count": 4,
     "metadata": {},
     "output_type": "execute_result"
    },
    {
     "data": {
      "text/plain": "<Figure size 640x480 with 1 Axes>",
      "image/png": "[encoded data removed]"
     },
     "metadata": {},
     "output_type": "display_data"
    }
   ],
   "source": [
    "sbc.prior['process_noise'].plot()"
   ],
   "metadata": {
    "collapsed": false,
    "pycharm": {
     "name": "#%%\n"
    }
   }
  },
  {
   "cell_type": "code",
   "execution_count": 1,
   "outputs": [
    {
     "ename": "NameError",
     "evalue": "name 'np' is not defined",
     "output_type": "error",
     "traceback": [
      "\u001B[0;31m---------------------------------------------------------------------------\u001B[0m",
      "\u001B[0;31mNameError\u001B[0m                                 Traceback (most recent call last)",
      "Cell \u001B[0;32mIn [1], line 1\u001B[0m\n\u001B[0;32m----> 1\u001B[0m \u001B[43mnp\u001B[49m\u001B[38;5;241m.\u001B[39mstd(sbc\u001B[38;5;241m.\u001B[39mprior[\u001B[38;5;124m'\u001B[39m\u001B[38;5;124mprocess_noise\u001B[39m\u001B[38;5;124m'\u001B[39m]\u001B[38;5;241m.\u001B[39mvalues)\n",
      "\u001B[0;31mNameError\u001B[0m: name 'np' is not defined"
     ]
    }
   ],
   "source": [
    "np.std(sbc.prior['process_noise'].values)"
   ],
   "metadata": {
    "collapsed": false,
    "pycharm": {
     "name": "#%%\n"
    }
   }
  },
  {
   "cell_type": "code",
   "execution_count": 6,
   "outputs": [
    {
     "data": {
      "text/plain": "array([[[[0.0789071, 0.338185 , 0.0783916, ..., 0.258576 , 0.552174 ,\n          0.443393 ],\n         [0.0789071, 0.338185 , 0.0783916, ..., 0.258576 , 0.552174 ,\n          0.443393 ],\n         [0.0789071, 0.338185 , 0.0783916, ..., 0.258576 , 0.552174 ,\n          0.443393 ],\n         ...,\n         [0.0789071, 0.338185 , 0.0783916, ..., 0.258576 , 0.552174 ,\n          0.443393 ],\n         [0.0789071, 0.338185 , 0.0783916, ..., 0.258576 , 0.552174 ,\n          0.443393 ],\n         [0.0789071, 0.338185 , 0.0783916, ..., 0.258576 , 0.552174 ,\n          0.443393 ]],\n\n        [[0.0789071, 0.338185 , 0.0783916, ..., 0.258576 , 0.552174 ,\n          0.443393 ],\n         [0.0789071, 0.338185 , 0.0783916, ..., 0.258576 , 0.552174 ,\n          0.443393 ],\n         [0.0789071, 0.338185 , 0.0783916, ..., 0.258576 , 0.552174 ,\n          0.443393 ],\n         ...,\n         [0.0789071, 0.338185 , 0.0783916, ..., 0.258576 , 0.552174 ,\n          0.443393 ],\n         [0.0789071, 0.338185 , 0.0783916, ..., 0.258576 , 0.552174 ,\n          0.443393 ],\n         [0.0789071, 0.338185 , 0.0783916, ..., 0.258576 , 0.552174 ,\n          0.443393 ]]]])"
     },
     "execution_count": 6,
     "metadata": {},
     "output_type": "execute_result"
    }
   ],
   "source": [
    "sbc.posterior['process_noise'].values"
   ],
   "metadata": {
    "collapsed": false,
    "pycharm": {
     "name": "#%%\n"
    }
   }
  },
  {
   "cell_type": "code",
   "execution_count": 7,
   "outputs": [
    {
     "data": {
      "text/plain": "0.20803550013317587"
     },
     "execution_count": 7,
     "metadata": {},
     "output_type": "execute_result"
    }
   ],
   "source": [
    "np.std(sbc.prior['process_noise'].values)"
   ],
   "metadata": {
    "collapsed": false,
    "pycharm": {
     "name": "#%%\n"
    }
   }
  },
  {
   "cell_type": "code",
   "execution_count": 8,
   "outputs": [
    {
     "data": {
      "text/plain": "0.20803550013317587"
     },
     "execution_count": 8,
     "metadata": {},
     "output_type": "execute_result"
    }
   ],
   "source": [
    "np.std(sbc.posterior['process_noise'].values.flatten())"
   ],
   "metadata": {
    "collapsed": false,
    "pycharm": {
     "name": "#%%\n"
    }
   }
  },
  {
   "cell_type": "code",
   "execution_count": 11,
   "outputs": [
    {
     "data": {
      "text/plain": "0.027381449636864674"
     },
     "execution_count": 11,
     "metadata": {},
     "output_type": "execute_result"
    }
   ],
   "source": [
    "np.std(sbc.posterior['process_noise'].values.flatten())"
   ],
   "metadata": {
    "collapsed": false,
    "pycharm": {
     "name": "#%%\n"
    }
   }
  },
  {
   "cell_type": "code",
   "execution_count": 9,
   "outputs": [
    {
     "data": {
      "text/plain": "<AxesSubplot: >"
     },
     "execution_count": 9,
     "metadata": {},
     "output_type": "execute_result"
    },
    {
     "data": {
      "text/plain": "<Figure size 640x480 with 1 Axes>",
      "image/png": "[encoded data removed]"
     },
     "metadata": {},
     "output_type": "display_data"
    }
   ],
   "source": [
    "pd.Series(sbc.posterior['process_noise'].values.flatten()).plot()"
   ],
   "metadata": {
    "collapsed": false,
    "pycharm": {
     "name": "#%%\n"
    }
   }
  },
  {
   "cell_type": "code",
   "execution_count": null,
   "outputs": [],
   "source": [
    "np.sbc.prior_predictive['process_noise_obs'].values() #.1"
   ],
   "metadata": {
    "collapsed": false,
    "pycharm": {
     "name": "#%%\n"
    }
   }
  },
  {
   "cell_type": "markdown",
   "source": [],
   "metadata": {
    "collapsed": false,
    "pycharm": {
     "name": "#%% md\n"
    }
   }
  },
  {
   "cell_type": "markdown",
   "source": [
    "Posterior is very tight without much uncertainty"
   ],
   "metadata": {
    "collapsed": false,
    "pycharm": {
     "name": "#%% md\n"
    }
   }
  },
  {
   "cell_type": "code",
   "execution_count": null,
   "outputs": [],
   "source": [
    "az.plot_posterior(sbc, var_names=setting['est_param_names'])"
   ],
   "metadata": {
    "collapsed": false,
    "pycharm": {
     "name": "#%%\n"
    }
   }
  },
  {
   "cell_type": "markdown",
   "source": [
    "The [forest plot](https://arviz-devs.github.io/arviz/api/generated/arviz.plot_forest.html) shows chains are stuck. Generally, each chain has different values, so plot_posterior that combines gives a semblance of kde, but for this model, each chain returns always the same exact value."
   ],
   "metadata": {
    "collapsed": false,
    "pycharm": {
     "name": "#%% md\n"
    }
   }
  },
  {
   "cell_type": "markdown",
   "source": [
    "summary function returns mean, sd, credible interval for estimated parameter and target simulated vector. mcse, effective sample size (ess), r_hat tells quality of each variables' sample. Refer to [Stan manual](https://mc-stan.org/docs/reference-manual/effective-sample-size.html) for ess details. From large number of r_hat, the covergence of four chains are not good which is verified in more detail below. 1.2 is the usual threshold for r_hat."
   ],
   "metadata": {
    "collapsed": false,
    "pycharm": {
     "name": "#%% md\n"
    }
   }
  },
  {
   "cell_type": "code",
   "execution_count": null,
   "outputs": [],
   "source": [
    "az.summary(sbc.posterior[setting['est_param_names']])"
   ],
   "metadata": {
    "collapsed": false,
    "pycharm": {
     "name": "#%%\n"
    }
   }
  },
  {
   "cell_type": "code",
   "execution_count": null,
   "outputs": [],
   "source": [
    "az.summary(sbc.posterior['m_noise_scale'])"
   ],
   "metadata": {
    "collapsed": false,
    "pycharm": {
     "name": "#%%\n"
    }
   }
  },
  {
   "cell_type": "markdown",
   "source": [
    "The PPC (prior/poseterior predictive check) plot is a standard way for Bayesian checking. It serves complementary role with simulation-based calibration (SBC). Two checks happen in different space: PPC in observation space as time series, SBC in parameter space as rank comparison between the ground truth and retrieved estimated samples. From the plot, posterior predictive's negative values is the most problematic which was expected as the currrent version uses normal likelihood. Changing this to lognoraml or negative binomial can solve this problem, but lognormal has thicker tail creating difficult posterior geometry and negative binomial need transformation to integer value which is known to be not accurate."
   ],
   "metadata": {
    "collapsed": false,
    "pycharm": {
     "name": "#%% md\n"
    }
   }
  },
  {
   "cell_type": "markdown",
   "source": [
    "new plot that compares against time is needed for dynamic models. posterior predictive is quite different from general bayse models."
   ],
   "metadata": {
    "collapsed": false,
    "pycharm": {
     "name": "#%% md\n"
    }
   }
  },
  {
   "cell_type": "code",
   "execution_count": null,
   "outputs": [],
   "source": [
    "data_pairs = dict()\n",
    "for obs_name in output_format['prior_predictive']:\n",
    "    data_pairs[obs_name] = f'{obs_name}_post'\n",
    "az.plot_ppc(sbc, data_pairs = data_pairs)"
   ],
   "metadata": {
    "collapsed": false,
    "pycharm": {
     "name": "#%%\n"
    }
   }
  },
  {
   "cell_type": "markdown",
   "source": [
    "# loglikliehood plots"
   ],
   "metadata": {
    "collapsed": false,
    "pycharm": {
     "name": "#%% md\n"
    }
   }
  },
  {
   "cell_type": "markdown",
   "source": [
    "# Appendix"
   ],
   "metadata": {
    "collapsed": false,
    "pycharm": {
     "name": "#%% md\n"
    }
   }
  },
  {
   "cell_type": "markdown",
   "source": [
    "## model"
   ],
   "metadata": {
    "collapsed": false,
    "pycharm": {
     "name": "#%% md\n"
    }
   }
  },
  {
   "cell_type": "code",
   "execution_count": null,
   "outputs": [],
   "source": [
    "print(CmdStanModel(stan_file=f\"stan_files/{model.model_name}/draws2data.stan\").code())\n",
    "print(CmdStanModel(stan_file=f\"stan_files/{model.model_name}/data2draws.stan\").code())"
   ],
   "metadata": {
    "collapsed": false,
    "pycharm": {
     "name": "#%%\n"
    }
   }
  }
 ],
 "metadata": {
  "kernelspec": {
   "display_name": "Python 3",
   "language": "python",
   "name": "python3"
  },
  "language_info": {
   "codemirror_mode": {
    "name": "ipython",
    "version": 2
   },
   "file_extension": ".py",
   "mimetype": "text/x-python",
   "name": "python",
   "nbconvert_exporter": "python",
   "pygments_lexer": "ipython2",
   "version": "2.7.6"
  }
 },
 "nbformat": 4,
 "nbformat_minor": 0
}