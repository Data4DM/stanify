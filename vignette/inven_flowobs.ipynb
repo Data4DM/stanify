{
 "cells": [
  {
   "cell_type": "markdown",
   "source": [
    "##  developing model families using visual diagnostics and numeric summaries\n",
    "If you run the user interface code which states input and output format as below, it creates specific model, data, plot (two `.stan`, two `.nc files, multiple plots) in three folders. With minimal number of clicks, your model quality can be inspected. This aim of this vignette is to inspect how given the two outputs (model and data) can be analyzed for your next move.\n",
    "\n",
    "keyword: simulation-based calibration, pair plots, divergence, InferenceData"
   ],
   "metadata": {
    "collapsed": false,
    "pycharm": {
     "name": "#%% md\n"
    }
   }
  },
  {
   "cell_type": "markdown",
   "source": [
    "<div>\n",
    "<img src=\"../vensim_models/inventory/inven_1est_invenadjtime.png\" width=\"800\"/>\n",
    "</div>"
   ],
   "metadata": {
    "collapsed": false,
    "pycharm": {
     "name": "#%% md\n"
    }
   }
  },
  {
   "cell_type": "markdown",
   "source": [
    "\n",
    "\n",
    "## user interface"
   ],
   "metadata": {
    "collapsed": false,
    "pycharm": {
     "name": "#%% md\n"
    }
   }
  },
  {
   "cell_type": "code",
   "execution_count": 16,
   "outputs": [
    {
     "data": {
      "text/plain": "<xarray.Dataset>\nDimensions:            (prior_draw: 1, time: 20)\nCoordinates:\n    chain              (prior_draw) int64 ...\n    draw               (prior_draw) int64 ...\n  * time               (time) float64 0.01 0.51 1.01 1.51 ... 8.51 9.01 9.51\nDimensions without coordinates: prior_draw\nData variables:\n    stocked_ping_obs   (time, prior_draw) float64 ...\n    stocked_pping_obs  (time, prior_draw) float64 ...\nAttributes: (4)",
      "text/html": "<div><svg style=\"position: absolute; width: 0; height: 0; overflow: hidden\">\n<defs>\n<symbol id=\"icon-database\" viewBox=\"0 0 32 32\">\n<path d=\"M16 0c-8.837 0-16 2.239-16 5v4c0 2.761 7.163 5 16 5s16-2.239 16-5v-4c0-2.761-7.163-5-16-5z\"></path>\n<path d=\"M16 17c-8.837 0-16-2.239-16-5v6c0 2.761 7.163 5 16 5s16-2.239 16-5v-6c0 2.761-7.163 5-16 5z\"></path>\n<path d=\"M16 26c-8.837 0-16-2.239-16-5v6c0 2.761 7.163 5 16 5s16-2.239 16-5v-6c0 2.761-7.163 5-16 5z\"></path>\n</symbol>\n<symbol id=\"icon-file-text2\" viewBox=\"0 0 32 32\">\n<path d=\"M28.681 7.159c-0.694-0.947-1.662-2.053-2.724-3.116s-2.169-2.030-3.116-2.724c-1.612-1.182-2.393-1.319-2.841-1.319h-15.5c-1.378 0-2.5 1.121-2.5 2.5v27c0 1.378 1.122 2.5 2.5 2.5h23c1.378 0 2.5-1.122 2.5-2.5v-19.5c0-0.448-0.137-1.23-1.319-2.841zM24.543 5.457c0.959 0.959 1.712 1.825 2.268 2.543h-4.811v-4.811c0.718 0.556 1.584 1.309 2.543 2.268zM28 29.5c0 0.271-0.229 0.5-0.5 0.5h-23c-0.271 0-0.5-0.229-0.5-0.5v-27c0-0.271 0.229-0.5 0.5-0.5 0 0 15.499-0 15.5 0v7c0 0.552 0.448 1 1 1h7v19.5z\"></path>\n<path d=\"M23 26h-14c-0.552 0-1-0.448-1-1s0.448-1 1-1h14c0.552 0 1 0.448 1 1s-0.448 1-1 1z\"></path>\n<path d=\"M23 22h-14c-0.552 0-1-0.448-1-1s0.448-1 1-1h14c0.552 0 1 0.448 1 1s-0.448 1-1 1z\"></path>\n<path d=\"M23 18h-14c-0.552 0-1-0.448-1-1s0.448-1 1-1h14c0.552 0 1 0.448 1 1s-0.448 1-1 1z\"></path>\n</symbol>\n</defs>\n</svg>\n<style>/* CSS stylesheet for displaying xarray objects in jupyterlab.\n *\n */\n\n:root {\n  --xr-font-color0: var(--jp-content-font-color0, rgba(0, 0, 0, 1));\n  --xr-font-color2: var(--jp-content-font-color2, rgba(0, 0, 0, 0.54));\n  --xr-font-color3: var(--jp-content-font-color3, rgba(0, 0, 0, 0.38));\n  --xr-border-color: var(--jp-border-color2, #e0e0e0);\n  --xr-disabled-color: var(--jp-layout-color3, #bdbdbd);\n  --xr-background-color: var(--jp-layout-color0, white);\n  --xr-background-color-row-even: var(--jp-layout-color1, white);\n  --xr-background-color-row-odd: var(--jp-layout-color2, #eeeeee);\n}\n\nhtml[theme=dark],\nbody[data-theme=dark],\nbody.vscode-dark {\n  --xr-font-color0: rgba(255, 255, 255, 1);\n  --xr-font-color2: rgba(255, 255, 255, 0.54);\n  --xr-font-color3: rgba(255, 255, 255, 0.38);\n  --xr-border-color: #1F1F1F;\n  --xr-disabled-color: #515151;\n  --xr-background-color: #111111;\n  --xr-background-color-row-even: #111111;\n  --xr-background-color-row-odd: #313131;\n}\n\n.xr-wrap {\n  display: block !important;\n  min-width: 300px;\n  max-width: 700px;\n}\n\n.xr-text-repr-fallback {\n  /* fallback to plain text repr when CSS is not injected (untrusted notebook) */\n  display: none;\n}\n\n.xr-header {\n  padding-top: 6px;\n  padding-bottom: 6px;\n  margin-bottom: 4px;\n  border-bottom: solid 1px var(--xr-border-color);\n}\n\n.xr-header > div,\n.xr-header > ul {\n  display: inline;\n  margin-top: 0;\n  margin-bottom: 0;\n}\n\n.xr-obj-type,\n.xr-array-name {\n  margin-left: 2px;\n  margin-right: 10px;\n}\n\n.xr-obj-type {\n  color: var(--xr-font-color2);\n}\n\n.xr-sections {\n  padding-left: 0 !important;\n  display: grid;\n  grid-template-columns: 150px auto auto 1fr 20px 20px;\n}\n\n.xr-section-item {\n  display: contents;\n}\n\n.xr-section-item input {\n  display: none;\n}\n\n.xr-section-item input + label {\n  color: var(--xr-disabled-color);\n}\n\n.xr-section-item input:enabled + label {\n  cursor: pointer;\n  color: var(--xr-font-color2);\n}\n\n.xr-section-item input:enabled + label:hover {\n  color: var(--xr-font-color0);\n}\n\n.xr-section-summary {\n  grid-column: 1;\n  color: var(--xr-font-color2);\n  font-weight: 500;\n}\n\n.xr-section-summary > span {\n  display: inline-block;\n  padding-left: 0.5em;\n}\n\n.xr-section-summary-in:disabled + label {\n  color: var(--xr-font-color2);\n}\n\n.xr-section-summary-in + label:before {\n  display: inline-block;\n  content: '►';\n  font-size: 11px;\n  width: 15px;\n  text-align: center;\n}\n\n.xr-section-summary-in:disabled + label:before {\n  color: var(--xr-disabled-color);\n}\n\n.xr-section-summary-in:checked + label:before {\n  content: '▼';\n}\n\n.xr-section-summary-in:checked + label > span {\n  display: none;\n}\n\n.xr-section-summary,\n.xr-section-inline-details {\n  padding-top: 4px;\n  padding-bottom: 4px;\n}\n\n.xr-section-inline-details {\n  grid-column: 2 / -1;\n}\n\n.xr-section-details {\n  display: none;\n  grid-column: 1 / -1;\n  margin-bottom: 5px;\n}\n\n.xr-section-summary-in:checked ~ .xr-section-details {\n  display: contents;\n}\n\n.xr-array-wrap {\n  grid-column: 1 / -1;\n  display: grid;\n  grid-template-columns: 20px auto;\n}\n\n.xr-array-wrap > label {\n  grid-column: 1;\n  vertical-align: top;\n}\n\n.xr-preview {\n  color: var(--xr-font-color3);\n}\n\n.xr-array-preview,\n.xr-array-data {\n  padding: 0 5px !important;\n  grid-column: 2;\n}\n\n.xr-array-data,\n.xr-array-in:checked ~ .xr-array-preview {\n  display: none;\n}\n\n.xr-array-in:checked ~ .xr-array-data,\n.xr-array-preview {\n  display: inline-block;\n}\n\n.xr-dim-list {\n  display: inline-block !important;\n  list-style: none;\n  padding: 0 !important;\n  margin: 0;\n}\n\n.xr-dim-list li {\n  display: inline-block;\n  padding: 0;\n  margin: 0;\n}\n\n.xr-dim-list:before {\n  content: '(';\n}\n\n.xr-dim-list:after {\n  content: ')';\n}\n\n.xr-dim-list li:not(:last-child):after {\n  content: ',';\n  padding-right: 5px;\n}\n\n.xr-has-index {\n  font-weight: bold;\n}\n\n.xr-var-list,\n.xr-var-item {\n  display: contents;\n}\n\n.xr-var-item > div,\n.xr-var-item label,\n.xr-var-item > .xr-var-name span {\n  background-color: var(--xr-background-color-row-even);\n  margin-bottom: 0;\n}\n\n.xr-var-item > .xr-var-name:hover span {\n  padding-right: 5px;\n}\n\n.xr-var-list > li:nth-child(odd) > div,\n.xr-var-list > li:nth-child(odd) > label,\n.xr-var-list > li:nth-child(odd) > .xr-var-name span {\n  background-color: var(--xr-background-color-row-odd);\n}\n\n.xr-var-name {\n  grid-column: 1;\n}\n\n.xr-var-dims {\n  grid-column: 2;\n}\n\n.xr-var-dtype {\n  grid-column: 3;\n  text-align: right;\n  color: var(--xr-font-color2);\n}\n\n.xr-var-preview {\n  grid-column: 4;\n}\n\n.xr-index-preview {\n  grid-column: 2 / 5;\n  color: var(--xr-font-color2);\n}\n\n.xr-var-name,\n.xr-var-dims,\n.xr-var-dtype,\n.xr-preview,\n.xr-attrs dt {\n  white-space: nowrap;\n  overflow: hidden;\n  text-overflow: ellipsis;\n  padding-right: 10px;\n}\n\n.xr-var-name:hover,\n.xr-var-dims:hover,\n.xr-var-dtype:hover,\n.xr-attrs dt:hover {\n  overflow: visible;\n  width: auto;\n  z-index: 1;\n}\n\n.xr-var-attrs,\n.xr-var-data,\n.xr-index-data {\n  display: none;\n  background-color: var(--xr-background-color) !important;\n  padding-bottom: 5px !important;\n}\n\n.xr-var-attrs-in:checked ~ .xr-var-attrs,\n.xr-var-data-in:checked ~ .xr-var-data,\n.xr-index-data-in:checked ~ .xr-index-data {\n  display: block;\n}\n\n.xr-var-data > table {\n  float: right;\n}\n\n.xr-var-name span,\n.xr-var-data,\n.xr-index-name div,\n.xr-index-data,\n.xr-attrs {\n  padding-left: 25px !important;\n}\n\n.xr-attrs,\n.xr-var-attrs,\n.xr-var-data,\n.xr-index-data {\n  grid-column: 1 / -1;\n}\n\ndl.xr-attrs {\n  padding: 0;\n  margin: 0;\n  display: grid;\n  grid-template-columns: 125px auto;\n}\n\n.xr-attrs dt,\n.xr-attrs dd {\n  padding: 0;\n  margin: 0;\n  float: left;\n  padding-right: 10px;\n  width: auto;\n}\n\n.xr-attrs dt {\n  font-weight: normal;\n  grid-column: 1;\n}\n\n.xr-attrs dt:hover span {\n  display: inline-block;\n  background: var(--xr-background-color);\n  padding-right: 10px;\n}\n\n.xr-attrs dd {\n  grid-column: 2;\n  white-space: pre-wrap;\n  word-break: break-all;\n}\n\n.xr-icon-database,\n.xr-icon-file-text2,\n.xr-no-icon {\n  display: inline-block;\n  vertical-align: middle;\n  width: 1em;\n  height: 1.5em !important;\n  stroke-width: 0;\n  stroke: currentColor;\n  fill: currentColor;\n}\n</style><pre class='xr-text-repr-fallback'>&lt;xarray.Dataset&gt;\nDimensions:            (prior_draw: 1, time: 20)\nCoordinates:\n    chain              (prior_draw) int64 ...\n    draw               (prior_draw) int64 ...\n  * time               (time) float64 0.01 0.51 1.01 1.51 ... 8.51 9.01 9.51\nDimensions without coordinates: prior_draw\nData variables:\n    stocked_ping_obs   (time, prior_draw) float64 ...\n    stocked_pping_obs  (time, prior_draw) float64 ...\nAttributes: (4)</pre><div class='xr-wrap' style='display:none'><div class='xr-header'><div class='xr-obj-type'>xarray.Dataset</div></div><ul class='xr-sections'><li class='xr-section-item'><input id='section-ceb0c187-c6df-4ee7-922a-cfd5583f7eb6' class='xr-section-summary-in' type='checkbox' disabled ><label for='section-ceb0c187-c6df-4ee7-922a-cfd5583f7eb6' class='xr-section-summary'  title='Expand/collapse section'>Dimensions:</label><div class='xr-section-inline-details'><ul class='xr-dim-list'><li><span>prior_draw</span>: 1</li><li><span class='xr-has-index'>time</span>: 20</li></ul></div><div class='xr-section-details'></div></li><li class='xr-section-item'><input id='section-4e51b800-c848-4956-81c8-7a281be8d25c' class='xr-section-summary-in' type='checkbox'  checked><label for='section-4e51b800-c848-4956-81c8-7a281be8d25c' class='xr-section-summary' >Coordinates: <span>(3)</span></label><div class='xr-section-inline-details'></div><div class='xr-section-details'><ul class='xr-var-list'><li class='xr-var-item'><div class='xr-var-name'><span>chain</span></div><div class='xr-var-dims'>(prior_draw)</div><div class='xr-var-dtype'>int64</div><div class='xr-var-preview xr-preview'>...</div><input id='attrs-fc8fca3f-adee-4788-a1e2-76326c7f2e36' class='xr-var-attrs-in' type='checkbox' disabled><label for='attrs-fc8fca3f-adee-4788-a1e2-76326c7f2e36' title='Show/Hide attributes'><svg class='icon xr-icon-file-text2'><use xlink:href='#icon-file-text2'></use></svg></label><input id='data-4b4ab84f-7e2d-413a-bf8d-9e7db6d8c950' class='xr-var-data-in' type='checkbox'><label for='data-4b4ab84f-7e2d-413a-bf8d-9e7db6d8c950' title='Show/Hide data repr'><svg class='icon xr-icon-database'><use xlink:href='#icon-database'></use></svg></label><div class='xr-var-attrs'><dl class='xr-attrs'></dl></div><div class='xr-var-data'><pre>[1 values with dtype=int64]</pre></div></li><li class='xr-var-item'><div class='xr-var-name'><span>draw</span></div><div class='xr-var-dims'>(prior_draw)</div><div class='xr-var-dtype'>int64</div><div class='xr-var-preview xr-preview'>...</div><input id='attrs-e4e1b04b-38d9-4e6d-a3b8-dc0029269b80' class='xr-var-attrs-in' type='checkbox' disabled><label for='attrs-e4e1b04b-38d9-4e6d-a3b8-dc0029269b80' title='Show/Hide attributes'><svg class='icon xr-icon-file-text2'><use xlink:href='#icon-file-text2'></use></svg></label><input id='data-e0c79033-6100-4fcc-a04b-3b9cf71c5f95' class='xr-var-data-in' type='checkbox'><label for='data-e0c79033-6100-4fcc-a04b-3b9cf71c5f95' title='Show/Hide data repr'><svg class='icon xr-icon-database'><use xlink:href='#icon-database'></use></svg></label><div class='xr-var-attrs'><dl class='xr-attrs'></dl></div><div class='xr-var-data'><pre>[1 values with dtype=int64]</pre></div></li><li class='xr-var-item'><div class='xr-var-name'><span class='xr-has-index'>time</span></div><div class='xr-var-dims'>(time)</div><div class='xr-var-dtype'>float64</div><div class='xr-var-preview xr-preview'>0.01 0.51 1.01 ... 8.51 9.01 9.51</div><input id='attrs-bcaa0aba-6021-4049-b328-855b93739a20' class='xr-var-attrs-in' type='checkbox' disabled><label for='attrs-bcaa0aba-6021-4049-b328-855b93739a20' title='Show/Hide attributes'><svg class='icon xr-icon-file-text2'><use xlink:href='#icon-file-text2'></use></svg></label><input id='data-64e3131b-649a-492a-ab76-9320f415fa94' class='xr-var-data-in' type='checkbox'><label for='data-64e3131b-649a-492a-ab76-9320f415fa94' title='Show/Hide data repr'><svg class='icon xr-icon-database'><use xlink:href='#icon-database'></use></svg></label><div class='xr-var-attrs'><dl class='xr-attrs'></dl></div><div class='xr-var-data'><pre>array([0.01, 0.51, 1.01, 1.51, 2.01, 2.51, 3.01, 3.51, 4.01, 4.51, 5.01, 5.51,\n       6.01, 6.51, 7.01, 7.51, 8.01, 8.51, 9.01, 9.51])</pre></div></li></ul></div></li><li class='xr-section-item'><input id='section-59a09553-f08a-4964-b517-97da9acc1df5' class='xr-section-summary-in' type='checkbox'  checked><label for='section-59a09553-f08a-4964-b517-97da9acc1df5' class='xr-section-summary' >Data variables: <span>(2)</span></label><div class='xr-section-inline-details'></div><div class='xr-section-details'><ul class='xr-var-list'><li class='xr-var-item'><div class='xr-var-name'><span>stocked_ping_obs</span></div><div class='xr-var-dims'>(time, prior_draw)</div><div class='xr-var-dtype'>float64</div><div class='xr-var-preview xr-preview'>...</div><input id='attrs-a6acf16a-6bc5-41c4-84e5-66eaeab2e7d2' class='xr-var-attrs-in' type='checkbox' disabled><label for='attrs-a6acf16a-6bc5-41c4-84e5-66eaeab2e7d2' title='Show/Hide attributes'><svg class='icon xr-icon-file-text2'><use xlink:href='#icon-file-text2'></use></svg></label><input id='data-0620175e-aadf-4ee4-aee1-2a146e661ee6' class='xr-var-data-in' type='checkbox'><label for='data-0620175e-aadf-4ee4-aee1-2a146e661ee6' title='Show/Hide data repr'><svg class='icon xr-icon-database'><use xlink:href='#icon-database'></use></svg></label><div class='xr-var-attrs'><dl class='xr-attrs'></dl></div><div class='xr-var-data'><pre>[20 values with dtype=float64]</pre></div></li><li class='xr-var-item'><div class='xr-var-name'><span>stocked_pping_obs</span></div><div class='xr-var-dims'>(time, prior_draw)</div><div class='xr-var-dtype'>float64</div><div class='xr-var-preview xr-preview'>...</div><input id='attrs-37e81842-6ee3-40f7-b246-d377a066a841' class='xr-var-attrs-in' type='checkbox' disabled><label for='attrs-37e81842-6ee3-40f7-b246-d377a066a841' title='Show/Hide attributes'><svg class='icon xr-icon-file-text2'><use xlink:href='#icon-file-text2'></use></svg></label><input id='data-9f5949f0-87a3-48ba-ba74-8a56999d5482' class='xr-var-data-in' type='checkbox'><label for='data-9f5949f0-87a3-48ba-ba74-8a56999d5482' title='Show/Hide data repr'><svg class='icon xr-icon-database'><use xlink:href='#icon-database'></use></svg></label><div class='xr-var-attrs'><dl class='xr-attrs'></dl></div><div class='xr-var-data'><pre>[20 values with dtype=float64]</pre></div></li></ul></div></li><li class='xr-section-item'><input id='section-c942c8f4-8cd3-4b44-9cd2-cc0e9dbc2a1b' class='xr-section-summary-in' type='checkbox'  ><label for='section-c942c8f4-8cd3-4b44-9cd2-cc0e9dbc2a1b' class='xr-section-summary' >Indexes: <span>(1)</span></label><div class='xr-section-inline-details'></div><div class='xr-section-details'><ul class='xr-var-list'><li class='xr-var-item'><div class='xr-index-name'><div>time</div></div><div class='xr-index-preview'>PandasIndex</div><div></div><input id='index-decec38e-6a07-42c8-9b79-7499cbe75aea' class='xr-index-data-in' type='checkbox'/><label for='index-decec38e-6a07-42c8-9b79-7499cbe75aea' title='Show/Hide index repr'><svg class='icon xr-icon-database'><use xlink:href='#icon-database'></use></svg></label><div class='xr-index-data'><pre>PandasIndex(Float64Index([0.01, 0.51, 1.01, 1.51, 2.01, 2.51, 3.01, 3.51, 4.01, 4.51, 5.01,\n              5.51, 6.01, 6.51, 7.01, 7.51, 8.01, 8.51, 9.01, 9.51],\n             dtype=&#x27;float64&#x27;, name=&#x27;time&#x27;))</pre></div></li></ul></div></li><li class='xr-section-item'><input id='section-84c60658-9cd3-454b-a2da-d57fef2ffd87' class='xr-section-summary-in' type='checkbox'  ><label for='section-84c60658-9cd3-454b-a2da-d57fef2ffd87' class='xr-section-summary' >Attributes: <span>(4)</span></label><div class='xr-section-inline-details'></div><div class='xr-section-details'><dl class='xr-attrs'><dt><span>created_at :</span></dt><dd>2023-01-01T03:29:33.325454</dd><dt><span>arviz_version :</span></dt><dd>0.15.0.dev0</dd><dt><span>inference_library :</span></dt><dd>cmdstanpy</dd><dt><span>inference_library_version :</span></dt><dd>1.0.8</dd></dl></div></li></ul></div></div>"
     },
     "execution_count": 16,
     "metadata": {},
     "output_type": "execute_result"
    }
   ],
   "source": [
    "sbc.observed_data"
   ],
   "metadata": {
    "collapsed": false,
    "pycharm": {
     "name": "#%%\n"
    }
   }
  },
  {
   "cell_type": "code",
   "execution_count": 41,
   "outputs": [],
   "source": [
    "setting = {\n",
    "    \"est_param_names\" : [\"adj_frac1_loc\", \"adj_frac2_loc\",  \"adj_frac1\", \"adj_frac2\"], #\"adj_frac3\"], # \"ss2p_frac4\"],# \"ss2p_frac4\"\n",
    "    \"hier_est_param_names\": [\"adj_frac1\", \"adj_frac2\"],#, \"adj_frac3\"],# \"ss2p_frac4\"],\n",
    "    \"target_sim_vector_names\" : [\"stocked_ping\", \"stocked_pping\"],\n",
    "    \"driving_vector_names\" : [\"exog_demand\", \"process_noise_normal_driving\"],\n",
    "    \"model_name\": \"2hier_s_norm_pn1_saveper\"\n",
    "}"
   ],
   "metadata": {
    "collapsed": false,
    "pycharm": {
     "name": "#%%\n"
    }
   }
  },
  {
   "cell_type": "code",
   "execution_count": 1,
   "outputs": [
    {
     "ename": "FileNotFoundError",
     "evalue": "[Errno 2] No such file or directory: b'data/inven_share_bmajor_ln_S2N20Q2P1H0R1_M100_ps0.1/sbc_4est_pnoise0.0.nc'",
     "output_type": "error",
     "traceback": [
      "\u001B[0;31m---------------------------------------------------------------------------\u001B[0m",
      "\u001B[0;31mFileNotFoundError\u001B[0m                         Traceback (most recent call last)",
      "Cell \u001B[0;32mIn [1], line 6\u001B[0m\n\u001B[1;32m      4\u001B[0m \u001B[38;5;28;01mimport\u001B[39;00m \u001B[38;5;21;01marviz\u001B[39;00m \u001B[38;5;28;01mas\u001B[39;00m \u001B[38;5;21;01maz\u001B[39;00m\n\u001B[1;32m      5\u001B[0m \u001B[38;5;28;01mimport\u001B[39;00m \u001B[38;5;21;01mnumpy\u001B[39;00m \u001B[38;5;28;01mas\u001B[39;00m \u001B[38;5;21;01mnp\u001B[39;00m\n\u001B[0;32m----> 6\u001B[0m sbc \u001B[38;5;241m=\u001B[39m \u001B[43maz\u001B[49m\u001B[38;5;241;43m.\u001B[39;49m\u001B[43mfrom_netcdf\u001B[49m\u001B[43m(\u001B[49m\u001B[38;5;124;43mf\u001B[39;49m\u001B[38;5;124;43m\"\u001B[39;49m\u001B[38;5;124;43mdata/inven_share_bmajor_ln_S2N20Q2P1H0R1_M100_ps0.1/sbc_4est_pnoise0.0.nc\u001B[39;49m\u001B[38;5;124;43m\"\u001B[39;49m\u001B[43m)\u001B[49m\n\u001B[1;32m      7\u001B[0m precision \u001B[38;5;241m=\u001B[39m{\n\u001B[1;32m      8\u001B[0m     \u001B[38;5;124m\"\u001B[39m\u001B[38;5;124mS\u001B[39m\u001B[38;5;124m\"\u001B[39m: \u001B[38;5;241m2\u001B[39m,\n\u001B[1;32m      9\u001B[0m     \u001B[38;5;124m\"\u001B[39m\u001B[38;5;124mM\u001B[39m\u001B[38;5;124m\"\u001B[39m: \u001B[38;5;241m1000\u001B[39m,\n\u001B[1;32m     10\u001B[0m     \u001B[38;5;124m\"\u001B[39m\u001B[38;5;124mN\u001B[39m\u001B[38;5;124m\"\u001B[39m: \u001B[38;5;241m20\u001B[39m,\n\u001B[1;32m     11\u001B[0m     \u001B[38;5;124m\"\u001B[39m\u001B[38;5;124mR\u001B[39m\u001B[38;5;124m\"\u001B[39m: \u001B[38;5;241m1\u001B[39m\n\u001B[1;32m     12\u001B[0m }\n\u001B[1;32m     13\u001B[0m setting \u001B[38;5;241m=\u001B[39m {\n\u001B[1;32m     14\u001B[0m     \u001B[38;5;124m\"\u001B[39m\u001B[38;5;124mest_param_names\u001B[39m\u001B[38;5;124m\"\u001B[39m : [\u001B[38;5;124m\"\u001B[39m\u001B[38;5;124madj_frac1\u001B[39m\u001B[38;5;124m\"\u001B[39m, \u001B[38;5;124m\"\u001B[39m\u001B[38;5;124madj_frac2\u001B[39m\u001B[38;5;124m\"\u001B[39m],\n\u001B[1;32m     15\u001B[0m     \u001B[38;5;124m\"\u001B[39m\u001B[38;5;124mhier_est_param_names\u001B[39m\u001B[38;5;124m\"\u001B[39m: [],\n\u001B[0;32m   (...)\u001B[0m\n\u001B[1;32m     18\u001B[0m     \u001B[38;5;124m\"\u001B[39m\u001B[38;5;124mmodel_name\u001B[39m\u001B[38;5;124m\"\u001B[39m: \u001B[38;5;124m\"\u001B[39m\u001B[38;5;124ma\u001B[39m\u001B[38;5;124m\"\u001B[39m\n\u001B[1;32m     19\u001B[0m }\n",
      "File \u001B[0;32m~/Dropbox/stanify/venv/lib/python3.10/site-packages/arviz/data/io_netcdf.py:34\u001B[0m, in \u001B[0;36mfrom_netcdf\u001B[0;34m(filename, group_kwargs, regex)\u001B[0m\n\u001B[1;32m     32\u001B[0m \u001B[38;5;28;01mif\u001B[39;00m group_kwargs \u001B[38;5;129;01mis\u001B[39;00m \u001B[38;5;28;01mNone\u001B[39;00m:\n\u001B[1;32m     33\u001B[0m     group_kwargs \u001B[38;5;241m=\u001B[39m {}\n\u001B[0;32m---> 34\u001B[0m \u001B[38;5;28;01mreturn\u001B[39;00m \u001B[43mInferenceData\u001B[49m\u001B[38;5;241;43m.\u001B[39;49m\u001B[43mfrom_netcdf\u001B[49m\u001B[43m(\u001B[49m\u001B[43mfilename\u001B[49m\u001B[43m,\u001B[49m\u001B[43m \u001B[49m\u001B[43mgroup_kwargs\u001B[49m\u001B[43m,\u001B[49m\u001B[43m \u001B[49m\u001B[43mregex\u001B[49m\u001B[43m)\u001B[49m\n",
      "File \u001B[0;32m~/Dropbox/stanify/venv/lib/python3.10/site-packages/arviz/data/inference_data.py:402\u001B[0m, in \u001B[0;36mInferenceData.from_netcdf\u001B[0;34m(filename, group_kwargs, regex)\u001B[0m\n\u001B[1;32m    391\u001B[0m \u001B[38;5;28;01mif\u001B[39;00m err\u001B[38;5;241m.\u001B[39merrno \u001B[38;5;241m==\u001B[39m \u001B[38;5;241m-\u001B[39m\u001B[38;5;241m101\u001B[39m:\n\u001B[1;32m    392\u001B[0m     \u001B[38;5;28;01mraise\u001B[39;00m \u001B[38;5;28mtype\u001B[39m(err)(\n\u001B[1;32m    393\u001B[0m         \u001B[38;5;28mstr\u001B[39m(err)\n\u001B[1;32m    394\u001B[0m         \u001B[38;5;241m+\u001B[39m (\n\u001B[0;32m   (...)\u001B[0m\n\u001B[1;32m    400\u001B[0m         )\n\u001B[1;32m    401\u001B[0m     ) \u001B[38;5;28;01mfrom\u001B[39;00m \u001B[38;5;21;01merr\u001B[39;00m\n\u001B[0;32m--> 402\u001B[0m \u001B[38;5;28;01mraise\u001B[39;00m err\n",
      "File \u001B[0;32m~/Dropbox/stanify/venv/lib/python3.10/site-packages/arviz/data/inference_data.py:369\u001B[0m, in \u001B[0;36mInferenceData.from_netcdf\u001B[0;34m(filename, group_kwargs, regex)\u001B[0m\n\u001B[1;32m    366\u001B[0m attrs \u001B[38;5;241m=\u001B[39m {}\n\u001B[1;32m    368\u001B[0m \u001B[38;5;28;01mtry\u001B[39;00m:\n\u001B[0;32m--> 369\u001B[0m     \u001B[38;5;28;01mwith\u001B[39;00m \u001B[43mnc\u001B[49m\u001B[38;5;241;43m.\u001B[39;49m\u001B[43mDataset\u001B[49m\u001B[43m(\u001B[49m\u001B[43mfilename\u001B[49m\u001B[43m,\u001B[49m\u001B[43m \u001B[49m\u001B[43mmode\u001B[49m\u001B[38;5;241;43m=\u001B[39;49m\u001B[38;5;124;43m\"\u001B[39;49m\u001B[38;5;124;43mr\u001B[39;49m\u001B[38;5;124;43m\"\u001B[39;49m\u001B[43m)\u001B[49m \u001B[38;5;28;01mas\u001B[39;00m data:\n\u001B[1;32m    370\u001B[0m         data_groups \u001B[38;5;241m=\u001B[39m \u001B[38;5;28mlist\u001B[39m(data\u001B[38;5;241m.\u001B[39mgroups)\n\u001B[1;32m    372\u001B[0m     \u001B[38;5;28;01mfor\u001B[39;00m group \u001B[38;5;129;01min\u001B[39;00m data_groups:\n",
      "File \u001B[0;32msrc/netCDF4/_netCDF4.pyx:2463\u001B[0m, in \u001B[0;36mnetCDF4._netCDF4.Dataset.__init__\u001B[0;34m()\u001B[0m\n",
      "File \u001B[0;32msrc/netCDF4/_netCDF4.pyx:2026\u001B[0m, in \u001B[0;36mnetCDF4._netCDF4._ensure_nc_success\u001B[0;34m()\u001B[0m\n",
      "\u001B[0;31mFileNotFoundError\u001B[0m: [Errno 2] No such file or directory: b'data/inven_share_bmajor_ln_S2N20Q2P1H0R1_M100_ps0.1/sbc_4est_pnoise0.0.nc'"
     ]
    }
   ],
   "source": [
    "import xarray as xr\n",
    "from scipy.stats import lognorm\n",
    "from stanify.calibrator.visualizer import plot_sbc_rank, plot_sbc_ecdf\n",
    "import arviz as az\n",
    "import numpy as np\n",
    "sbc = az.from_netcdf(f\"data/inven_share_bmajor_ln_S2N20Q2P1H0R1_M100_ps0.1/sbc_4est_pnoise0.0.nc\")\n",
    "precision ={\n",
    "    \"S\": 2,\n",
    "    \"M\": 1000,\n",
    "    \"N\": 20,\n",
    "    \"R\": 1\n",
    "}\n",
    "setting = {\n",
    "    \"est_param_names\" : [\"adj_frac1\", \"adj_frac2\"],\n",
    "    \"hier_est_param_names\": [],\n",
    "    \"target_simulated_vector_names\" : [\"stocked_ping\", \"stocked_pping\"],\n",
    "    \"driving_vector_names\" : [\"exog_demand\", \"process_noise_normal_driving\"],\n",
    "    \"model_name\": \"a\"\n",
    "}\n",
    "def compute_loglik_rank(target_sim_vector_prior:xr.DataArray, m_noise_scale_prior: np.ndarray, observed_data,\n",
    "                        target_sim_vector_post:xr.DataArray, m_noise_scale_post:np.ndarray, S:int): #, data_index=0, chain_index=0):\n",
    "    sbc_rank = []\n",
    "    loglik_prior = []\n",
    "    loglik_post = []\n",
    "    for s in range(S):\n",
    "        loglik_prior = lognorm.logpdf(observed_data, m_noise_scale_prior.sel(prior_draw=s).values,\n",
    "                                      target_sim_vector_prior.sel(prior_draw=s).values)\n",
    "        loglik_post  = lognorm.logpdf(observed_data, m_noise_scale_post.sel(prior_draw=s).values,\n",
    "                                      target_sim_vector_post.sel(prior_draw=s).values)\n",
    "\n",
    "        sbc_rank.append(sum(loglik_post < loglik_prior))\n",
    "        loglik_prior.append(loglik_prior) # length S [.1, .3, .4]\n",
    "        loglik_post.append(loglik_post) # length S [0, .2, .4]\n",
    "    return sbc_rank, loglik_prior, loglik_post\n",
    "\n",
    "\n",
    "idata = sbc\n",
    "loglik_prior = []\n",
    "loglik_post = []\n",
    "for target_sim_vector_name in setting['target_sim_vector_names']:\n",
    "    rank, loglik_prior_q, loglik_post_q = compute_loglik_rank(idata.prior[target_sim_vector_name], idata.prior[\"m_noise_scale\"],\n",
    "                idata.observed_data[f'{target_sim_vector_name}_obs'], idata.posterior[target_sim_vector_name], idata.posterior[\"m_noise_scale\"], precision['S'])\n",
    "    plot_sbc_rank(rank, target_sim_vector_name)\n",
    "    loglik_prior = [sum(i) for i in zip(loglik_prior, loglik_prior_q)]\n",
    "    loglik_post = [sum(i) for i in zip(loglik_post, loglik_post_q)]\n",
    "sbc_rank = sum([i<j for i,j in zip(loglik_prior, loglik_post)])\n",
    "compute_loglik_rank(sbc_rank, \"all\")\n"
   ],
   "metadata": {
    "collapsed": false,
    "pycharm": {
     "name": "#%%\n"
    }
   }
  },
  {
   "cell_type": "code",
   "execution_count": 1,
   "outputs": [
    {
     "name": "stderr",
     "output_type": "stream",
     "text": [
      "10:02:27 - cmdstanpy - INFO - compiling stan file /Users/hyunjimoon/Dropbox/stanify/vignette/stan_files/refactor_S1N20Q2P2H0R1_M10_ps0.1/draws2data.stan to exe file /Users/hyunjimoon/Dropbox/stanify/vignette/stan_files/refactor_S1N20Q2P2H0R1_M10_ps0.1/draws2data\n",
      "10:02:35 - cmdstanpy - INFO - compiled model executable: /Users/hyunjimoon/Dropbox/stanify/vignette/stan_files/refactor_S1N20Q2P2H0R1_M10_ps0.1/draws2data\n",
      "10:02:35 - cmdstanpy - WARNING - Stan compiler has produced 1 warnings:\n",
      "10:02:35 - cmdstanpy - WARNING - \n",
      "--- Translating Stan model to C++ code ---\n",
      "bin/stanc --include-paths=/Users/hyunjimoon/Dropbox/stanify/vignette/stan_files/refactor_S1N20Q2P2H0R1_M10_ps0.1 --o=/Users/hyunjimoon/Dropbox/stanify/vignette/stan_files/refactor_S1N20Q2P2H0R1_M10_ps0.1/draws2data.hpp /Users/hyunjimoon/Dropbox/stanify/vignette/stan_files/refactor_S1N20Q2P2H0R1_M10_ps0.1/draws2data.stan\n",
      "Warning in '/Users/hyunjimoon/Dropbox/stanify/vignette/stan_files/refactor_S1N20Q2P2H0R1_M10_ps0.1/draws2data.stan', line 56, column 4: Declaration\n",
      "    of arrays by placing brackets after a variable name is deprecated and\n",
      "    will be removed in Stan 2.32.0. Instead use the array keyword before the\n",
      "    type. This can be changed automatically using the auto-format flag to\n",
      "    stanc\n",
      "\n",
      "--- Compiling, linking C++ code ---\n",
      "clang++ -std=c++1y -Wno-unknown-warning-option -Wno-tautological-compare -Wno-sign-compare -D_REENTRANT -Wno-ignored-attributes     -DSTAN_THREADS -I stan/lib/stan_math/lib/tbb_2020.3/include    -O3 -I src -I stan/src -I lib/rapidjson_1.1.0/ -I lib/CLI11-1.9.1/ -I stan/lib/stan_math/ -I stan/lib/stan_math/lib/eigen_3.3.9 -I stan/lib/stan_math/lib/boost_1.78.0 -I stan/lib/stan_math/lib/sundials_6.1.1/include -I stan/lib/stan_math/lib/sundials_6.1.1/src/sundials    -DBOOST_DISABLE_ASSERTS          -c -include-pch stan/src/stan/model/model_header_threads.hpp.gch -x c++ -o /Users/hyunjimoon/Dropbox/stanify/vignette/stan_files/refactor_S1N20Q2P2H0R1_M10_ps0.1/draws2data.o /Users/hyunjimoon/Dropbox/stanify/vignette/stan_files/refactor_S1N20Q2P2H0R1_M10_ps0.1/draws2data.hpp\n",
      "clang++ -std=c++1y -Wno-unknown-warning-option -Wno-tautological-compare -Wno-sign-compare -D_REENTRANT -Wno-ignored-attributes     -DSTAN_THREADS -I stan/lib/stan_math/lib/tbb_2020.3/include    -O3 -I src -I stan/src -I lib/rapidjson_1.1.0/ -I lib/CLI11-1.9.1/ -I stan/lib/stan_math/ -I stan/lib/stan_math/lib/eigen_3.3.9 -I stan/lib/stan_math/lib/boost_1.78.0 -I stan/lib/stan_math/lib/sundials_6.1.1/include -I stan/lib/stan_math/lib/sundials_6.1.1/src/sundials    -DBOOST_DISABLE_ASSERTS                -Wl,-L,\"/Users/hyunjimoon/.cmdstan/cmdstan-2.30.1/stan/lib/stan_math/lib/tbb\" -Wl,-rpath,\"/Users/hyunjimoon/.cmdstan/cmdstan-2.30.1/stan/lib/stan_math/lib/tbb\"      /Users/hyunjimoon/Dropbox/stanify/vignette/stan_files/refactor_S1N20Q2P2H0R1_M10_ps0.1/draws2data.o src/cmdstan/main_threads.o        -Wl,-L,\"/Users/hyunjimoon/.cmdstan/cmdstan-2.30.1/stan/lib/stan_math/lib/tbb\" -Wl,-rpath,\"/Users/hyunjimoon/.cmdstan/cmdstan-2.30.1/stan/lib/stan_math/lib/tbb\"   stan/lib/stan_math/lib/sundials_6.1.1/lib/libsundials_nvecserial.a stan/lib/stan_math/lib/sundials_6.1.1/lib/libsundials_cvodes.a stan/lib/stan_math/lib/sundials_6.1.1/lib/libsundials_idas.a stan/lib/stan_math/lib/sundials_6.1.1/lib/libsundials_kinsol.a  stan/lib/stan_math/lib/tbb/libtbb.dylib stan/lib/stan_math/lib/tbb/libtbbmalloc.dylib stan/lib/stan_math/lib/tbb/libtbbmalloc_proxy.dylib -o /Users/hyunjimoon/Dropbox/stanify/vignette/stan_files/refactor_S1N20Q2P2H0R1_M10_ps0.1/draws2data\n",
      "rm -f /Users/hyunjimoon/Dropbox/stanify/vignette/stan_files/refactor_S1N20Q2P2H0R1_M10_ps0.1/draws2data.o\n",
      "\n",
      "10:02:35 - cmdstanpy - INFO - CmdStan start processing\n"
     ]
    },
    {
     "data": {
      "text/plain": "chain 1 |          | 00:00 Status",
      "application/vnd.jupyter.widget-view+json": {
       "version_major": 2,
       "version_minor": 0,
       "model_id": "bb894833bc6247e989568861b0640adb"
      }
     },
     "metadata": {},
     "output_type": "display_data"
    },
    {
     "name": "stdout",
     "output_type": "stream",
     "text": [
      "                                                                                "
     ]
    },
    {
     "name": "stderr",
     "output_type": "stream",
     "text": [
      "10:02:35 - cmdstanpy - INFO - CmdStan done processing.\n"
     ]
    },
    {
     "name": "stdout",
     "output_type": "stream",
     "text": [
      "\n",
      "init_draws_dict:  {'adj_frac1': <xarray.DataArray 'adj_frac1' ()>\n",
      "array(0.273813)\n",
      "Coordinates:\n",
      "    chain    int64 0\n",
      "    draw     int64 0, 'adj_frac2': <xarray.DataArray 'adj_frac2' ()>\n",
      "array(0.123309)\n",
      "Coordinates:\n",
      "    chain    int64 0\n",
      "    draw     int64 0}\n"
     ]
    },
    {
     "ename": "TypeError",
     "evalue": "argument of type 'NoneType' is not iterable",
     "output_type": "error",
     "traceback": [
      "\u001B[0;31m---------------------------------------------------------------------------\u001B[0m",
      "\u001B[0;31mTypeError\u001B[0m                                 Traceback (most recent call last)",
      "Cell \u001B[0;32mIn [1], line 58\u001B[0m\n\u001B[1;32m     35\u001B[0m output_format \u001B[38;5;241m=\u001B[39m \u001B[38;5;28mdict\u001B[39m(\n\u001B[1;32m     36\u001B[0m     prior_predictive\u001B[38;5;241m=\u001B[39m[\u001B[38;5;124m\"\u001B[39m\u001B[38;5;124mstocked_ping_obs\u001B[39m\u001B[38;5;124m\"\u001B[39m, \u001B[38;5;124m\"\u001B[39m\u001B[38;5;124mstocked_pping_obs\u001B[39m\u001B[38;5;124m\"\u001B[39m],\n\u001B[1;32m     37\u001B[0m     posterior_predictive\u001B[38;5;241m=\u001B[39m[\u001B[38;5;124m\"\u001B[39m\u001B[38;5;124mstocked_ping_obs_post\u001B[39m\u001B[38;5;124m\"\u001B[39m, \u001B[38;5;124m\"\u001B[39m\u001B[38;5;124mstocked_pping_obs_post\u001B[39m\u001B[38;5;124m\"\u001B[39m],\n\u001B[0;32m   (...)\u001B[0m\n\u001B[1;32m     54\u001B[0m     }\n\u001B[1;32m     55\u001B[0m )\n\u001B[1;32m     57\u001B[0m \u001B[38;5;28;01mif\u001B[39;00m check_consistency(setting, precision, numeric, prior, output_format):\n\u001B[0;32m---> 58\u001B[0m     idata_orig, model \u001B[38;5;241m=\u001B[39m \u001B[43mdraws2data2draws\u001B[49m\u001B[43m(\u001B[49m\u001B[38;5;124;43m'\u001B[39;49m\u001B[38;5;124;43m../vensim_models/inventory/hier2_flow.mdl\u001B[39;49m\u001B[38;5;124;43m'\u001B[39;49m\u001B[43m,\u001B[49m\u001B[43m \u001B[49m\u001B[43msetting\u001B[49m\u001B[43m,\u001B[49m\u001B[43m \u001B[49m\u001B[43mprecision\u001B[49m\u001B[43m,\u001B[49m\u001B[43m \u001B[49m\u001B[43mnumeric\u001B[49m\u001B[43m,\u001B[49m\u001B[43m \u001B[49m\u001B[43mprior\u001B[49m\u001B[43m,\u001B[49m\u001B[43m \u001B[49m\u001B[43moutput_format\u001B[49m\u001B[43m)\u001B[49m\n",
      "File \u001B[0;32m~/Dropbox/stanify/stanify/calibrator/draws_data_mapper.py:120\u001B[0m, in \u001B[0;36mdraws2data2draws\u001B[0;34m(vensim, setting, precision, numeric, prior, idata_kwargs)\u001B[0m\n\u001B[1;32m    115\u001B[0m init_draws_dict \u001B[38;5;241m=\u001B[39m {\n\u001B[1;32m    116\u001B[0m     \u001B[38;5;241m*\u001B[39m\u001B[38;5;241m*\u001B[39mdraws_s[model\u001B[38;5;241m.\u001B[39mest_param_names]\n\u001B[1;32m    117\u001B[0m }\n\u001B[1;32m    119\u001B[0m \u001B[38;5;28;01mif\u001B[39;00m s \u001B[38;5;241m==\u001B[39m \u001B[38;5;241m0\u001B[39m:\n\u001B[0;32m--> 120\u001B[0m     fit_0 \u001B[38;5;241m=\u001B[39m \u001B[43mdata2draws\u001B[49m\u001B[43m(\u001B[49m\u001B[43ms\u001B[49m\u001B[43m,\u001B[49m\u001B[43m \u001B[49m\u001B[43mmodel\u001B[49m\u001B[43m,\u001B[49m\u001B[43m \u001B[49m\u001B[43midata_kwargs\u001B[49m\u001B[43m,\u001B[49m\u001B[43m \u001B[49m\u001B[43mdata_dict\u001B[49m\u001B[43m,\u001B[49m\u001B[43m \u001B[49m\u001B[43minit_draws_dict\u001B[49m\u001B[43m,\u001B[49m\u001B[43m \u001B[49m\u001B[43mstep_size\u001B[49m\u001B[38;5;241;43m=\u001B[39;49m\u001B[38;5;241;43m.1\u001B[39;49m\u001B[43m)\u001B[49m\n\u001B[1;32m    121\u001B[0m     step_size \u001B[38;5;241m=\u001B[39m get_stepsize(fit_0)\n\u001B[1;32m    122\u001B[0m     \u001B[38;5;66;03m#metric = get_metric(s, fit_0, checkpoint_name=\"metric_checkpoint\")\u001B[39;00m\n",
      "File \u001B[0;32m~/Dropbox/stanify/stanify/calibrator/draws_data_mapper.py:63\u001B[0m, in \u001B[0;36mdata2draws\u001B[0;34m(s, model, idata_kwargs, data_dict, init_draws_dict, step_size, metric)\u001B[0m\n\u001B[1;32m     61\u001B[0m \u001B[38;5;28mprint\u001B[39m(\u001B[38;5;124m\"\u001B[39m\u001B[38;5;124minit_draws_dict: \u001B[39m\u001B[38;5;124m\"\u001B[39m, init_draws_dict)\n\u001B[1;32m     62\u001B[0m \u001B[38;5;28;01mif\u001B[39;00m s \u001B[38;5;241m==\u001B[39m \u001B[38;5;241m0\u001B[39m: \u001B[38;5;66;03m# adaptive step\u001B[39;00m\n\u001B[0;32m---> 63\u001B[0m     data2draws_fit \u001B[38;5;241m=\u001B[39m \u001B[43mmodel\u001B[49m\u001B[38;5;241;43m.\u001B[39;49m\u001B[43mstanify_data2draws\u001B[49m\u001B[43m(\u001B[49m\u001B[43m)\u001B[49m\u001B[38;5;241m.\u001B[39msample(data\u001B[38;5;241m=\u001B[39mdata_dict, chains\u001B[38;5;241m=\u001B[39mchains, iter_sampling\u001B[38;5;241m=\u001B[39m \u001B[38;5;28mint\u001B[39m(model\u001B[38;5;241m.\u001B[39mprecision_context\u001B[38;5;241m.\u001B[39mM \u001B[38;5;241m/\u001B[39m chains),\n\u001B[1;32m     64\u001B[0m                      inits \u001B[38;5;241m=\u001B[39m init_draws_dict, step_size\u001B[38;5;241m=\u001B[39m\u001B[38;5;241m.1\u001B[39m, seed \u001B[38;5;241m=\u001B[39m \u001B[38;5;241m10\u001B[39m) \u001B[38;5;66;03m#iter_warmup=0 gives RuntimeError: Error during sampling\u001B[39;00m\n\u001B[1;32m     65\u001B[0m     \u001B[38;5;28;01mreturn\u001B[39;00m data2draws_fit\n\u001B[1;32m     67\u001B[0m data2draws_fit \u001B[38;5;241m=\u001B[39m model\u001B[38;5;241m.\u001B[39mstanify_data2draws()\u001B[38;5;241m.\u001B[39msample(data\u001B[38;5;241m=\u001B[39mdata_dict, chains\u001B[38;5;241m=\u001B[39mchains, iter_sampling\u001B[38;5;241m=\u001B[39m\u001B[38;5;28mint\u001B[39m(model\u001B[38;5;241m.\u001B[39mprecision_context\u001B[38;5;241m.\u001B[39mM \u001B[38;5;241m/\u001B[39m chains),\n\u001B[1;32m     68\u001B[0m                      inits\u001B[38;5;241m=\u001B[39minit_draws_dict, step_size\u001B[38;5;241m=\u001B[39mstep_size, iter_warmup\u001B[38;5;241m=\u001B[39m\u001B[38;5;241m1\u001B[39m, seed\u001B[38;5;241m=\u001B[39m\u001B[38;5;241m10\u001B[39m) \u001B[38;5;66;03m#metric = metric,\u001B[39;00m\n",
      "File \u001B[0;32m~/Dropbox/stanify/stanify/builders/stan_model.py:389\u001B[0m, in \u001B[0;36mvensim2stan.stanify_data2draws\u001B[0;34m(self)\u001B[0m\n\u001B[1;32m    386\u001B[0m     f\u001B[38;5;241m.\u001B[39mwrite(StanModelBuilder(\u001B[38;5;28mself\u001B[39m\u001B[38;5;241m.\u001B[39mprecision_context, \u001B[38;5;28mself\u001B[39m\u001B[38;5;241m.\u001B[39mstan_model_context)\u001B[38;5;241m.\u001B[39mbuild_block(\u001B[38;5;28mself\u001B[39m\u001B[38;5;241m.\u001B[39mhier_est_param_names))\n\u001B[1;32m    387\u001B[0m     f\u001B[38;5;241m.\u001B[39mwrite(\u001B[38;5;124m\"\u001B[39m\u001B[38;5;130;01m\\n\u001B[39;00m\u001B[38;5;124m\"\u001B[39m)\n\u001B[0;32m--> 389\u001B[0m     f\u001B[38;5;241m.\u001B[39mwrite(\u001B[43mData2DrawsStanGQBuilder\u001B[49m\u001B[43m(\u001B[49m\u001B[38;5;28;43mself\u001B[39;49m\u001B[38;5;241;43m.\u001B[39;49m\u001B[43mprecision_context\u001B[49m\u001B[43m,\u001B[49m\u001B[38;5;28;43mself\u001B[39;49m\u001B[38;5;241;43m.\u001B[39;49m\u001B[43mstan_model_context\u001B[49m\u001B[43m,\u001B[49m\u001B[43m \u001B[49m\u001B[38;5;28;43mself\u001B[39;49m\u001B[38;5;241;43m.\u001B[39;49m\u001B[43mvensim_model_context\u001B[49m\u001B[43m,\u001B[49m\u001B[43m)\u001B[49m\u001B[38;5;241;43m.\u001B[39;49m\u001B[43mbuild_block\u001B[49m\u001B[43m(\u001B[49m\u001B[43m)\u001B[49m)\n\u001B[1;32m    391\u001B[0m stan_model \u001B[38;5;241m=\u001B[39m cmdstanpy\u001B[38;5;241m.\u001B[39mCmdStanModel(stan_file\u001B[38;5;241m=\u001B[39mstan_data2draws_path, cpp_options\u001B[38;5;241m=\u001B[39m{\u001B[38;5;124m'\u001B[39m\u001B[38;5;124mSTAN_THREADS\u001B[39m\u001B[38;5;124m'\u001B[39m:\u001B[38;5;124m'\u001B[39m\u001B[38;5;124mtrue\u001B[39m\u001B[38;5;124m'\u001B[39m})\n\u001B[1;32m    392\u001B[0m \u001B[38;5;28;01mreturn\u001B[39;00m stan_model\n",
      "File \u001B[0;32m~/Dropbox/stanify/stanify/builders/stan_block_builder.py:605\u001B[0m, in \u001B[0;36mData2DrawsStanGQBuilder.build_block\u001B[0;34m(self)\u001B[0m\n\u001B[1;32m    603\u001B[0m \u001B[38;5;28mself\u001B[39m\u001B[38;5;241m.\u001B[39mbuild_post_pred_rng_functions()\n\u001B[1;32m    604\u001B[0m \u001B[38;5;28mself\u001B[39m\u001B[38;5;241m.\u001B[39mcode \u001B[38;5;241m+\u001B[39m\u001B[38;5;241m=\u001B[39m \u001B[38;5;124m\"\u001B[39m\u001B[38;5;130;01m\\n\u001B[39;00m\u001B[38;5;124m\"\u001B[39m\n\u001B[0;32m--> 605\u001B[0m \u001B[38;5;28;43mself\u001B[39;49m\u001B[38;5;241;43m.\u001B[39;49m\u001B[43mbuild_loglik_functions\u001B[49m\u001B[43m(\u001B[49m\u001B[43m)\u001B[49m\n\u001B[1;32m    606\u001B[0m \u001B[38;5;28mself\u001B[39m\u001B[38;5;241m.\u001B[39mcode\u001B[38;5;241m.\u001B[39mindent_level \u001B[38;5;241m-\u001B[39m\u001B[38;5;241m=\u001B[39m \u001B[38;5;241m1\u001B[39m\n\u001B[1;32m    607\u001B[0m \u001B[38;5;28mself\u001B[39m\u001B[38;5;241m.\u001B[39mcode \u001B[38;5;241m+\u001B[39m\u001B[38;5;241m=\u001B[39m \u001B[38;5;124m\"\u001B[39m\u001B[38;5;124m}\u001B[39m\u001B[38;5;130;01m\\n\u001B[39;00m\u001B[38;5;124m\"\u001B[39m\n",
      "File \u001B[0;32m~/Dropbox/stanify/stanify/builders/stan_block_builder.py:621\u001B[0m, in \u001B[0;36mData2DrawsStanGQBuilder.build_loglik_functions\u001B[0;34m(self)\u001B[0m\n\u001B[1;32m    619\u001B[0m matter \u001B[38;5;241m=\u001B[39m \u001B[38;5;28mself\u001B[39m\u001B[38;5;241m.\u001B[39mstan_model_context\u001B[38;5;241m.\u001B[39mobs_integ_outcome_vector_names\u001B[38;5;241m.\u001B[39mappend(\u001B[38;5;28mself\u001B[39m\u001B[38;5;241m.\u001B[39mstan_model_context\u001B[38;5;241m.\u001B[39mexposed_parameters)\n\u001B[1;32m    620\u001B[0m \u001B[38;5;28;01mfor\u001B[39;00m statement \u001B[38;5;129;01min\u001B[39;00m \u001B[38;5;28mself\u001B[39m\u001B[38;5;241m.\u001B[39mstan_model_context\u001B[38;5;241m.\u001B[39msample_statements:\n\u001B[0;32m--> 621\u001B[0m     \u001B[38;5;28;01mif\u001B[39;00m \u001B[43mstatement\u001B[49m\u001B[38;5;241;43m.\u001B[39;49m\u001B[43mlhs_expr\u001B[49m\u001B[43m \u001B[49m\u001B[38;5;129;43;01min\u001B[39;49;00m\u001B[43m \u001B[49m\u001B[43mmatter\u001B[49m:\n\u001B[1;32m    622\u001B[0m         \u001B[38;5;28mself\u001B[39m\u001B[38;5;241m.\u001B[39mcode \u001B[38;5;241m+\u001B[39m\u001B[38;5;241m=\u001B[39m \u001B[38;5;124mf\u001B[39m\u001B[38;5;124m\"\u001B[39m\u001B[38;5;124mloglik += \u001B[39m\u001B[38;5;132;01m{\u001B[39;00madj_rhs_expr_loc(statement, is_lp\u001B[38;5;241m=\u001B[39m\u001B[38;5;28;01mTrue\u001B[39;00m, is_hier\u001B[38;5;241m=\u001B[39m(\u001B[38;5;28mself\u001B[39m\u001B[38;5;241m.\u001B[39mprecision_context\u001B[38;5;241m.\u001B[39mR \u001B[38;5;241m==\u001B[39m \u001B[38;5;241m1\u001B[39m))\u001B[38;5;132;01m}\u001B[39;00m\u001B[38;5;124m;\u001B[39m\u001B[38;5;130;01m\\n\u001B[39;00m\u001B[38;5;124m\"\u001B[39m\n\u001B[1;32m    623\u001B[0m     \u001B[38;5;28mself\u001B[39m\u001B[38;5;241m.\u001B[39mcode\u001B[38;5;241m.\u001B[39mindent_level \u001B[38;5;241m-\u001B[39m\u001B[38;5;241m=\u001B[39m \u001B[38;5;241m1\u001B[39m\n",
      "\u001B[0;31mTypeError\u001B[0m: argument of type 'NoneType' is not iterable"
     ]
    }
   ],
   "source": [
    "import numpy as np\n",
    "from stanify.calibrator.draws_data_mapper import draws2data2draws\n",
    "from stanify.calibrator.calib_util import check_consistency\n",
    "np.random.seed(10)\n",
    "import warnings\n",
    "warnings.filterwarnings('ignore')\n",
    "\n",
    "precision ={\n",
    "    \"S\": 1,\n",
    "    \"M\": 10,\n",
    "    \"N\": 20,\n",
    "    \"R\": 1\n",
    "}\n",
    "setting = {\n",
    "    \"est_param_names\" : [\"adj_frac1\", \"adj_frac2\"],\n",
    "    \"hier_est_param_names\": [],\n",
    "    \"target_sim_vector_names\" : [\"stocked_ping\", \"stocked_pping\"],\n",
    "    \"driving_vector_names\" : [\"exog_demand\", \"process_noise_normal_driving\"],\n",
    "    \"model_name\": \"refactor\"\n",
    "}\n",
    "init_order = 100\n",
    "# driving data\n",
    "numeric = {\n",
    "        \"exog_demand\": np.sin(np.arange(0, precision['N'])*100000) * init_order * .5 + init_order,\n",
    "        \"process_noise_normal_driving\": np.random.normal(0, 1, size=precision['N']),\n",
    "        'process_noise_scale': .1\n",
    "}\n",
    "\n",
    "prior = [\n",
    "    (\"adj_frac1\", \"normal\", .25, .25 *.1, 0),\n",
    "    (\"adj_frac2\", \"normal\", .125,.125 *.1, 0),\n",
    "    (\"m_noise_scale\", \"lognormal\", 1, .1, 0) #use true mean notation, instead of log(mean) notation\n",
    "]\n",
    "\n",
    "output_format = dict(\n",
    "    prior_predictive=[\"stocked_ping_obs\", \"stocked_pping_obs\"],\n",
    "    posterior_predictive=[\"stocked_ping_obs_post\", \"stocked_pping_obs_post\"],\n",
    "    log_likelihood={\n",
    "        \"loglik\": \"loglik\"\n",
    "    },\n",
    "    coords={\n",
    "        \"time\": [n for n in range(precision['N'])],\n",
    "        \"stock\": setting['target_sim_vector_names'],\n",
    "        \"region\": [r for r in range(precision['R'])]\n",
    "    },\n",
    "\n",
    "    dims={\n",
    "        'initial_outcome': [\"stock\"],\n",
    "        'integrated_result': [\"time\", \"stock\"],\n",
    "        \"stocked_ping_obs\": [\"time\"],\n",
    "        \"stocked_pping_obs\": [\"time\"],\n",
    "        \"stocked_ping_obs_post\": [\"time\"],\n",
    "        \"stocked_pping_obs_post\": [\"time\"],\n",
    "    }\n",
    ")\n",
    "\n",
    "if check_consistency(setting, precision, numeric, prior, output_format):\n",
    "    idata_orig, model = draws2data2draws('../vensim_models/inventory/hier2_flow.mdl', setting, precision, numeric, prior, output_format)"
   ],
   "metadata": {
    "collapsed": false,
    "pycharm": {
     "name": "#%%\n"
    }
   }
  },
  {
   "cell_type": "markdown",
   "source": [
    "We load produced data for plotting. Please refer to the end of this document for model (stan code) and data structure which is Stanify's main contribution, but not the scope here.\n",
    "\n",
    "`data2draws` have four groups: `posterior`, `prior_predictive`, `log_likelihood`, `samp_stats`, `observed_data`. First click the arrow below to inspect dataset structure of each group. If you click database icon, it will show each data variable (estimated parameter, target simulated vectors for `posterior` group, observed vector (adding measurement noise on target simulated vector posterior) for `osberved_data` group, loglikelihood of each posterior sample for `log_likelihood`, lp, acceptance_rate, tree_depth, energy (HMC alg.parameters) `sample_stats_prior` group)"
   ],
   "metadata": {
    "collapsed": false,
    "pycharm": {
     "name": "#%% md\n"
    }
   }
  },
  {
   "cell_type": "code",
   "execution_count": 3,
   "outputs": [
    {
     "data": {
      "text/plain": "{'adj_frac1': <xarray.DataArray 'adj_frac1' (prior_draw: 1)>\n [1 values with dtype=float64]\n Coordinates:\n     chain    (prior_draw) int64 ...\n     draw     (prior_draw) int64 ...\n Dimensions without coordinates: prior_draw,\n 'adj_frac2': <xarray.DataArray 'adj_frac2' (prior_draw: 1)>\n [1 values with dtype=float64]\n Coordinates:\n     chain    (prior_draw) int64 ...\n     draw     (prior_draw) int64 ...\n Dimensions without coordinates: prior_draw,\n 'm_noise_scale': <xarray.DataArray 'm_noise_scale' (prior_draw: 1)>\n [1 values with dtype=float64]\n Coordinates:\n     chain    (prior_draw) int64 ...\n     draw     (prior_draw) int64 ...\n Dimensions without coordinates: prior_draw,\n 'b': <xarray.DataArray 'b' (b_dim_0: 20, prior_draw: 1)>\n [20 values with dtype=float64]\n Coordinates:\n     chain    (prior_draw) int64 ...\n     draw     (prior_draw) int64 ...\n   * b_dim_0  (b_dim_0) int64 0 1 2 3 4 5 6 7 8 9 10 11 12 13 14 15 16 17 18 19\n Dimensions without coordinates: prior_draw,\n 'eor': <xarray.DataArray 'eor' (eor_dim_0: 20, prior_draw: 1)>\n [20 values with dtype=float64]\n Coordinates:\n     chain      (prior_draw) int64 ...\n     draw       (prior_draw) int64 ...\n   * eor_dim_0  (eor_dim_0) int64 0 1 2 3 4 5 6 7 8 ... 12 13 14 15 16 17 18 19\n Dimensions without coordinates: prior_draw,\n 'process_noise': <xarray.DataArray 'process_noise' (process_noise_dim_0: 20, prior_draw: 1)>\n [20 values with dtype=float64]\n Coordinates:\n     chain                (prior_draw) int64 ...\n     draw                 (prior_draw) int64 ...\n   * process_noise_dim_0  (process_noise_dim_0) int64 0 1 2 3 4 ... 16 17 18 19\n Dimensions without coordinates: prior_draw,\n 's': <xarray.DataArray 's' (s_dim_0: 20, prior_draw: 1)>\n [20 values with dtype=float64]\n Coordinates:\n     chain    (prior_draw) int64 ...\n     draw     (prior_draw) int64 ...\n   * s_dim_0  (s_dim_0) int64 0 1 2 3 4 5 6 7 8 9 10 11 12 13 14 15 16 17 18 19\n Dimensions without coordinates: prior_draw,\n 'ss': <xarray.DataArray 'ss' (ss_dim_0: 20, prior_draw: 1)>\n [20 values with dtype=float64]\n Coordinates:\n     chain     (prior_draw) int64 ...\n     draw      (prior_draw) int64 ...\n   * ss_dim_0  (ss_dim_0) int64 0 1 2 3 4 5 6 7 8 9 10 11 12 13 14 15 16 17 18 19\n Dimensions without coordinates: prior_draw,\n 'stocked_ping': <xarray.DataArray 'stocked_ping' (stocked_ping_dim_0: 20, prior_draw: 1)>\n [20 values with dtype=float64]\n Coordinates:\n     chain               (prior_draw) int64 ...\n     draw                (prior_draw) int64 ...\n   * stocked_ping_dim_0  (stocked_ping_dim_0) int64 0 1 2 3 4 ... 15 16 17 18 19\n Dimensions without coordinates: prior_draw,\n 'stocked_pping': <xarray.DataArray 'stocked_pping' (stocked_pping_dim_0: 20, prior_draw: 1)>\n [20 values with dtype=float64]\n Coordinates:\n     chain                (prior_draw) int64 ...\n     draw                 (prior_draw) int64 ...\n   * stocked_pping_dim_0  (stocked_pping_dim_0) int64 0 1 2 3 4 ... 16 17 18 19\n Dimensions without coordinates: prior_draw,\n 'integrated_result': <xarray.DataArray 'integrated_result' (time: 20, stock: 7, prior_draw: 1)>\n [140 values with dtype=float64]\n Coordinates:\n     chain    (prior_draw) int64 ...\n     draw     (prior_draw) int64 ...\n   * time     (time) float64 0.01 0.51 1.01 1.51 2.01 ... 8.01 8.51 9.01 9.51\n   * stock    (stock) object 'b' 'eor' ... 'stocked_ping' 'stocked_pping'\n Dimensions without coordinates: prior_draw}"
     },
     "execution_count": 3,
     "metadata": {},
     "output_type": "execute_result"
    }
   ],
   "source": [
    "sbc = az.from_netcdf(f\"data/2hier_s_norm_pn1_saveper_S1N20Q2P2H0R1_M100_ps1/sbc_2est_pnoise1.nc\")\n",
    "init_draws_dict = {\n",
    "    **sbc.prior\n",
    "}\n",
    "init_draws_dict"
   ],
   "metadata": {
    "collapsed": false,
    "pycharm": {
     "name": "#%%\n"
    }
   }
  },
  {
   "cell_type": "code",
   "execution_count": 12,
   "outputs": [
    {
     "data": {
      "text/plain": "<xarray.Dataset>\nDimensions:              (prior_draw: 1, b_dim_0: 20, eor_dim_0: 20,\n                          process_noise_dim_0: 20, s_dim_0: 20, ss_dim_0: 20,\n                          stocked_ping_dim_0: 20, stocked_pping_dim_0: 20,\n                          time: 20, stock: 7)\nCoordinates:\n    chain                (prior_draw) int64 ...\n    draw                 (prior_draw) int64 ...\n  * b_dim_0              (b_dim_0) int64 0 1 2 3 4 5 6 ... 13 14 15 16 17 18 19\n  * eor_dim_0            (eor_dim_0) int64 0 1 2 3 4 5 6 ... 14 15 16 17 18 19\n  * process_noise_dim_0  (process_noise_dim_0) int64 0 1 2 3 4 ... 16 17 18 19\n  * s_dim_0              (s_dim_0) int64 0 1 2 3 4 5 6 ... 13 14 15 16 17 18 19\n  * ss_dim_0             (ss_dim_0) int64 0 1 2 3 4 5 6 ... 13 14 15 16 17 18 19\n  * stocked_ping_dim_0   (stocked_ping_dim_0) int64 0 1 2 3 4 ... 15 16 17 18 19\n  * stocked_pping_dim_0  (stocked_pping_dim_0) int64 0 1 2 3 4 ... 16 17 18 19\n  * time                 (time) float64 0.01 0.51 1.01 1.51 ... 8.51 9.01 9.51\n  * stock                (stock) object 'b' 'eor' ... 'stocked_pping'\nDimensions without coordinates: prior_draw\nData variables:\n    adj_frac1            (prior_draw) float64 ...\n    adj_frac2            (prior_draw) float64 ...\n    m_noise_scale        (prior_draw) float64 ...\n    b                    (b_dim_0, prior_draw) float64 ...\n    eor                  (eor_dim_0, prior_draw) float64 ...\n    process_noise        (process_noise_dim_0, prior_draw) float64 ...\n    s                    (s_dim_0, prior_draw) float64 ...\n    ss                   (ss_dim_0, prior_draw) float64 ...\n    stocked_ping         (stocked_ping_dim_0, prior_draw) float64 ...\n    stocked_pping        (stocked_pping_dim_0, prior_draw) float64 ...\n    integrated_result    (time, stock, prior_draw) float64 ...\nAttributes: (4)",
      "text/html": "<div><svg style=\"position: absolute; width: 0; height: 0; overflow: hidden\">\n<defs>\n<symbol id=\"icon-database\" viewBox=\"0 0 32 32\">\n<path d=\"M16 0c-8.837 0-16 2.239-16 5v4c0 2.761 7.163 5 16 5s16-2.239 16-5v-4c0-2.761-7.163-5-16-5z\"></path>\n<path d=\"M16 17c-8.837 0-16-2.239-16-5v6c0 2.761 7.163 5 16 5s16-2.239 16-5v-6c0 2.761-7.163 5-16 5z\"></path>\n<path d=\"M16 26c-8.837 0-16-2.239-16-5v6c0 2.761 7.163 5 16 5s16-2.239 16-5v-6c0 2.761-7.163 5-16 5z\"></path>\n</symbol>\n<symbol id=\"icon-file-text2\" viewBox=\"0 0 32 32\">\n<path d=\"M28.681 7.159c-0.694-0.947-1.662-2.053-2.724-3.116s-2.169-2.030-3.116-2.724c-1.612-1.182-2.393-1.319-2.841-1.319h-15.5c-1.378 0-2.5 1.121-2.5 2.5v27c0 1.378 1.122 2.5 2.5 2.5h23c1.378 0 2.5-1.122 2.5-2.5v-19.5c0-0.448-0.137-1.23-1.319-2.841zM24.543 5.457c0.959 0.959 1.712 1.825 2.268 2.543h-4.811v-4.811c0.718 0.556 1.584 1.309 2.543 2.268zM28 29.5c0 0.271-0.229 0.5-0.5 0.5h-23c-0.271 0-0.5-0.229-0.5-0.5v-27c0-0.271 0.229-0.5 0.5-0.5 0 0 15.499-0 15.5 0v7c0 0.552 0.448 1 1 1h7v19.5z\"></path>\n<path d=\"M23 26h-14c-0.552 0-1-0.448-1-1s0.448-1 1-1h14c0.552 0 1 0.448 1 1s-0.448 1-1 1z\"></path>\n<path d=\"M23 22h-14c-0.552 0-1-0.448-1-1s0.448-1 1-1h14c0.552 0 1 0.448 1 1s-0.448 1-1 1z\"></path>\n<path d=\"M23 18h-14c-0.552 0-1-0.448-1-1s0.448-1 1-1h14c0.552 0 1 0.448 1 1s-0.448 1-1 1z\"></path>\n</symbol>\n</defs>\n</svg>\n<style>/* CSS stylesheet for displaying xarray objects in jupyterlab.\n *\n */\n\n:root {\n  --xr-font-color0: var(--jp-content-font-color0, rgba(0, 0, 0, 1));\n  --xr-font-color2: var(--jp-content-font-color2, rgba(0, 0, 0, 0.54));\n  --xr-font-color3: var(--jp-content-font-color3, rgba(0, 0, 0, 0.38));\n  --xr-border-color: var(--jp-border-color2, #e0e0e0);\n  --xr-disabled-color: var(--jp-layout-color3, #bdbdbd);\n  --xr-background-color: var(--jp-layout-color0, white);\n  --xr-background-color-row-even: var(--jp-layout-color1, white);\n  --xr-background-color-row-odd: var(--jp-layout-color2, #eeeeee);\n}\n\nhtml[theme=dark],\nbody[data-theme=dark],\nbody.vscode-dark {\n  --xr-font-color0: rgba(255, 255, 255, 1);\n  --xr-font-color2: rgba(255, 255, 255, 0.54);\n  --xr-font-color3: rgba(255, 255, 255, 0.38);\n  --xr-border-color: #1F1F1F;\n  --xr-disabled-color: #515151;\n  --xr-background-color: #111111;\n  --xr-background-color-row-even: #111111;\n  --xr-background-color-row-odd: #313131;\n}\n\n.xr-wrap {\n  display: block !important;\n  min-width: 300px;\n  max-width: 700px;\n}\n\n.xr-text-repr-fallback {\n  /* fallback to plain text repr when CSS is not injected (untrusted notebook) */\n  display: none;\n}\n\n.xr-header {\n  padding-top: 6px;\n  padding-bottom: 6px;\n  margin-bottom: 4px;\n  border-bottom: solid 1px var(--xr-border-color);\n}\n\n.xr-header > div,\n.xr-header > ul {\n  display: inline;\n  margin-top: 0;\n  margin-bottom: 0;\n}\n\n.xr-obj-type,\n.xr-array-name {\n  margin-left: 2px;\n  margin-right: 10px;\n}\n\n.xr-obj-type {\n  color: var(--xr-font-color2);\n}\n\n.xr-sections {\n  padding-left: 0 !important;\n  display: grid;\n  grid-template-columns: 150px auto auto 1fr 20px 20px;\n}\n\n.xr-section-item {\n  display: contents;\n}\n\n.xr-section-item input {\n  display: none;\n}\n\n.xr-section-item input + label {\n  color: var(--xr-disabled-color);\n}\n\n.xr-section-item input:enabled + label {\n  cursor: pointer;\n  color: var(--xr-font-color2);\n}\n\n.xr-section-item input:enabled + label:hover {\n  color: var(--xr-font-color0);\n}\n\n.xr-section-summary {\n  grid-column: 1;\n  color: var(--xr-font-color2);\n  font-weight: 500;\n}\n\n.xr-section-summary > span {\n  display: inline-block;\n  padding-left: 0.5em;\n}\n\n.xr-section-summary-in:disabled + label {\n  color: var(--xr-font-color2);\n}\n\n.xr-section-summary-in + label:before {\n  display: inline-block;\n  content: '►';\n  font-size: 11px;\n  width: 15px;\n  text-align: center;\n}\n\n.xr-section-summary-in:disabled + label:before {\n  color: var(--xr-disabled-color);\n}\n\n.xr-section-summary-in:checked + label:before {\n  content: '▼';\n}\n\n.xr-section-summary-in:checked + label > span {\n  display: none;\n}\n\n.xr-section-summary,\n.xr-section-inline-details {\n  padding-top: 4px;\n  padding-bottom: 4px;\n}\n\n.xr-section-inline-details {\n  grid-column: 2 / -1;\n}\n\n.xr-section-details {\n  display: none;\n  grid-column: 1 / -1;\n  margin-bottom: 5px;\n}\n\n.xr-section-summary-in:checked ~ .xr-section-details {\n  display: contents;\n}\n\n.xr-array-wrap {\n  grid-column: 1 / -1;\n  display: grid;\n  grid-template-columns: 20px auto;\n}\n\n.xr-array-wrap > label {\n  grid-column: 1;\n  vertical-align: top;\n}\n\n.xr-preview {\n  color: var(--xr-font-color3);\n}\n\n.xr-array-preview,\n.xr-array-data {\n  padding: 0 5px !important;\n  grid-column: 2;\n}\n\n.xr-array-data,\n.xr-array-in:checked ~ .xr-array-preview {\n  display: none;\n}\n\n.xr-array-in:checked ~ .xr-array-data,\n.xr-array-preview {\n  display: inline-block;\n}\n\n.xr-dim-list {\n  display: inline-block !important;\n  list-style: none;\n  padding: 0 !important;\n  margin: 0;\n}\n\n.xr-dim-list li {\n  display: inline-block;\n  padding: 0;\n  margin: 0;\n}\n\n.xr-dim-list:before {\n  content: '(';\n}\n\n.xr-dim-list:after {\n  content: ')';\n}\n\n.xr-dim-list li:not(:last-child):after {\n  content: ',';\n  padding-right: 5px;\n}\n\n.xr-has-index {\n  font-weight: bold;\n}\n\n.xr-var-list,\n.xr-var-item {\n  display: contents;\n}\n\n.xr-var-item > div,\n.xr-var-item label,\n.xr-var-item > .xr-var-name span {\n  background-color: var(--xr-background-color-row-even);\n  margin-bottom: 0;\n}\n\n.xr-var-item > .xr-var-name:hover span {\n  padding-right: 5px;\n}\n\n.xr-var-list > li:nth-child(odd) > div,\n.xr-var-list > li:nth-child(odd) > label,\n.xr-var-list > li:nth-child(odd) > .xr-var-name span {\n  background-color: var(--xr-background-color-row-odd);\n}\n\n.xr-var-name {\n  grid-column: 1;\n}\n\n.xr-var-dims {\n  grid-column: 2;\n}\n\n.xr-var-dtype {\n  grid-column: 3;\n  text-align: right;\n  color: var(--xr-font-color2);\n}\n\n.xr-var-preview {\n  grid-column: 4;\n}\n\n.xr-index-preview {\n  grid-column: 2 / 5;\n  color: var(--xr-font-color2);\n}\n\n.xr-var-name,\n.xr-var-dims,\n.xr-var-dtype,\n.xr-preview,\n.xr-attrs dt {\n  white-space: nowrap;\n  overflow: hidden;\n  text-overflow: ellipsis;\n  padding-right: 10px;\n}\n\n.xr-var-name:hover,\n.xr-var-dims:hover,\n.xr-var-dtype:hover,\n.xr-attrs dt:hover {\n  overflow: visible;\n  width: auto;\n  z-index: 1;\n}\n\n.xr-var-attrs,\n.xr-var-data,\n.xr-index-data {\n  display: none;\n  background-color: var(--xr-background-color) !important;\n  padding-bottom: 5px !important;\n}\n\n.xr-var-attrs-in:checked ~ .xr-var-attrs,\n.xr-var-data-in:checked ~ .xr-var-data,\n.xr-index-data-in:checked ~ .xr-index-data {\n  display: block;\n}\n\n.xr-var-data > table {\n  float: right;\n}\n\n.xr-var-name span,\n.xr-var-data,\n.xr-index-name div,\n.xr-index-data,\n.xr-attrs {\n  padding-left: 25px !important;\n}\n\n.xr-attrs,\n.xr-var-attrs,\n.xr-var-data,\n.xr-index-data {\n  grid-column: 1 / -1;\n}\n\ndl.xr-attrs {\n  padding: 0;\n  margin: 0;\n  display: grid;\n  grid-template-columns: 125px auto;\n}\n\n.xr-attrs dt,\n.xr-attrs dd {\n  padding: 0;\n  margin: 0;\n  float: left;\n  padding-right: 10px;\n  width: auto;\n}\n\n.xr-attrs dt {\n  font-weight: normal;\n  grid-column: 1;\n}\n\n.xr-attrs dt:hover span {\n  display: inline-block;\n  background: var(--xr-background-color);\n  padding-right: 10px;\n}\n\n.xr-attrs dd {\n  grid-column: 2;\n  white-space: pre-wrap;\n  word-break: break-all;\n}\n\n.xr-icon-database,\n.xr-icon-file-text2,\n.xr-no-icon {\n  display: inline-block;\n  vertical-align: middle;\n  width: 1em;\n  height: 1.5em !important;\n  stroke-width: 0;\n  stroke: currentColor;\n  fill: currentColor;\n}\n</style><pre class='xr-text-repr-fallback'>&lt;xarray.Dataset&gt;\nDimensions:              (prior_draw: 1, b_dim_0: 20, eor_dim_0: 20,\n                          process_noise_dim_0: 20, s_dim_0: 20, ss_dim_0: 20,\n                          stocked_ping_dim_0: 20, stocked_pping_dim_0: 20,\n                          time: 20, stock: 7)\nCoordinates:\n    chain                (prior_draw) int64 ...\n    draw                 (prior_draw) int64 ...\n  * b_dim_0              (b_dim_0) int64 0 1 2 3 4 5 6 ... 13 14 15 16 17 18 19\n  * eor_dim_0            (eor_dim_0) int64 0 1 2 3 4 5 6 ... 14 15 16 17 18 19\n  * process_noise_dim_0  (process_noise_dim_0) int64 0 1 2 3 4 ... 16 17 18 19\n  * s_dim_0              (s_dim_0) int64 0 1 2 3 4 5 6 ... 13 14 15 16 17 18 19\n  * ss_dim_0             (ss_dim_0) int64 0 1 2 3 4 5 6 ... 13 14 15 16 17 18 19\n  * stocked_ping_dim_0   (stocked_ping_dim_0) int64 0 1 2 3 4 ... 15 16 17 18 19\n  * stocked_pping_dim_0  (stocked_pping_dim_0) int64 0 1 2 3 4 ... 16 17 18 19\n  * time                 (time) float64 0.01 0.51 1.01 1.51 ... 8.51 9.01 9.51\n  * stock                (stock) object &#x27;b&#x27; &#x27;eor&#x27; ... &#x27;stocked_pping&#x27;\nDimensions without coordinates: prior_draw\nData variables:\n    adj_frac1            (prior_draw) float64 ...\n    adj_frac2            (prior_draw) float64 ...\n    m_noise_scale        (prior_draw) float64 ...\n    b                    (b_dim_0, prior_draw) float64 ...\n    eor                  (eor_dim_0, prior_draw) float64 ...\n    process_noise        (process_noise_dim_0, prior_draw) float64 ...\n    s                    (s_dim_0, prior_draw) float64 ...\n    ss                   (ss_dim_0, prior_draw) float64 ...\n    stocked_ping         (stocked_ping_dim_0, prior_draw) float64 ...\n    stocked_pping        (stocked_pping_dim_0, prior_draw) float64 ...\n    integrated_result    (time, stock, prior_draw) float64 ...\nAttributes: (4)</pre><div class='xr-wrap' style='display:none'><div class='xr-header'><div class='xr-obj-type'>xarray.Dataset</div></div><ul class='xr-sections'><li class='xr-section-item'><input id='section-fc3a732a-ff9c-4f61-add0-3bfabeb2e5dc' class='xr-section-summary-in' type='checkbox' disabled ><label for='section-fc3a732a-ff9c-4f61-add0-3bfabeb2e5dc' class='xr-section-summary'  title='Expand/collapse section'>Dimensions:</label><div class='xr-section-inline-details'><ul class='xr-dim-list'><li><span>prior_draw</span>: 1</li><li><span class='xr-has-index'>b_dim_0</span>: 20</li><li><span class='xr-has-index'>eor_dim_0</span>: 20</li><li><span class='xr-has-index'>process_noise_dim_0</span>: 20</li><li><span class='xr-has-index'>s_dim_0</span>: 20</li><li><span class='xr-has-index'>ss_dim_0</span>: 20</li><li><span class='xr-has-index'>stocked_ping_dim_0</span>: 20</li><li><span class='xr-has-index'>stocked_pping_dim_0</span>: 20</li><li><span class='xr-has-index'>time</span>: 20</li><li><span class='xr-has-index'>stock</span>: 7</li></ul></div><div class='xr-section-details'></div></li><li class='xr-section-item'><input id='section-a72d4ab7-d59b-4643-a6b3-5accf6f7bd17' class='xr-section-summary-in' type='checkbox'  checked><label for='section-a72d4ab7-d59b-4643-a6b3-5accf6f7bd17' class='xr-section-summary' >Coordinates: <span>(11)</span></label><div class='xr-section-inline-details'></div><div class='xr-section-details'><ul class='xr-var-list'><li class='xr-var-item'><div class='xr-var-name'><span>chain</span></div><div class='xr-var-dims'>(prior_draw)</div><div class='xr-var-dtype'>int64</div><div class='xr-var-preview xr-preview'>...</div><input id='attrs-a67ee834-ef31-44ef-ab44-732c26989445' class='xr-var-attrs-in' type='checkbox' disabled><label for='attrs-a67ee834-ef31-44ef-ab44-732c26989445' title='Show/Hide attributes'><svg class='icon xr-icon-file-text2'><use xlink:href='#icon-file-text2'></use></svg></label><input id='data-16640be5-d1dd-4990-87a5-f5771e90b6b9' class='xr-var-data-in' type='checkbox'><label for='data-16640be5-d1dd-4990-87a5-f5771e90b6b9' title='Show/Hide data repr'><svg class='icon xr-icon-database'><use xlink:href='#icon-database'></use></svg></label><div class='xr-var-attrs'><dl class='xr-attrs'></dl></div><div class='xr-var-data'><pre>[1 values with dtype=int64]</pre></div></li><li class='xr-var-item'><div class='xr-var-name'><span>draw</span></div><div class='xr-var-dims'>(prior_draw)</div><div class='xr-var-dtype'>int64</div><div class='xr-var-preview xr-preview'>...</div><input id='attrs-9aa3400b-f80c-4305-a73e-560c07b258f5' class='xr-var-attrs-in' type='checkbox' disabled><label for='attrs-9aa3400b-f80c-4305-a73e-560c07b258f5' title='Show/Hide attributes'><svg class='icon xr-icon-file-text2'><use xlink:href='#icon-file-text2'></use></svg></label><input id='data-5df55c6d-3297-4f7e-9669-3e7567d8e58e' class='xr-var-data-in' type='checkbox'><label for='data-5df55c6d-3297-4f7e-9669-3e7567d8e58e' title='Show/Hide data repr'><svg class='icon xr-icon-database'><use xlink:href='#icon-database'></use></svg></label><div class='xr-var-attrs'><dl class='xr-attrs'></dl></div><div class='xr-var-data'><pre>[1 values with dtype=int64]</pre></div></li><li class='xr-var-item'><div class='xr-var-name'><span class='xr-has-index'>b_dim_0</span></div><div class='xr-var-dims'>(b_dim_0)</div><div class='xr-var-dtype'>int64</div><div class='xr-var-preview xr-preview'>0 1 2 3 4 5 6 ... 14 15 16 17 18 19</div><input id='attrs-d20be9f8-0e45-4c49-a75c-862250a21ed4' class='xr-var-attrs-in' type='checkbox' disabled><label for='attrs-d20be9f8-0e45-4c49-a75c-862250a21ed4' title='Show/Hide attributes'><svg class='icon xr-icon-file-text2'><use xlink:href='#icon-file-text2'></use></svg></label><input id='data-b846462b-28e3-4d87-ab56-726a5a65c13f' class='xr-var-data-in' type='checkbox'><label for='data-b846462b-28e3-4d87-ab56-726a5a65c13f' title='Show/Hide data repr'><svg class='icon xr-icon-database'><use xlink:href='#icon-database'></use></svg></label><div class='xr-var-attrs'><dl class='xr-attrs'></dl></div><div class='xr-var-data'><pre>array([ 0,  1,  2,  3,  4,  5,  6,  7,  8,  9, 10, 11, 12, 13, 14, 15, 16, 17,\n       18, 19])</pre></div></li><li class='xr-var-item'><div class='xr-var-name'><span class='xr-has-index'>eor_dim_0</span></div><div class='xr-var-dims'>(eor_dim_0)</div><div class='xr-var-dtype'>int64</div><div class='xr-var-preview xr-preview'>0 1 2 3 4 5 6 ... 14 15 16 17 18 19</div><input id='attrs-89397c17-d987-442f-9cac-0e27fcc80837' class='xr-var-attrs-in' type='checkbox' disabled><label for='attrs-89397c17-d987-442f-9cac-0e27fcc80837' title='Show/Hide attributes'><svg class='icon xr-icon-file-text2'><use xlink:href='#icon-file-text2'></use></svg></label><input id='data-f13daf3c-06c8-4a77-8a68-fdb6cacedc43' class='xr-var-data-in' type='checkbox'><label for='data-f13daf3c-06c8-4a77-8a68-fdb6cacedc43' title='Show/Hide data repr'><svg class='icon xr-icon-database'><use xlink:href='#icon-database'></use></svg></label><div class='xr-var-attrs'><dl class='xr-attrs'></dl></div><div class='xr-var-data'><pre>array([ 0,  1,  2,  3,  4,  5,  6,  7,  8,  9, 10, 11, 12, 13, 14, 15, 16, 17,\n       18, 19])</pre></div></li><li class='xr-var-item'><div class='xr-var-name'><span class='xr-has-index'>process_noise_dim_0</span></div><div class='xr-var-dims'>(process_noise_dim_0)</div><div class='xr-var-dtype'>int64</div><div class='xr-var-preview xr-preview'>0 1 2 3 4 5 6 ... 14 15 16 17 18 19</div><input id='attrs-37635113-43ec-41c2-b65a-d9ae54c6b08f' class='xr-var-attrs-in' type='checkbox' disabled><label for='attrs-37635113-43ec-41c2-b65a-d9ae54c6b08f' title='Show/Hide attributes'><svg class='icon xr-icon-file-text2'><use xlink:href='#icon-file-text2'></use></svg></label><input id='data-7e3bea4a-d736-4d05-90cb-c508bf5b0dcd' class='xr-var-data-in' type='checkbox'><label for='data-7e3bea4a-d736-4d05-90cb-c508bf5b0dcd' title='Show/Hide data repr'><svg class='icon xr-icon-database'><use xlink:href='#icon-database'></use></svg></label><div class='xr-var-attrs'><dl class='xr-attrs'></dl></div><div class='xr-var-data'><pre>array([ 0,  1,  2,  3,  4,  5,  6,  7,  8,  9, 10, 11, 12, 13, 14, 15, 16, 17,\n       18, 19])</pre></div></li><li class='xr-var-item'><div class='xr-var-name'><span class='xr-has-index'>s_dim_0</span></div><div class='xr-var-dims'>(s_dim_0)</div><div class='xr-var-dtype'>int64</div><div class='xr-var-preview xr-preview'>0 1 2 3 4 5 6 ... 14 15 16 17 18 19</div><input id='attrs-c8c2de63-ed7f-4b93-8d53-cc21baf15ea6' class='xr-var-attrs-in' type='checkbox' disabled><label for='attrs-c8c2de63-ed7f-4b93-8d53-cc21baf15ea6' title='Show/Hide attributes'><svg class='icon xr-icon-file-text2'><use xlink:href='#icon-file-text2'></use></svg></label><input id='data-2f26138e-32dc-46c1-b19a-d722765dee2c' class='xr-var-data-in' type='checkbox'><label for='data-2f26138e-32dc-46c1-b19a-d722765dee2c' title='Show/Hide data repr'><svg class='icon xr-icon-database'><use xlink:href='#icon-database'></use></svg></label><div class='xr-var-attrs'><dl class='xr-attrs'></dl></div><div class='xr-var-data'><pre>array([ 0,  1,  2,  3,  4,  5,  6,  7,  8,  9, 10, 11, 12, 13, 14, 15, 16, 17,\n       18, 19])</pre></div></li><li class='xr-var-item'><div class='xr-var-name'><span class='xr-has-index'>ss_dim_0</span></div><div class='xr-var-dims'>(ss_dim_0)</div><div class='xr-var-dtype'>int64</div><div class='xr-var-preview xr-preview'>0 1 2 3 4 5 6 ... 14 15 16 17 18 19</div><input id='attrs-07b656cd-7e42-4fe7-a1ef-cbad6bb8f750' class='xr-var-attrs-in' type='checkbox' disabled><label for='attrs-07b656cd-7e42-4fe7-a1ef-cbad6bb8f750' title='Show/Hide attributes'><svg class='icon xr-icon-file-text2'><use xlink:href='#icon-file-text2'></use></svg></label><input id='data-e2aae01c-8af7-490b-a9bf-9f1bb58b8f3e' class='xr-var-data-in' type='checkbox'><label for='data-e2aae01c-8af7-490b-a9bf-9f1bb58b8f3e' title='Show/Hide data repr'><svg class='icon xr-icon-database'><use xlink:href='#icon-database'></use></svg></label><div class='xr-var-attrs'><dl class='xr-attrs'></dl></div><div class='xr-var-data'><pre>array([ 0,  1,  2,  3,  4,  5,  6,  7,  8,  9, 10, 11, 12, 13, 14, 15, 16, 17,\n       18, 19])</pre></div></li><li class='xr-var-item'><div class='xr-var-name'><span class='xr-has-index'>stocked_ping_dim_0</span></div><div class='xr-var-dims'>(stocked_ping_dim_0)</div><div class='xr-var-dtype'>int64</div><div class='xr-var-preview xr-preview'>0 1 2 3 4 5 6 ... 14 15 16 17 18 19</div><input id='attrs-9dade00b-8955-48dc-a710-807c58dd1e19' class='xr-var-attrs-in' type='checkbox' disabled><label for='attrs-9dade00b-8955-48dc-a710-807c58dd1e19' title='Show/Hide attributes'><svg class='icon xr-icon-file-text2'><use xlink:href='#icon-file-text2'></use></svg></label><input id='data-8ee6265c-231a-4ba1-8ba7-fc90cb4fb129' class='xr-var-data-in' type='checkbox'><label for='data-8ee6265c-231a-4ba1-8ba7-fc90cb4fb129' title='Show/Hide data repr'><svg class='icon xr-icon-database'><use xlink:href='#icon-database'></use></svg></label><div class='xr-var-attrs'><dl class='xr-attrs'></dl></div><div class='xr-var-data'><pre>array([ 0,  1,  2,  3,  4,  5,  6,  7,  8,  9, 10, 11, 12, 13, 14, 15, 16, 17,\n       18, 19])</pre></div></li><li class='xr-var-item'><div class='xr-var-name'><span class='xr-has-index'>stocked_pping_dim_0</span></div><div class='xr-var-dims'>(stocked_pping_dim_0)</div><div class='xr-var-dtype'>int64</div><div class='xr-var-preview xr-preview'>0 1 2 3 4 5 6 ... 14 15 16 17 18 19</div><input id='attrs-95731682-6bac-4df9-a2e2-61d279cb9386' class='xr-var-attrs-in' type='checkbox' disabled><label for='attrs-95731682-6bac-4df9-a2e2-61d279cb9386' title='Show/Hide attributes'><svg class='icon xr-icon-file-text2'><use xlink:href='#icon-file-text2'></use></svg></label><input id='data-06a90885-b4da-4ef7-a8b9-38ca0cfcf798' class='xr-var-data-in' type='checkbox'><label for='data-06a90885-b4da-4ef7-a8b9-38ca0cfcf798' title='Show/Hide data repr'><svg class='icon xr-icon-database'><use xlink:href='#icon-database'></use></svg></label><div class='xr-var-attrs'><dl class='xr-attrs'></dl></div><div class='xr-var-data'><pre>array([ 0,  1,  2,  3,  4,  5,  6,  7,  8,  9, 10, 11, 12, 13, 14, 15, 16, 17,\n       18, 19])</pre></div></li><li class='xr-var-item'><div class='xr-var-name'><span class='xr-has-index'>time</span></div><div class='xr-var-dims'>(time)</div><div class='xr-var-dtype'>float64</div><div class='xr-var-preview xr-preview'>0.01 0.51 1.01 ... 8.51 9.01 9.51</div><input id='attrs-e3b2ee2b-a314-49fe-ab61-ca06afaf0032' class='xr-var-attrs-in' type='checkbox' disabled><label for='attrs-e3b2ee2b-a314-49fe-ab61-ca06afaf0032' title='Show/Hide attributes'><svg class='icon xr-icon-file-text2'><use xlink:href='#icon-file-text2'></use></svg></label><input id='data-7420feec-6f84-46d2-b1c4-efdc8233271a' class='xr-var-data-in' type='checkbox'><label for='data-7420feec-6f84-46d2-b1c4-efdc8233271a' title='Show/Hide data repr'><svg class='icon xr-icon-database'><use xlink:href='#icon-database'></use></svg></label><div class='xr-var-attrs'><dl class='xr-attrs'></dl></div><div class='xr-var-data'><pre>array([0.01, 0.51, 1.01, 1.51, 2.01, 2.51, 3.01, 3.51, 4.01, 4.51, 5.01, 5.51,\n       6.01, 6.51, 7.01, 7.51, 8.01, 8.51, 9.01, 9.51])</pre></div></li><li class='xr-var-item'><div class='xr-var-name'><span class='xr-has-index'>stock</span></div><div class='xr-var-dims'>(stock)</div><div class='xr-var-dtype'>object</div><div class='xr-var-preview xr-preview'>&#x27;b&#x27; &#x27;eor&#x27; ... &#x27;stocked_pping&#x27;</div><input id='attrs-69dfe51f-1ce4-4cd5-a5a9-72260cc3b198' class='xr-var-attrs-in' type='checkbox' disabled><label for='attrs-69dfe51f-1ce4-4cd5-a5a9-72260cc3b198' title='Show/Hide attributes'><svg class='icon xr-icon-file-text2'><use xlink:href='#icon-file-text2'></use></svg></label><input id='data-b984427d-55fb-4a97-bf26-1d6f1ae5b5f2' class='xr-var-data-in' type='checkbox'><label for='data-b984427d-55fb-4a97-bf26-1d6f1ae5b5f2' title='Show/Hide data repr'><svg class='icon xr-icon-database'><use xlink:href='#icon-database'></use></svg></label><div class='xr-var-attrs'><dl class='xr-attrs'></dl></div><div class='xr-var-data'><pre>array([&#x27;b&#x27;, &#x27;eor&#x27;, &#x27;process_noise&#x27;, &#x27;s&#x27;, &#x27;ss&#x27;, &#x27;stocked_ping&#x27;, &#x27;stocked_pping&#x27;],\n      dtype=object)</pre></div></li></ul></div></li><li class='xr-section-item'><input id='section-c88ea9e0-11ac-4dc1-bb47-ac6dcaea65fb' class='xr-section-summary-in' type='checkbox'  checked><label for='section-c88ea9e0-11ac-4dc1-bb47-ac6dcaea65fb' class='xr-section-summary' >Data variables: <span>(11)</span></label><div class='xr-section-inline-details'></div><div class='xr-section-details'><ul class='xr-var-list'><li class='xr-var-item'><div class='xr-var-name'><span>adj_frac1</span></div><div class='xr-var-dims'>(prior_draw)</div><div class='xr-var-dtype'>float64</div><div class='xr-var-preview xr-preview'>...</div><input id='attrs-f066b105-de39-435e-8abd-aa9e233a4b02' class='xr-var-attrs-in' type='checkbox' disabled><label for='attrs-f066b105-de39-435e-8abd-aa9e233a4b02' title='Show/Hide attributes'><svg class='icon xr-icon-file-text2'><use xlink:href='#icon-file-text2'></use></svg></label><input id='data-355e3ab1-b2c3-40b5-964a-d8b7d894884e' class='xr-var-data-in' type='checkbox'><label for='data-355e3ab1-b2c3-40b5-964a-d8b7d894884e' title='Show/Hide data repr'><svg class='icon xr-icon-database'><use xlink:href='#icon-database'></use></svg></label><div class='xr-var-attrs'><dl class='xr-attrs'></dl></div><div class='xr-var-data'><pre>[1 values with dtype=float64]</pre></div></li><li class='xr-var-item'><div class='xr-var-name'><span>adj_frac2</span></div><div class='xr-var-dims'>(prior_draw)</div><div class='xr-var-dtype'>float64</div><div class='xr-var-preview xr-preview'>...</div><input id='attrs-968dfdcd-0ed3-4e78-b617-6ddde3f3e6d9' class='xr-var-attrs-in' type='checkbox' disabled><label for='attrs-968dfdcd-0ed3-4e78-b617-6ddde3f3e6d9' title='Show/Hide attributes'><svg class='icon xr-icon-file-text2'><use xlink:href='#icon-file-text2'></use></svg></label><input id='data-e4a3380f-f6cb-47f6-9a88-4012e7eb6b23' class='xr-var-data-in' type='checkbox'><label for='data-e4a3380f-f6cb-47f6-9a88-4012e7eb6b23' title='Show/Hide data repr'><svg class='icon xr-icon-database'><use xlink:href='#icon-database'></use></svg></label><div class='xr-var-attrs'><dl class='xr-attrs'></dl></div><div class='xr-var-data'><pre>[1 values with dtype=float64]</pre></div></li><li class='xr-var-item'><div class='xr-var-name'><span>m_noise_scale</span></div><div class='xr-var-dims'>(prior_draw)</div><div class='xr-var-dtype'>float64</div><div class='xr-var-preview xr-preview'>...</div><input id='attrs-fa861c0f-5e31-4716-b673-9b3591db0d80' class='xr-var-attrs-in' type='checkbox' disabled><label for='attrs-fa861c0f-5e31-4716-b673-9b3591db0d80' title='Show/Hide attributes'><svg class='icon xr-icon-file-text2'><use xlink:href='#icon-file-text2'></use></svg></label><input id='data-d396f0ad-d82d-484e-becb-b903bd0dd73e' class='xr-var-data-in' type='checkbox'><label for='data-d396f0ad-d82d-484e-becb-b903bd0dd73e' title='Show/Hide data repr'><svg class='icon xr-icon-database'><use xlink:href='#icon-database'></use></svg></label><div class='xr-var-attrs'><dl class='xr-attrs'></dl></div><div class='xr-var-data'><pre>[1 values with dtype=float64]</pre></div></li><li class='xr-var-item'><div class='xr-var-name'><span>b</span></div><div class='xr-var-dims'>(b_dim_0, prior_draw)</div><div class='xr-var-dtype'>float64</div><div class='xr-var-preview xr-preview'>...</div><input id='attrs-a7226f9d-9acf-46f7-aa86-8d3ff2601b81' class='xr-var-attrs-in' type='checkbox' disabled><label for='attrs-a7226f9d-9acf-46f7-aa86-8d3ff2601b81' title='Show/Hide attributes'><svg class='icon xr-icon-file-text2'><use xlink:href='#icon-file-text2'></use></svg></label><input id='data-d1ff6248-a76c-4d4f-83f0-a35d06873dab' class='xr-var-data-in' type='checkbox'><label for='data-d1ff6248-a76c-4d4f-83f0-a35d06873dab' title='Show/Hide data repr'><svg class='icon xr-icon-database'><use xlink:href='#icon-database'></use></svg></label><div class='xr-var-attrs'><dl class='xr-attrs'></dl></div><div class='xr-var-data'><pre>[20 values with dtype=float64]</pre></div></li><li class='xr-var-item'><div class='xr-var-name'><span>eor</span></div><div class='xr-var-dims'>(eor_dim_0, prior_draw)</div><div class='xr-var-dtype'>float64</div><div class='xr-var-preview xr-preview'>...</div><input id='attrs-ac78e390-084d-4cfd-8019-f9c960aa46d1' class='xr-var-attrs-in' type='checkbox' disabled><label for='attrs-ac78e390-084d-4cfd-8019-f9c960aa46d1' title='Show/Hide attributes'><svg class='icon xr-icon-file-text2'><use xlink:href='#icon-file-text2'></use></svg></label><input id='data-20b7eed6-1b1e-4253-a57c-a7eb53d42e39' class='xr-var-data-in' type='checkbox'><label for='data-20b7eed6-1b1e-4253-a57c-a7eb53d42e39' title='Show/Hide data repr'><svg class='icon xr-icon-database'><use xlink:href='#icon-database'></use></svg></label><div class='xr-var-attrs'><dl class='xr-attrs'></dl></div><div class='xr-var-data'><pre>[20 values with dtype=float64]</pre></div></li><li class='xr-var-item'><div class='xr-var-name'><span>process_noise</span></div><div class='xr-var-dims'>(process_noise_dim_0, prior_draw)</div><div class='xr-var-dtype'>float64</div><div class='xr-var-preview xr-preview'>...</div><input id='attrs-f3f349e6-3ec3-4612-8b88-70c659d96d00' class='xr-var-attrs-in' type='checkbox' disabled><label for='attrs-f3f349e6-3ec3-4612-8b88-70c659d96d00' title='Show/Hide attributes'><svg class='icon xr-icon-file-text2'><use xlink:href='#icon-file-text2'></use></svg></label><input id='data-2ee4afb4-0717-41b0-b9da-0643eca9a2d6' class='xr-var-data-in' type='checkbox'><label for='data-2ee4afb4-0717-41b0-b9da-0643eca9a2d6' title='Show/Hide data repr'><svg class='icon xr-icon-database'><use xlink:href='#icon-database'></use></svg></label><div class='xr-var-attrs'><dl class='xr-attrs'></dl></div><div class='xr-var-data'><pre>[20 values with dtype=float64]</pre></div></li><li class='xr-var-item'><div class='xr-var-name'><span>s</span></div><div class='xr-var-dims'>(s_dim_0, prior_draw)</div><div class='xr-var-dtype'>float64</div><div class='xr-var-preview xr-preview'>...</div><input id='attrs-2919c0fa-3850-4c9b-88e5-3d9308e720bb' class='xr-var-attrs-in' type='checkbox' disabled><label for='attrs-2919c0fa-3850-4c9b-88e5-3d9308e720bb' title='Show/Hide attributes'><svg class='icon xr-icon-file-text2'><use xlink:href='#icon-file-text2'></use></svg></label><input id='data-1c4731a4-76b3-485d-b91d-f13b26e18d7f' class='xr-var-data-in' type='checkbox'><label for='data-1c4731a4-76b3-485d-b91d-f13b26e18d7f' title='Show/Hide data repr'><svg class='icon xr-icon-database'><use xlink:href='#icon-database'></use></svg></label><div class='xr-var-attrs'><dl class='xr-attrs'></dl></div><div class='xr-var-data'><pre>[20 values with dtype=float64]</pre></div></li><li class='xr-var-item'><div class='xr-var-name'><span>ss</span></div><div class='xr-var-dims'>(ss_dim_0, prior_draw)</div><div class='xr-var-dtype'>float64</div><div class='xr-var-preview xr-preview'>...</div><input id='attrs-94751961-daea-4e9d-938a-a1a6ab0b5d7b' class='xr-var-attrs-in' type='checkbox' disabled><label for='attrs-94751961-daea-4e9d-938a-a1a6ab0b5d7b' title='Show/Hide attributes'><svg class='icon xr-icon-file-text2'><use xlink:href='#icon-file-text2'></use></svg></label><input id='data-8a2e94e9-1084-41ba-b148-9410de098964' class='xr-var-data-in' type='checkbox'><label for='data-8a2e94e9-1084-41ba-b148-9410de098964' title='Show/Hide data repr'><svg class='icon xr-icon-database'><use xlink:href='#icon-database'></use></svg></label><div class='xr-var-attrs'><dl class='xr-attrs'></dl></div><div class='xr-var-data'><pre>[20 values with dtype=float64]</pre></div></li><li class='xr-var-item'><div class='xr-var-name'><span>stocked_ping</span></div><div class='xr-var-dims'>(stocked_ping_dim_0, prior_draw)</div><div class='xr-var-dtype'>float64</div><div class='xr-var-preview xr-preview'>...</div><input id='attrs-30354125-e7bd-49bd-bba0-d7bc4b953cbc' class='xr-var-attrs-in' type='checkbox' disabled><label for='attrs-30354125-e7bd-49bd-bba0-d7bc4b953cbc' title='Show/Hide attributes'><svg class='icon xr-icon-file-text2'><use xlink:href='#icon-file-text2'></use></svg></label><input id='data-e2b1571d-f181-4ecb-9ecd-f653ecd5fac2' class='xr-var-data-in' type='checkbox'><label for='data-e2b1571d-f181-4ecb-9ecd-f653ecd5fac2' title='Show/Hide data repr'><svg class='icon xr-icon-database'><use xlink:href='#icon-database'></use></svg></label><div class='xr-var-attrs'><dl class='xr-attrs'></dl></div><div class='xr-var-data'><pre>[20 values with dtype=float64]</pre></div></li><li class='xr-var-item'><div class='xr-var-name'><span>stocked_pping</span></div><div class='xr-var-dims'>(stocked_pping_dim_0, prior_draw)</div><div class='xr-var-dtype'>float64</div><div class='xr-var-preview xr-preview'>...</div><input id='attrs-aadbfe78-7a4f-4b0b-8785-9e57f28d9d18' class='xr-var-attrs-in' type='checkbox' disabled><label for='attrs-aadbfe78-7a4f-4b0b-8785-9e57f28d9d18' title='Show/Hide attributes'><svg class='icon xr-icon-file-text2'><use xlink:href='#icon-file-text2'></use></svg></label><input id='data-d20a3193-b5fd-45de-98b6-4136a7ddf8df' class='xr-var-data-in' type='checkbox'><label for='data-d20a3193-b5fd-45de-98b6-4136a7ddf8df' title='Show/Hide data repr'><svg class='icon xr-icon-database'><use xlink:href='#icon-database'></use></svg></label><div class='xr-var-attrs'><dl class='xr-attrs'></dl></div><div class='xr-var-data'><pre>[20 values with dtype=float64]</pre></div></li><li class='xr-var-item'><div class='xr-var-name'><span>integrated_result</span></div><div class='xr-var-dims'>(time, stock, prior_draw)</div><div class='xr-var-dtype'>float64</div><div class='xr-var-preview xr-preview'>...</div><input id='attrs-4b05b460-c1fc-48aa-b6d7-8a815427204e' class='xr-var-attrs-in' type='checkbox' disabled><label for='attrs-4b05b460-c1fc-48aa-b6d7-8a815427204e' title='Show/Hide attributes'><svg class='icon xr-icon-file-text2'><use xlink:href='#icon-file-text2'></use></svg></label><input id='data-f208b565-0d59-46a3-85c3-0035ba294b43' class='xr-var-data-in' type='checkbox'><label for='data-f208b565-0d59-46a3-85c3-0035ba294b43' title='Show/Hide data repr'><svg class='icon xr-icon-database'><use xlink:href='#icon-database'></use></svg></label><div class='xr-var-attrs'><dl class='xr-attrs'></dl></div><div class='xr-var-data'><pre>[140 values with dtype=float64]</pre></div></li></ul></div></li><li class='xr-section-item'><input id='section-7b8ff8d6-79d0-4a41-a403-d59aa82be54a' class='xr-section-summary-in' type='checkbox'  ><label for='section-7b8ff8d6-79d0-4a41-a403-d59aa82be54a' class='xr-section-summary' >Indexes: <span>(9)</span></label><div class='xr-section-inline-details'></div><div class='xr-section-details'><ul class='xr-var-list'><li class='xr-var-item'><div class='xr-index-name'><div>b_dim_0</div></div><div class='xr-index-preview'>PandasIndex</div><div></div><input id='index-9c785298-160b-4021-b237-bc32fa9a5f72' class='xr-index-data-in' type='checkbox'/><label for='index-9c785298-160b-4021-b237-bc32fa9a5f72' title='Show/Hide index repr'><svg class='icon xr-icon-database'><use xlink:href='#icon-database'></use></svg></label><div class='xr-index-data'><pre>PandasIndex(Int64Index([0, 1, 2, 3, 4, 5, 6, 7, 8, 9, 10, 11, 12, 13, 14, 15, 16, 17, 18,\n            19],\n           dtype=&#x27;int64&#x27;, name=&#x27;b_dim_0&#x27;))</pre></div></li><li class='xr-var-item'><div class='xr-index-name'><div>eor_dim_0</div></div><div class='xr-index-preview'>PandasIndex</div><div></div><input id='index-7c6ff67e-9c8c-4ceb-8c57-283c31a3cc31' class='xr-index-data-in' type='checkbox'/><label for='index-7c6ff67e-9c8c-4ceb-8c57-283c31a3cc31' title='Show/Hide index repr'><svg class='icon xr-icon-database'><use xlink:href='#icon-database'></use></svg></label><div class='xr-index-data'><pre>PandasIndex(Int64Index([0, 1, 2, 3, 4, 5, 6, 7, 8, 9, 10, 11, 12, 13, 14, 15, 16, 17, 18,\n            19],\n           dtype=&#x27;int64&#x27;, name=&#x27;eor_dim_0&#x27;))</pre></div></li><li class='xr-var-item'><div class='xr-index-name'><div>process_noise_dim_0</div></div><div class='xr-index-preview'>PandasIndex</div><div></div><input id='index-1f375d87-71d6-4e95-98ca-8b8f310ab952' class='xr-index-data-in' type='checkbox'/><label for='index-1f375d87-71d6-4e95-98ca-8b8f310ab952' title='Show/Hide index repr'><svg class='icon xr-icon-database'><use xlink:href='#icon-database'></use></svg></label><div class='xr-index-data'><pre>PandasIndex(Int64Index([0, 1, 2, 3, 4, 5, 6, 7, 8, 9, 10, 11, 12, 13, 14, 15, 16, 17, 18,\n            19],\n           dtype=&#x27;int64&#x27;, name=&#x27;process_noise_dim_0&#x27;))</pre></div></li><li class='xr-var-item'><div class='xr-index-name'><div>s_dim_0</div></div><div class='xr-index-preview'>PandasIndex</div><div></div><input id='index-8d4fb733-1f71-477b-9673-145efdab2ff3' class='xr-index-data-in' type='checkbox'/><label for='index-8d4fb733-1f71-477b-9673-145efdab2ff3' title='Show/Hide index repr'><svg class='icon xr-icon-database'><use xlink:href='#icon-database'></use></svg></label><div class='xr-index-data'><pre>PandasIndex(Int64Index([0, 1, 2, 3, 4, 5, 6, 7, 8, 9, 10, 11, 12, 13, 14, 15, 16, 17, 18,\n            19],\n           dtype=&#x27;int64&#x27;, name=&#x27;s_dim_0&#x27;))</pre></div></li><li class='xr-var-item'><div class='xr-index-name'><div>ss_dim_0</div></div><div class='xr-index-preview'>PandasIndex</div><div></div><input id='index-a7cd43f7-87df-456f-9da7-5e053d4b0fd8' class='xr-index-data-in' type='checkbox'/><label for='index-a7cd43f7-87df-456f-9da7-5e053d4b0fd8' title='Show/Hide index repr'><svg class='icon xr-icon-database'><use xlink:href='#icon-database'></use></svg></label><div class='xr-index-data'><pre>PandasIndex(Int64Index([0, 1, 2, 3, 4, 5, 6, 7, 8, 9, 10, 11, 12, 13, 14, 15, 16, 17, 18,\n            19],\n           dtype=&#x27;int64&#x27;, name=&#x27;ss_dim_0&#x27;))</pre></div></li><li class='xr-var-item'><div class='xr-index-name'><div>stocked_ping_dim_0</div></div><div class='xr-index-preview'>PandasIndex</div><div></div><input id='index-ae08cda4-1a17-49d9-9ad7-e406c212743a' class='xr-index-data-in' type='checkbox'/><label for='index-ae08cda4-1a17-49d9-9ad7-e406c212743a' title='Show/Hide index repr'><svg class='icon xr-icon-database'><use xlink:href='#icon-database'></use></svg></label><div class='xr-index-data'><pre>PandasIndex(Int64Index([0, 1, 2, 3, 4, 5, 6, 7, 8, 9, 10, 11, 12, 13, 14, 15, 16, 17, 18,\n            19],\n           dtype=&#x27;int64&#x27;, name=&#x27;stocked_ping_dim_0&#x27;))</pre></div></li><li class='xr-var-item'><div class='xr-index-name'><div>stocked_pping_dim_0</div></div><div class='xr-index-preview'>PandasIndex</div><div></div><input id='index-9f4c2304-81d8-4bb0-a1a8-b2047ea8dbdc' class='xr-index-data-in' type='checkbox'/><label for='index-9f4c2304-81d8-4bb0-a1a8-b2047ea8dbdc' title='Show/Hide index repr'><svg class='icon xr-icon-database'><use xlink:href='#icon-database'></use></svg></label><div class='xr-index-data'><pre>PandasIndex(Int64Index([0, 1, 2, 3, 4, 5, 6, 7, 8, 9, 10, 11, 12, 13, 14, 15, 16, 17, 18,\n            19],\n           dtype=&#x27;int64&#x27;, name=&#x27;stocked_pping_dim_0&#x27;))</pre></div></li><li class='xr-var-item'><div class='xr-index-name'><div>time</div></div><div class='xr-index-preview'>PandasIndex</div><div></div><input id='index-e96a0a77-58dc-4357-b839-56db182c77ab' class='xr-index-data-in' type='checkbox'/><label for='index-e96a0a77-58dc-4357-b839-56db182c77ab' title='Show/Hide index repr'><svg class='icon xr-icon-database'><use xlink:href='#icon-database'></use></svg></label><div class='xr-index-data'><pre>PandasIndex(Float64Index([0.01, 0.51, 1.01, 1.51, 2.01, 2.51, 3.01, 3.51, 4.01, 4.51, 5.01,\n              5.51, 6.01, 6.51, 7.01, 7.51, 8.01, 8.51, 9.01, 9.51],\n             dtype=&#x27;float64&#x27;, name=&#x27;time&#x27;))</pre></div></li><li class='xr-var-item'><div class='xr-index-name'><div>stock</div></div><div class='xr-index-preview'>PandasIndex</div><div></div><input id='index-b5f0850c-557b-4a71-8d96-18b365a5f385' class='xr-index-data-in' type='checkbox'/><label for='index-b5f0850c-557b-4a71-8d96-18b365a5f385' title='Show/Hide index repr'><svg class='icon xr-icon-database'><use xlink:href='#icon-database'></use></svg></label><div class='xr-index-data'><pre>PandasIndex(Index([&#x27;b&#x27;, &#x27;eor&#x27;, &#x27;process_noise&#x27;, &#x27;s&#x27;, &#x27;ss&#x27;, &#x27;stocked_ping&#x27;,\n       &#x27;stocked_pping&#x27;],\n      dtype=&#x27;object&#x27;, name=&#x27;stock&#x27;))</pre></div></li></ul></div></li><li class='xr-section-item'><input id='section-78a72e83-63db-41bc-9177-3f667f5761f4' class='xr-section-summary-in' type='checkbox'  ><label for='section-78a72e83-63db-41bc-9177-3f667f5761f4' class='xr-section-summary' >Attributes: <span>(4)</span></label><div class='xr-section-inline-details'></div><div class='xr-section-details'><dl class='xr-attrs'><dt><span>created_at :</span></dt><dd>2023-01-01T03:29:33.308448</dd><dt><span>arviz_version :</span></dt><dd>0.15.0.dev0</dd><dt><span>inference_library :</span></dt><dd>cmdstanpy</dd><dt><span>inference_library_version :</span></dt><dd>1.0.8</dd></dl></div></li></ul></div></div>"
     },
     "execution_count": 12,
     "metadata": {},
     "output_type": "execute_result"
    }
   ],
   "source": [
    "\n",
    "sbc.prior"
   ],
   "metadata": {
    "collapsed": false,
    "pycharm": {
     "name": "#%%\n"
    }
   }
  },
  {
   "cell_type": "code",
   "execution_count": 16,
   "outputs": [
    {
     "ename": "AttributeError",
     "evalue": "'ItemsView' object has no attribute 'tolist'",
     "output_type": "error",
     "traceback": [
      "\u001B[0;31m---------------------------------------------------------------------------\u001B[0m",
      "\u001B[0;31mAttributeError\u001B[0m                            Traceback (most recent call last)",
      "Cell \u001B[0;32mIn [16], line 1\u001B[0m\n\u001B[0;32m----> 1\u001B[0m \u001B[43msbc\u001B[49m\u001B[38;5;241;43m.\u001B[39;49m\u001B[43mprior\u001B[49m\u001B[43m[\u001B[49m\u001B[43m[\u001B[49m\u001B[38;5;124;43m'\u001B[39;49m\u001B[38;5;124;43madj_frac1\u001B[39;49m\u001B[38;5;124;43m'\u001B[39;49m\u001B[43m,\u001B[49m\u001B[43m \u001B[49m\u001B[38;5;124;43m'\u001B[39;49m\u001B[38;5;124;43madj_frac2\u001B[39;49m\u001B[38;5;124;43m'\u001B[39;49m\u001B[43m]\u001B[49m\u001B[43m]\u001B[49m\u001B[38;5;241;43m.\u001B[39;49m\u001B[43mitems\u001B[49m\u001B[43m(\u001B[49m\u001B[43m)\u001B[49m\u001B[38;5;241;43m.\u001B[39;49m\u001B[43mtolist\u001B[49m()\n",
      "\u001B[0;31mAttributeError\u001B[0m: 'ItemsView' object has no attribute 'tolist'"
     ]
    }
   ],
   "source": [
    "sbc.prior[['adj_frac1', 'adj_frac2']].items().tolist()"
   ],
   "metadata": {
    "collapsed": false,
    "pycharm": {
     "name": "#%%\n"
    }
   }
  },
  {
   "cell_type": "code",
   "execution_count": 15,
   "outputs": [
    {
     "ename": "AttributeError",
     "evalue": "'Dataset' object has no attribute 'tolist'",
     "output_type": "error",
     "traceback": [
      "\u001B[0;31m---------------------------------------------------------------------------\u001B[0m",
      "\u001B[0;31mAttributeError\u001B[0m                            Traceback (most recent call last)",
      "Cell \u001B[0;32mIn [15], line 1\u001B[0m\n\u001B[0;32m----> 1\u001B[0m \u001B[43msbc\u001B[49m\u001B[38;5;241;43m.\u001B[39;49m\u001B[43mprior\u001B[49m\u001B[38;5;241;43m.\u001B[39;49m\u001B[43mtolist\u001B[49m()\n",
      "File \u001B[0;32m~/Dropbox/stanify/venv/lib/python3.10/site-packages/xarray/core/common.py:272\u001B[0m, in \u001B[0;36mAttrAccessMixin.__getattr__\u001B[0;34m(self, name)\u001B[0m\n\u001B[1;32m    270\u001B[0m         \u001B[38;5;28;01mwith\u001B[39;00m suppress(\u001B[38;5;167;01mKeyError\u001B[39;00m):\n\u001B[1;32m    271\u001B[0m             \u001B[38;5;28;01mreturn\u001B[39;00m source[name]\n\u001B[0;32m--> 272\u001B[0m \u001B[38;5;28;01mraise\u001B[39;00m \u001B[38;5;167;01mAttributeError\u001B[39;00m(\n\u001B[1;32m    273\u001B[0m     \u001B[38;5;124mf\u001B[39m\u001B[38;5;124m\"\u001B[39m\u001B[38;5;132;01m{\u001B[39;00m\u001B[38;5;28mtype\u001B[39m(\u001B[38;5;28mself\u001B[39m)\u001B[38;5;241m.\u001B[39m\u001B[38;5;18m__name__\u001B[39m\u001B[38;5;132;01m!r}\u001B[39;00m\u001B[38;5;124m object has no attribute \u001B[39m\u001B[38;5;132;01m{\u001B[39;00mname\u001B[38;5;132;01m!r}\u001B[39;00m\u001B[38;5;124m\"\u001B[39m\n\u001B[1;32m    274\u001B[0m )\n",
      "\u001B[0;31mAttributeError\u001B[0m: 'Dataset' object has no attribute 'tolist'"
     ]
    }
   ],
   "source": [
    "sbc.prior.tolist()"
   ],
   "metadata": {
    "collapsed": false,
    "pycharm": {
     "name": "#%%\n"
    }
   }
  },
  {
   "cell_type": "code",
   "execution_count": 12,
   "outputs": [
    {
     "ename": "AttributeError",
     "evalue": "'ValuesView' object has no attribute 'tolist'",
     "output_type": "error",
     "traceback": [
      "\u001B[0;31m---------------------------------------------------------------------------\u001B[0m",
      "\u001B[0;31mAttributeError\u001B[0m                            Traceback (most recent call last)",
      "Cell \u001B[0;32mIn [12], line 1\u001B[0m\n\u001B[0;32m----> 1\u001B[0m \u001B[43msbc\u001B[49m\u001B[38;5;241;43m.\u001B[39;49m\u001B[43mprior\u001B[49m\u001B[43m[\u001B[49m\u001B[43m[\u001B[49m\u001B[38;5;124;43m'\u001B[39;49m\u001B[38;5;124;43madj_frac1\u001B[39;49m\u001B[38;5;124;43m'\u001B[39;49m\u001B[43m,\u001B[49m\u001B[43m \u001B[49m\u001B[38;5;124;43m'\u001B[39;49m\u001B[38;5;124;43madj_frac2\u001B[39;49m\u001B[38;5;124;43m'\u001B[39;49m\u001B[43m]\u001B[49m\u001B[43m]\u001B[49m\u001B[38;5;241;43m.\u001B[39;49m\u001B[43mvalues\u001B[49m\u001B[43m(\u001B[49m\u001B[43m)\u001B[49m\u001B[38;5;241;43m.\u001B[39;49m\u001B[43mtolist\u001B[49m()\n",
      "\u001B[0;31mAttributeError\u001B[0m: 'ValuesView' object has no attribute 'tolist'"
     ]
    }
   ],
   "source": [
    "sbc.prior[['adj_frac1', 'adj_frac2']].values().tolist()"
   ],
   "metadata": {
    "collapsed": false,
    "pycharm": {
     "name": "#%%\n"
    }
   }
  },
  {
   "cell_type": "code",
   "execution_count": 4,
   "outputs": [
    {
     "data": {
      "text/plain": "[<matplotlib.lines.Line2D at 0x150abb280>]"
     },
     "execution_count": 4,
     "metadata": {},
     "output_type": "execute_result"
    },
    {
     "data": {
      "text/plain": "<Figure size 640x480 with 1 Axes>",
      "image/png": "[encoded data removed]"
     },
     "metadata": {},
     "output_type": "display_data"
    }
   ],
   "source": [
    "sbc.prior['process_noise'].plot()"
   ],
   "metadata": {
    "collapsed": false,
    "pycharm": {
     "name": "#%%\n"
    }
   }
  },
  {
   "cell_type": "code",
   "execution_count": 1,
   "outputs": [
    {
     "ename": "NameError",
     "evalue": "name 'np' is not defined",
     "output_type": "error",
     "traceback": [
      "\u001B[0;31m---------------------------------------------------------------------------\u001B[0m",
      "\u001B[0;31mNameError\u001B[0m                                 Traceback (most recent call last)",
      "Cell \u001B[0;32mIn [1], line 1\u001B[0m\n\u001B[0;32m----> 1\u001B[0m \u001B[43mnp\u001B[49m\u001B[38;5;241m.\u001B[39mstd(sbc\u001B[38;5;241m.\u001B[39mprior[\u001B[38;5;124m'\u001B[39m\u001B[38;5;124mprocess_noise\u001B[39m\u001B[38;5;124m'\u001B[39m]\u001B[38;5;241m.\u001B[39mvalues)\n",
      "\u001B[0;31mNameError\u001B[0m: name 'np' is not defined"
     ]
    }
   ],
   "source": [
    "np.std(sbc.prior['process_noise'].values)"
   ],
   "metadata": {
    "collapsed": false,
    "pycharm": {
     "name": "#%%\n"
    }
   }
  },
  {
   "cell_type": "code",
   "execution_count": 6,
   "outputs": [
    {
     "data": {
      "text/plain": "array([[[[0.0789071, 0.338185 , 0.0783916, ..., 0.258576 , 0.552174 ,\n          0.443393 ],\n         [0.0789071, 0.338185 , 0.0783916, ..., 0.258576 , 0.552174 ,\n          0.443393 ],\n         [0.0789071, 0.338185 , 0.0783916, ..., 0.258576 , 0.552174 ,\n          0.443393 ],\n         ...,\n         [0.0789071, 0.338185 , 0.0783916, ..., 0.258576 , 0.552174 ,\n          0.443393 ],\n         [0.0789071, 0.338185 , 0.0783916, ..., 0.258576 , 0.552174 ,\n          0.443393 ],\n         [0.0789071, 0.338185 , 0.0783916, ..., 0.258576 , 0.552174 ,\n          0.443393 ]],\n\n        [[0.0789071, 0.338185 , 0.0783916, ..., 0.258576 , 0.552174 ,\n          0.443393 ],\n         [0.0789071, 0.338185 , 0.0783916, ..., 0.258576 , 0.552174 ,\n          0.443393 ],\n         [0.0789071, 0.338185 , 0.0783916, ..., 0.258576 , 0.552174 ,\n          0.443393 ],\n         ...,\n         [0.0789071, 0.338185 , 0.0783916, ..., 0.258576 , 0.552174 ,\n          0.443393 ],\n         [0.0789071, 0.338185 , 0.0783916, ..., 0.258576 , 0.552174 ,\n          0.443393 ],\n         [0.0789071, 0.338185 , 0.0783916, ..., 0.258576 , 0.552174 ,\n          0.443393 ]]]])"
     },
     "execution_count": 6,
     "metadata": {},
     "output_type": "execute_result"
    }
   ],
   "source": [
    "sbc.posterior['process_noise'].values"
   ],
   "metadata": {
    "collapsed": false,
    "pycharm": {
     "name": "#%%\n"
    }
   }
  },
  {
   "cell_type": "code",
   "execution_count": 7,
   "outputs": [
    {
     "data": {
      "text/plain": "0.20803550013317587"
     },
     "execution_count": 7,
     "metadata": {},
     "output_type": "execute_result"
    }
   ],
   "source": [
    "np.std(sbc.prior['process_noise'].values)"
   ],
   "metadata": {
    "collapsed": false,
    "pycharm": {
     "name": "#%%\n"
    }
   }
  },
  {
   "cell_type": "code",
   "execution_count": 8,
   "outputs": [
    {
     "data": {
      "text/plain": "0.20803550013317587"
     },
     "execution_count": 8,
     "metadata": {},
     "output_type": "execute_result"
    }
   ],
   "source": [
    "np.std(sbc.posterior['process_noise'].values.flatten())"
   ],
   "metadata": {
    "collapsed": false,
    "pycharm": {
     "name": "#%%\n"
    }
   }
  },
  {
   "cell_type": "code",
   "execution_count": 11,
   "outputs": [
    {
     "data": {
      "text/plain": "0.027381449636864674"
     },
     "execution_count": 11,
     "metadata": {},
     "output_type": "execute_result"
    }
   ],
   "source": [
    "np.std(sbc.posterior['process_noise'].values.flatten())"
   ],
   "metadata": {
    "collapsed": false,
    "pycharm": {
     "name": "#%%\n"
    }
   }
  },
  {
   "cell_type": "code",
   "execution_count": 9,
   "outputs": [
    {
     "data": {
      "text/plain": "<AxesSubplot: >"
     },
     "execution_count": 9,
     "metadata": {},
     "output_type": "execute_result"
    },
    {
     "data": {
      "text/plain": "<Figure size 640x480 with 1 Axes>",
      "image/png": "[encoded data removed]"
     },
     "metadata": {},
     "output_type": "display_data"
    }
   ],
   "source": [
    "pd.Series(sbc.posterior['process_noise'].values.flatten()).plot()"
   ],
   "metadata": {
    "collapsed": false,
    "pycharm": {
     "name": "#%%\n"
    }
   }
  },
  {
   "cell_type": "code",
   "execution_count": null,
   "outputs": [],
   "source": [
    "np.sbc.prior_predictive['process_noise_obs'].values() #.1"
   ],
   "metadata": {
    "collapsed": false,
    "pycharm": {
     "name": "#%%\n"
    }
   }
  },
  {
   "cell_type": "markdown",
   "source": [],
   "metadata": {
    "collapsed": false,
    "pycharm": {
     "name": "#%% md\n"
    }
   }
  },
  {
   "cell_type": "markdown",
   "source": [
    "Posterior is very tight without much uncertainty"
   ],
   "metadata": {
    "collapsed": false,
    "pycharm": {
     "name": "#%% md\n"
    }
   }
  },
  {
   "cell_type": "code",
   "execution_count": null,
   "outputs": [],
   "source": [
    "az.plot_posterior(sbc, var_names=setting['est_param_names'])"
   ],
   "metadata": {
    "collapsed": false,
    "pycharm": {
     "name": "#%%\n"
    }
   }
  },
  {
   "cell_type": "markdown",
   "source": [
    "The [forest plot](https://arviz-devs.github.io/arviz/api/generated/arviz.plot_forest.html) shows chains are stuck. Generally, each chain has different values, so plot_posterior that combines gives a semblance of kde, but for this model, each chain returns always the same exact value."
   ],
   "metadata": {
    "collapsed": false,
    "pycharm": {
     "name": "#%% md\n"
    }
   }
  },
  {
   "cell_type": "markdown",
   "source": [
    "summary function returns mean, sd, credible interval for estimated parameter and target simulated vector. mcse, effective sample size (ess), r_hat tells quality of each variables' sample. Refer to [Stan manual](https://mc-stan.org/docs/reference-manual/effective-sample-size.html) for ess details. From large number of r_hat, the covergence of four chains are not good which is verified in more detail below. 1.2 is the usual threshold for r_hat."
   ],
   "metadata": {
    "collapsed": false,
    "pycharm": {
     "name": "#%% md\n"
    }
   }
  },
  {
   "cell_type": "code",
   "execution_count": null,
   "outputs": [],
   "source": [
    "az.summary(sbc.posterior[setting['est_param_names']])"
   ],
   "metadata": {
    "collapsed": false,
    "pycharm": {
     "name": "#%%\n"
    }
   }
  },
  {
   "cell_type": "code",
   "execution_count": null,
   "outputs": [],
   "source": [
    "az.summary(sbc.posterior['m_noise_scale'])"
   ],
   "metadata": {
    "collapsed": false,
    "pycharm": {
     "name": "#%%\n"
    }
   }
  },
  {
   "cell_type": "markdown",
   "source": [
    "The PPC (prior/poseterior predictive check) plot is a standard way for Bayesian checking. It serves complementary role with simulation-based calibration (SBC). Two checks happen in different space: PPC in observation space as time series, SBC in parameter space as rank comparison between the ground truth and retrieved estimated samples. From the plot, posterior predictive's negative values is the most problematic which was expected as the currrent version uses normal likelihood. Changing this to lognoraml or negative binomial can solve this problem, but lognormal has thicker tail creating difficult posterior geometry and negative binomial need transformation to integer value which is known to be not accurate."
   ],
   "metadata": {
    "collapsed": false,
    "pycharm": {
     "name": "#%% md\n"
    }
   }
  },
  {
   "cell_type": "markdown",
   "source": [
    "new plot that compares against time is needed for dynamic models. posterior predictive is quite different from general bayse models."
   ],
   "metadata": {
    "collapsed": false,
    "pycharm": {
     "name": "#%% md\n"
    }
   }
  },
  {
   "cell_type": "code",
   "execution_count": null,
   "outputs": [],
   "source": [
    "data_pairs = dict()\n",
    "for obs_name in output_format['prior_predictive']:\n",
    "    data_pairs[obs_name] = f'{obs_name}_post'\n",
    "az.plot_ppc(sbc, data_pairs = data_pairs)"
   ],
   "metadata": {
    "collapsed": false,
    "pycharm": {
     "name": "#%%\n"
    }
   }
  },
  {
   "cell_type": "markdown",
   "source": [
    "# loglikliehood plots"
   ],
   "metadata": {
    "collapsed": false,
    "pycharm": {
     "name": "#%% md\n"
    }
   }
  },
  {
   "cell_type": "markdown",
   "source": [
    "# Appendix"
   ],
   "metadata": {
    "collapsed": false,
    "pycharm": {
     "name": "#%% md\n"
    }
   }
  },
  {
   "cell_type": "markdown",
   "source": [
    "## model"
   ],
   "metadata": {
    "collapsed": false,
    "pycharm": {
     "name": "#%% md\n"
    }
   }
  },
  {
   "cell_type": "code",
   "execution_count": null,
   "outputs": [],
   "source": [
    "print(CmdStanModel(stan_file=f\"stan_files/{model.model_name}/draws2data.stan\").code())\n",
    "print(CmdStanModel(stan_file=f\"stan_files/{model.model_name}/data2draws.stan\").code())"
   ],
   "metadata": {
    "collapsed": false,
    "pycharm": {
     "name": "#%%\n"
    }
   }
  }
 ],
 "metadata": {
  "kernelspec": {
   "display_name": "Python 3",
   "language": "python",
   "name": "python3"
  },
  "language_info": {
   "codemirror_mode": {
    "name": "ipython",
    "version": 2
   },
   "file_extension": ".py",
   "mimetype": "text/x-python",
   "name": "python",
   "nbconvert_exporter": "python",
   "pygments_lexer": "ipython2",
   "version": "2.7.6"
  }
 },
 "nbformat": 4,
 "nbformat_minor": 0
}