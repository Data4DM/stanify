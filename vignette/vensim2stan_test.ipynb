{
 "cells": [
  {
   "cell_type": "code",
   "execution_count": 1,
   "outputs": [],
   "source": [
    "import numpy as np\n",
    "import xarray as xr"
   ],
   "metadata": {
    "collapsed": false
   }
  },
  {
   "cell_type": "code",
   "execution_count": 2,
   "outputs": [
    {
     "name": "stdout",
     "output_type": "stream",
     "text": [
      "['/Users/dashadower/git_repos/stanify/vignette', '/Library/Frameworks/Python.framework/Versions/3.10/lib/python310.zip', '/Library/Frameworks/Python.framework/Versions/3.10/lib/python3.10', '/Library/Frameworks/Python.framework/Versions/3.10/lib/python3.10/lib-dynload', '', '/Users/dashadower/git_repos/stanify/venv/lib/python3.10/site-packages']\n"
     ]
    }
   ],
   "source": [
    "import sys\n",
    "print(sys.path)\n",
    "sys.path.append(\"/Users/dashadower/git_repos/stanify\")"
   ],
   "metadata": {
    "collapsed": false
   }
  },
  {
   "cell_type": "code",
   "execution_count": 3,
   "metadata": {
    "collapsed": true
   },
   "outputs": [],
   "source": [
    "from stanify.builders.vensim2stan import Vensim2Stan"
   ]
  },
  {
   "cell_type": "code",
   "execution_count": 4,
   "outputs": [],
   "source": [
    "#vensim_model_path = \"/Users/dashadower/git_repos/stanify/vensim_models/hier_prey_predator_wopnoise.mdl\"\n",
    "#vensim_model_path = \"/Users/dashadower/git_repos/stanify/vensim_models/prey_predator_wopnoise.mdl\"\n",
    "vensim_model_path = \"/Users/dashadower/git_repos/stanify/vensim_models/compare_vensim_stan.mdl\""
   ],
   "metadata": {
    "collapsed": false
   }
  },
  {
   "cell_type": "code",
   "execution_count": 5,
   "outputs": [],
   "source": [
    "v2s_code = \"\"\"\n",
    "//adj_frac1 ~ normal(0.5, 0.1);\n",
    "ss_obs[timesteps] ~ normal(ss[timesteps], sigma);\n",
    "//prey_obs[region, timesteps] ~ normal(prey[region, timesteps], sigma[region]);\n",
    "sigma<lower=0.1> ~ lognormal(0, 1);\n",
    "\"\"\""
   ],
   "metadata": {
    "collapsed": false
   }
  },
  {
   "cell_type": "code",
   "execution_count": 6,
   "outputs": [],
   "source": [
    "max_time = 100"
   ],
   "metadata": {
    "collapsed": false
   }
  },
  {
   "cell_type": "code",
   "execution_count": 7,
   "outputs": [],
   "source": [
    "timesteps = np.arange(0, max_time, dtype=np.float32) + 1e-6"
   ],
   "metadata": {
    "collapsed": false
   }
  },
  {
   "cell_type": "code",
   "execution_count": 8,
   "outputs": [
    {
     "name": "stderr",
     "output_type": "stream",
     "text": [
      "/var/folders/dr/wk6zc3jn4s36h5dvr9w2tc_r0000gn/T/ipykernel_7411/1868211444.py:1: DeprecationWarning: Converting `np.integer` or `np.signedinteger` to a dtype is deprecated. The current result is `np.dtype(np.int_)` which is not strictly correct. Note that the result depends on the system. To ensure stable results use may want to use `np.int64` or `np.int32`.\n",
      "  v2s = Vensim2Stan(v2s_code, vensim_model_path, \"ss_obs\", 0, timesteps, additional_data={\"exog demand\": xr.DataArray(2 * timesteps + 100, dims=[\"timesteps\"], coords={\"timesteps\": timesteps.astype(np.integer)})})\n"
     ]
    }
   ],
   "source": [
    "v2s = Vensim2Stan(v2s_code, vensim_model_path, \"ss_obs\", 0, timesteps, additional_data={\"exog demand\": xr.DataArray(2 * timesteps + 100, dims=[\"timesteps\"], coords={\"timesteps\": timesteps.astype(np.integer)})})"
   ],
   "metadata": {
    "collapsed": false
   }
  },
  {
   "cell_type": "code",
   "execution_count": null,
   "outputs": [
    {
     "name": "stderr",
     "output_type": "stream",
     "text": [
      "/Users/dashadower/git_repos/stanify/stanify/builders/stan_block_codegen.py:243: UserWarning: initial time was defined in vensim. It will be ignored in favor for the initial time setting passed to Vensim2Stan.\n",
      "  warnings.warn(\"initial time was defined in vensim. It will be ignored in favor for the initial time setting passed to Vensim2Stan.\")\n",
      "10:50:28 - cmdstanpy - INFO - compiling stan file /Users/dashadower/git_repos/stanify/vignette/stan_files/compare_vensim_stan/draws2data_compare_vensim_stan.stan to exe file /Users/dashadower/git_repos/stanify/vignette/stan_files/compare_vensim_stan/draws2data_compare_vensim_stan\n",
      "10:50:32 - cmdstanpy - INFO - compiled model executable: /Users/dashadower/git_repos/stanify/vignette/stan_files/compare_vensim_stan/draws2data_compare_vensim_stan\n",
      "10:50:32 - cmdstanpy - INFO - CmdStan start processing\n"
     ]
    },
    {
     "data": {
      "text/plain": "chain 1 |          | 00:00 Status",
      "application/vnd.jupyter.widget-view+json": {
       "version_major": 2,
       "version_minor": 0,
       "model_id": "da8d48794dc641478865d2fe88857c73"
      }
     },
     "metadata": {},
     "output_type": "display_data"
    },
    {
     "name": "stdout",
     "output_type": "stream",
     "text": [
      "                                                                                "
     ]
    },
    {
     "name": "stderr",
     "output_type": "stream",
     "text": [
      "10:50:32 - cmdstanpy - INFO - CmdStan done processing.\n",
      "10:50:32 - cmdstanpy - INFO - compiling stan file /Users/dashadower/git_repos/stanify/vignette/stan_files/compare_vensim_stan/data2draws_compare_vensim_stan.stan to exe file /Users/dashadower/git_repos/stanify/vignette/stan_files/compare_vensim_stan/data2draws_compare_vensim_stan\n"
     ]
    },
    {
     "name": "stdout",
     "output_type": "stream",
     "text": [
      "\n",
      "Running SBC for dataset # 1 of 10\n"
     ]
    },
    {
     "name": "stderr",
     "output_type": "stream",
     "text": [
      "10:50:37 - cmdstanpy - INFO - compiled model executable: /Users/dashadower/git_repos/stanify/vignette/stan_files/compare_vensim_stan/data2draws_compare_vensim_stan\n",
      "10:50:38 - cmdstanpy - INFO - CmdStan start processing\n"
     ]
    },
    {
     "data": {
      "text/plain": "chain 1 |          | 00:00 Status",
      "application/vnd.jupyter.widget-view+json": {
       "version_major": 2,
       "version_minor": 0,
       "model_id": "4e9298c246514a78aa298fe05e422a12"
      }
     },
     "metadata": {},
     "output_type": "display_data"
    },
    {
     "data": {
      "text/plain": "chain 2 |          | 00:00 Status",
      "application/vnd.jupyter.widget-view+json": {
       "version_major": 2,
       "version_minor": 0,
       "model_id": "f5c92c49d4a04a66903afbbec94a70bf"
      }
     },
     "metadata": {},
     "output_type": "display_data"
    },
    {
     "data": {
      "text/plain": "chain 3 |          | 00:00 Status",
      "application/vnd.jupyter.widget-view+json": {
       "version_major": 2,
       "version_minor": 0,
       "model_id": "416f81b2015946a5ad85b4d32d1d79cd"
      }
     },
     "metadata": {},
     "output_type": "display_data"
    },
    {
     "data": {
      "text/plain": "chain 4 |          | 00:00 Status",
      "application/vnd.jupyter.widget-view+json": {
       "version_major": 2,
       "version_minor": 0,
       "model_id": "70f91be8eb25454fb08cbe1f81dc1bb4"
      }
     },
     "metadata": {},
     "output_type": "display_data"
    }
   ],
   "source": [
    "sbc_idata = v2s.run_sbc(n_fits=10, n_draws=500, n_chains=4, iter_warmup=500)"
   ],
   "metadata": {
    "collapsed": false,
    "pycharm": {
     "is_executing": true
    }
   }
  },
  {
   "cell_type": "code",
   "execution_count": null,
   "outputs": [],
   "source": [
    "sbc_idata.prior.dims"
   ],
   "metadata": {
    "collapsed": false,
    "pycharm": {
     "is_executing": true
    }
   }
  },
  {
   "cell_type": "code",
   "execution_count": null,
   "outputs": [],
   "source": [
    "from stanify.calibrator.plots import plot_ecdf, plot_rank_hist"
   ],
   "metadata": {
    "collapsed": false,
    "pycharm": {
     "is_executing": true
    }
   }
  },
  {
   "cell_type": "code",
   "execution_count": null,
   "outputs": [],
   "source": [
    "plot_rank_hist(sbc_idata, \"sigma\")"
   ],
   "metadata": {
    "collapsed": false,
    "pycharm": {
     "is_executing": true
    }
   }
  },
  {
   "cell_type": "code",
   "execution_count": null,
   "outputs": [],
   "source": [
    "plot_ecdf(sbc_idata, \"sigma\", diff=True)"
   ],
   "metadata": {
    "collapsed": false,
    "pycharm": {
     "is_executing": true
    }
   }
  },
  {
   "cell_type": "code",
   "execution_count": null,
   "outputs": [],
   "source": [
    "sbc_idata"
   ],
   "metadata": {
    "collapsed": false,
    "pycharm": {
     "is_executing": true
    }
   }
  },
  {
   "cell_type": "code",
   "execution_count": null,
   "outputs": [],
   "source": [
    "import matplotlib.pyplot as plt"
   ],
   "metadata": {
    "collapsed": false,
    "pycharm": {
     "is_executing": true
    }
   }
  },
  {
   "cell_type": "code",
   "execution_count": null,
   "outputs": [],
   "source": [
    "plt.plot(sbc_idata.posterior[\"ss\"].sel(prior_draw=0).mean(dim=\"posterior_draw\"))"
   ],
   "metadata": {
    "collapsed": false,
    "pycharm": {
     "is_executing": true
    }
   }
  },
  {
   "cell_type": "code",
   "execution_count": null,
   "outputs": [],
   "source": [
    "sbc_idata.posterior[\"adj_s\"].sel(prior_draw=0)"
   ],
   "metadata": {
    "collapsed": false,
    "pycharm": {
     "is_executing": true
    }
   }
  },
  {
   "cell_type": "code",
   "execution_count": null,
   "outputs": [],
   "source": [],
   "metadata": {
    "collapsed": false,
    "pycharm": {
     "is_executing": true
    }
   }
  }
 ],
 "metadata": {
  "kernelspec": {
   "display_name": "Python 3",
   "language": "python",
   "name": "python3"
  },
  "language_info": {
   "codemirror_mode": {
    "name": "ipython",
    "version": 2
   },
   "file_extension": ".py",
   "mimetype": "text/x-python",
   "name": "python",
   "nbconvert_exporter": "python",
   "pygments_lexer": "ipython2",
   "version": "2.7.6"
  }
 },
 "nbformat": 4,
 "nbformat_minor": 0
}
