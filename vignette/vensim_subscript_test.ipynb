{
 "cells": [
  {
   "cell_type": "code",
   "execution_count": 2,
   "metadata": {
    "collapsed": true
   },
   "outputs": [],
   "source": [
    "from pysd.translators.vensim.vensim_file import VensimFile"
   ]
  },
  {
   "cell_type": "code",
   "execution_count": 3,
   "outputs": [],
   "source": [
    "vf = VensimFile(\"/Users/dashadower/git_repos/stanify/vensim_models/hier_prey_predator_wopnoise.mdl\")\n",
    "vf.parse()"
   ],
   "metadata": {
    "collapsed": false
   }
  },
  {
   "cell_type": "code",
   "execution_count": 4,
   "outputs": [],
   "source": [
    "am = vf.get_abstract_model()"
   ],
   "metadata": {
    "collapsed": false
   }
  },
  {
   "cell_type": "code",
   "execution_count": 5,
   "outputs": [
    {
     "data": {
      "text/plain": "AbstractSection(name='__main__', path=PosixPath('/Users/dashadower/git_repos/stanify/vensim_models/hier_prey_predator_wopnoise.py'), type='main', params=[], returns=[], subscripts=[AbstractSubscriptRange(name='region', subscripts=['korea', 'us'], mapping=[])], elements=[AbstractElement(name='pred birth frac', components=[AbstractComponent(subscripts=(['region'], []), ast=0.05, type='Auxiliary', subtype='Normal')], units='1/(Time*prey)', limits=(0.0, None), documentation='predator birth fraction'), AbstractElement(name='pred death frac', components=[AbstractComponent(subscripts=(['region'], []), ast=0.8, type='Auxiliary', subtype='Normal')], units='1/Time', limits=(0.0, None), documentation='predator death proportionality constant'), AbstractElement(name='Predator', components=[AbstractComponent(subscripts=(['region'], []), ast=IntegStructure(flow=ArithmeticStructure(operators=['-'], arguments=(ReferenceStructure(reference='predator_birth_rate', subscripts=SubscriptsReferenceStructure(subscripts=['region'])), ReferenceStructure(reference='predator_death_rate', subscripts=SubscriptsReferenceStructure(subscripts=['region'])))), initial=4), type='Auxiliary', subtype='Normal')], units='pred', limits=(None, None), documentation=''), AbstractElement(name='predator birth rate', components=[AbstractComponent(subscripts=(['region'], []), ast=ArithmeticStructure(operators=['*'], arguments=(ArithmeticStructure(operators=['*'], arguments=(ReferenceStructure(reference='pred_birth_frac', subscripts=SubscriptsReferenceStructure(subscripts=['region'])), ReferenceStructure(reference='prey', subscripts=SubscriptsReferenceStructure(subscripts=['region'])))), ReferenceStructure(reference='predator', subscripts=SubscriptsReferenceStructure(subscripts=['region'])))), type='Auxiliary', subtype='Normal')], units='pred/Time', limits=(None, None), documentation=''), AbstractElement(name='predator death rate', components=[AbstractComponent(subscripts=(['region'], []), ast=ArithmeticStructure(operators=['*'], arguments=(ReferenceStructure(reference='pred_death_frac', subscripts=SubscriptsReferenceStructure(subscripts=['region'])), ReferenceStructure(reference='predator', subscripts=SubscriptsReferenceStructure(subscripts=['region'])))), type='Auxiliary', subtype='Normal')], units='pred/Time', limits=(None, None), documentation=''), AbstractElement(name='Prey', components=[AbstractComponent(subscripts=(['region'], []), ast=IntegStructure(flow=ArithmeticStructure(operators=['-'], arguments=(ReferenceStructure(reference='prey_birth_rate', subscripts=SubscriptsReferenceStructure(subscripts=['region'])), ReferenceStructure(reference='prey_death_rate', subscripts=SubscriptsReferenceStructure(subscripts=['region'])))), initial=30), type='Auxiliary', subtype='Normal')], units='prey', limits=(None, None), documentation=''), AbstractElement(name='prey birth frac', components=[AbstractComponent(subscripts=(['region'], []), ast=0.8, type='Auxiliary', subtype='Normal')], units='1/Time', limits=(0.0, None), documentation='prey birth fraction'), AbstractElement(name='prey birth rate', components=[AbstractComponent(subscripts=(['region'], []), ast=ArithmeticStructure(operators=['*'], arguments=(ReferenceStructure(reference='prey_birth_frac', subscripts=SubscriptsReferenceStructure(subscripts=['region'])), ReferenceStructure(reference='prey', subscripts=SubscriptsReferenceStructure(subscripts=['region'])))), type='Auxiliary', subtype='Normal')], units='prey/Time', limits=(None, None), documentation=''), AbstractElement(name='prey death frac', components=[AbstractComponent(subscripts=(['region'], []), ast=0.05, type='Auxiliary', subtype='Normal')], units='1/(Time*pred)', limits=(0.0, None), documentation='prey death proportionality constant'), AbstractElement(name='prey death rate', components=[AbstractComponent(subscripts=(['region'], []), ast=ArithmeticStructure(operators=['*'], arguments=(ArithmeticStructure(operators=['*'], arguments=(ReferenceStructure(reference='prey_death_frac', subscripts=SubscriptsReferenceStructure(subscripts=['region'])), ReferenceStructure(reference='predator', subscripts=SubscriptsReferenceStructure(subscripts=['region'])))), ReferenceStructure(reference='prey', subscripts=SubscriptsReferenceStructure(subscripts=['region'])))), type='Auxiliary', subtype='Normal')], units='prey/Time', limits=(None, None), documentation=''), AbstractElement(name='initial population', components=[AbstractComponent(subscripts=(['region'], []), ast=array([30., 50.]), type='Auxiliary', subtype='Normal')], units='prey', limits=(None, None), documentation=''), AbstractControlElement(name='FINAL TIME', components=[AbstractComponent(subscripts=([], []), ast=12, type='Auxiliary', subtype='Normal')], units='seasons', limits=(None, None), documentation='The final time for the simulation.'), AbstractControlElement(name='INITIAL TIME', components=[AbstractComponent(subscripts=([], []), ast=0, type='Auxiliary', subtype='Normal')], units='seasons', limits=(None, None), documentation='The initial time for the simulation.'), AbstractControlElement(name='SAVEPER', components=[AbstractComponent(subscripts=([], []), ast=ReferenceStructure(reference='time_step', subscripts=None), type='Auxiliary', subtype='Normal')], units='seasons', limits=(0.0, None), documentation='The frequency with which output is stored.'), AbstractControlElement(name='TIME STEP', components=[AbstractComponent(subscripts=([], []), ast=0.03, type='Auxiliary', subtype='Normal')], units='seasons', limits=(0.001, 0.04, 0.001), documentation='The time step for the simulation.')], split=False, views_dict=None)"
     },
     "execution_count": 5,
     "metadata": {},
     "output_type": "execute_result"
    }
   ],
   "source": [
    "section = am.sections[0]\n",
    "section"
   ],
   "metadata": {
    "collapsed": false
   }
  },
  {
   "cell_type": "code",
   "execution_count": 6,
   "outputs": [
    {
     "data": {
      "text/plain": "[AbstractSubscriptRange(name='region', subscripts=['korea', 'us'], mapping=[])]"
     },
     "execution_count": 6,
     "metadata": {},
     "output_type": "execute_result"
    }
   ],
   "source": [
    "subscripts = section.subscripts\n",
    "subscripts"
   ],
   "metadata": {
    "collapsed": false
   }
  },
  {
   "cell_type": "code",
   "execution_count": 7,
   "outputs": [
    {
     "name": "stdout",
     "output_type": "stream",
     "text": [
      "region ['korea', 'us']\n"
     ]
    }
   ],
   "source": [
    "for subscript in subscripts:\n",
    "    print(subscript.name, subscript.subscripts)"
   ],
   "metadata": {
    "collapsed": false
   }
  },
  {
   "cell_type": "code",
   "execution_count": 31,
   "outputs": [
    {
     "name": "stdout",
     "output_type": "stream",
     "text": [
      "######\n",
      "pred birth frac\n",
      "(['region'], [])\n",
      "######\n",
      "pred death frac\n",
      "(['region'], [])\n",
      "######\n",
      "Predator\n",
      "(['region'], [])\n",
      "######\n",
      "predator birth rate\n",
      "(['region'], [])\n",
      "######\n",
      "predator death rate\n",
      "(['region'], [])\n",
      "######\n",
      "Prey\n",
      "(['region'], [])\n",
      "######\n",
      "prey birth frac\n",
      "(['region'], [])\n",
      "######\n",
      "prey birth rate\n",
      "(['region'], [])\n",
      "######\n",
      "prey death frac\n",
      "(['region'], [])\n",
      "######\n",
      "prey death rate\n",
      "(['region'], [])\n",
      "######\n",
      "initial population\n",
      "(['region'], [])\n",
      "######\n",
      "FINAL TIME\n",
      "([], [])\n",
      "######\n",
      "INITIAL TIME\n",
      "([], [])\n",
      "######\n",
      "SAVEPER\n",
      "([], [])\n",
      "######\n",
      "TIME STEP\n",
      "([], [])\n"
     ]
    }
   ],
   "source": [
    "import numpy as np\n",
    "from pysd.translators.structures.abstract_expressions import *\n",
    "for element in section.elements:\n",
    "    print(\"######\")\n",
    "    print(element.name)\n",
    "    for component in element.components:\n",
    "        #print(component.ast, type(component.ast))\n",
    "        #print(type(component))\n",
    "        print(component.subscripts)\n",
    "        #print(type(component.ast))\n",
    "        #if isinstance(component.ast, ArithmeticStructure):\n",
    "        #    print(component.ast.arguments)"
   ],
   "metadata": {
    "collapsed": false
   }
  },
  {
   "cell_type": "code",
   "execution_count": 1,
   "outputs": [],
   "source": [
    "import sys\n",
    "sys.path.append(\"/Users/dashadower/git_repos/stanify\")"
   ],
   "metadata": {
    "collapsed": false
   }
  },
  {
   "cell_type": "code",
   "execution_count": 2,
   "outputs": [],
   "source": [
    "from stanify.builders.vensim_model import VensimModelContext"
   ],
   "metadata": {
    "collapsed": false
   }
  },
  {
   "cell_type": "code",
   "execution_count": 3,
   "outputs": [],
   "source": [
    "vmc = VensimModelContext(\"/Users/dashadower/git_repos/stanify/vensim_models/hier_prey_predator_wopnoise.mdl\")"
   ],
   "metadata": {
    "collapsed": false
   }
  },
  {
   "cell_type": "code",
   "execution_count": 4,
   "outputs": [
    {
     "data": {
      "text/plain": "{'region': ['korea', 'us']}"
     },
     "execution_count": 4,
     "metadata": {},
     "output_type": "execute_result"
    }
   ],
   "source": [
    "vmc.subscripts"
   ],
   "metadata": {
    "collapsed": false
   }
  },
  {
   "cell_type": "code",
   "execution_count": 5,
   "outputs": [
    {
     "data": {
      "text/plain": "{'pred_birth_frac': VensimVariableContext(name='pred_birth_frac', subscripts=['region'], is_stock=False),\n 'pred_death_frac': VensimVariableContext(name='pred_death_frac', subscripts=['region'], is_stock=False),\n 'predator': VensimVariableContext(name='predator', subscripts=['region'], is_stock=True),\n 'predator_birth_rate': VensimVariableContext(name='predator_birth_rate', subscripts=['region'], is_stock=False),\n 'predator_death_rate': VensimVariableContext(name='predator_death_rate', subscripts=['region'], is_stock=False),\n 'prey': VensimVariableContext(name='prey', subscripts=['region'], is_stock=True),\n 'prey_birth_frac': VensimVariableContext(name='prey_birth_frac', subscripts=['region'], is_stock=False),\n 'prey_birth_rate': VensimVariableContext(name='prey_birth_rate', subscripts=['region'], is_stock=False),\n 'prey_death_frac': VensimVariableContext(name='prey_death_frac', subscripts=['region'], is_stock=False),\n 'prey_death_rate': VensimVariableContext(name='prey_death_rate', subscripts=['region'], is_stock=False),\n 'initial_population': VensimVariableContext(name='initial_population', subscripts=['region'], is_stock=False),\n 'final_time': VensimVariableContext(name='final_time', subscripts=[], is_stock=False),\n 'initial_time': VensimVariableContext(name='initial_time', subscripts=[], is_stock=False),\n 'saveper': VensimVariableContext(name='saveper', subscripts=[], is_stock=False),\n 'time_step': VensimVariableContext(name='time_step', subscripts=[], is_stock=False)}"
     },
     "execution_count": 5,
     "metadata": {},
     "output_type": "execute_result"
    }
   ],
   "source": [
    "vmc.variables"
   ],
   "metadata": {
    "collapsed": false
   }
  },
  {
   "cell_type": "code",
   "execution_count": 6,
   "outputs": [
    {
     "data": {
      "text/plain": "{'predator': VensimVariableContext(name='predator', subscripts=['region'], is_stock=True),\n 'prey': VensimVariableContext(name='prey', subscripts=['region'], is_stock=True)}"
     },
     "execution_count": 6,
     "metadata": {},
     "output_type": "execute_result"
    }
   ],
   "source": [
    "vmc.integ_outcome_variables"
   ],
   "metadata": {
    "collapsed": false
   }
  },
  {
   "cell_type": "code",
   "execution_count": null,
   "outputs": [],
   "source": [],
   "metadata": {
    "collapsed": false
   }
  }
 ],
 "metadata": {
  "kernelspec": {
   "display_name": "Python 3",
   "language": "python",
   "name": "python3"
  },
  "language_info": {
   "codemirror_mode": {
    "name": "ipython",
    "version": 2
   },
   "file_extension": ".py",
   "mimetype": "text/x-python",
   "name": "python",
   "nbconvert_exporter": "python",
   "pygments_lexer": "ipython2",
   "version": "2.7.6"
  }
 },
 "nbformat": 4,
 "nbformat_minor": 0
}
