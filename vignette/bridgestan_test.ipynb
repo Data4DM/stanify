{
 "cells": [
  {
   "cell_type": "code",
   "execution_count": 1,
   "metadata": {
    "collapsed": true
   },
   "outputs": [],
   "source": [
    "import cmdstanpy\n",
    "import bridgestan\n",
    "import numpy as np\n",
    "\n",
    "bridgestan.set_bridgestan_path(\"/Users/dashadower/git_repos/bridgestan\")"
   ]
  },
  {
   "cell_type": "code",
   "execution_count": 2,
   "outputs": [
    {
     "name": "stderr",
     "output_type": "stream",
     "text": [
      "08:21:52 - cmdstanpy - INFO - compiling stan file /Users/dashadower/git_repos/stanify/vignette/bernoulli.stan to exe file /Users/dashadower/git_repos/stanify/vignette/bernoulli\n",
      "08:21:55 - cmdstanpy - INFO - compiled model executable: /Users/dashadower/git_repos/stanify/vignette/bernoulli\n",
      "08:21:55 - cmdstanpy - WARNING - Stan compiler has produced 1 warnings:\n",
      "08:21:55 - cmdstanpy - WARNING - \n",
      "--- Translating Stan model to C++ code ---\n",
      "bin/stanc  --o=/Users/dashadower/git_repos/stanify/vignette/bernoulli.hpp /Users/dashadower/git_repos/stanify/vignette/bernoulli.stan\n",
      "Warning in '/Users/dashadower/git_repos/stanify/vignette/bernoulli.stan', line 3, column 3: Declaration\n",
      "    of arrays by placing brackets after a variable name is deprecated and\n",
      "    will be removed in Stan 2.32.0. Instead use the array keyword before the\n",
      "    type. This can be changed automatically using the auto-format flag to\n",
      "    stanc\n",
      "\n",
      "--- Compiling, linking C++ code ---\n",
      "clang++ -std=c++1y -Wno-unknown-warning-option -Wno-tautological-compare -Wno-sign-compare -D_REENTRANT -Wno-ignored-attributes      -I stan/lib/stan_math/lib/tbb_2020.3/include    -O3 -I src -I stan/src -I lib/rapidjson_1.1.0/ -I lib/CLI11-1.9.1/ -I stan/lib/stan_math/ -I stan/lib/stan_math/lib/eigen_3.3.9 -I stan/lib/stan_math/lib/boost_1.78.0 -I stan/lib/stan_math/lib/sundials_6.1.1/include -I stan/lib/stan_math/lib/sundials_6.1.1/src/sundials    -DBOOST_DISABLE_ASSERTS          -c -include-pch stan/src/stan/model/model_header.hpp.gch -x c++ -o /Users/dashadower/git_repos/stanify/vignette/bernoulli.o /Users/dashadower/git_repos/stanify/vignette/bernoulli.hpp\n",
      "clang++ -std=c++1y -Wno-unknown-warning-option -Wno-tautological-compare -Wno-sign-compare -D_REENTRANT -Wno-ignored-attributes      -I stan/lib/stan_math/lib/tbb_2020.3/include    -O3 -I src -I stan/src -I lib/rapidjson_1.1.0/ -I lib/CLI11-1.9.1/ -I stan/lib/stan_math/ -I stan/lib/stan_math/lib/eigen_3.3.9 -I stan/lib/stan_math/lib/boost_1.78.0 -I stan/lib/stan_math/lib/sundials_6.1.1/include -I stan/lib/stan_math/lib/sundials_6.1.1/src/sundials    -DBOOST_DISABLE_ASSERTS                -Wl,-L,\"/Users/dashadower/.cmdstan/cmdstan-2.30.1/stan/lib/stan_math/lib/tbb\" -Wl,-rpath,\"/Users/dashadower/.cmdstan/cmdstan-2.30.1/stan/lib/stan_math/lib/tbb\"      /Users/dashadower/git_repos/stanify/vignette/bernoulli.o src/cmdstan/main.o        -Wl,-L,\"/Users/dashadower/.cmdstan/cmdstan-2.30.1/stan/lib/stan_math/lib/tbb\" -Wl,-rpath,\"/Users/dashadower/.cmdstan/cmdstan-2.30.1/stan/lib/stan_math/lib/tbb\"   stan/lib/stan_math/lib/sundials_6.1.1/lib/libsundials_nvecserial.a stan/lib/stan_math/lib/sundials_6.1.1/lib/libsundials_cvodes.a stan/lib/stan_math/lib/sundials_6.1.1/lib/libsundials_idas.a stan/lib/stan_math/lib/sundials_6.1.1/lib/libsundials_kinsol.a  stan/lib/stan_math/lib/tbb/libtbb.dylib stan/lib/stan_math/lib/tbb/libtbbmalloc.dylib stan/lib/stan_math/lib/tbb/libtbbmalloc_proxy.dylib -o /Users/dashadower/git_repos/stanify/vignette/bernoulli\n",
      "rm -f /Users/dashadower/git_repos/stanify/vignette/bernoulli.o\n",
      "\n"
     ]
    }
   ],
   "source": [
    "data = {\n",
    "    \"N\": 10,\n",
    "    \"y\" : [0,1,0,0,0,0,0,0,0,1]\n",
    "}\n",
    "model = cmdstanpy.CmdStanModel(stan_file=\"bernoulli.stan\")"
   ],
   "metadata": {
    "collapsed": false
   }
  },
  {
   "cell_type": "code",
   "execution_count": 3,
   "outputs": [
    {
     "name": "stderr",
     "output_type": "stream",
     "text": [
      "08:22:03 - cmdstanpy - INFO - CmdStan start processing\n"
     ]
    },
    {
     "data": {
      "text/plain": "chain 1 |          | 00:00 Status",
      "application/vnd.jupyter.widget-view+json": {
       "version_major": 2,
       "version_minor": 0,
       "model_id": "fbe574169f394699a0880a06e7bb34ae"
      }
     },
     "metadata": {},
     "output_type": "display_data"
    },
    {
     "name": "stdout",
     "output_type": "stream",
     "text": [
      "                                                                                "
     ]
    },
    {
     "name": "stderr",
     "output_type": "stream",
     "text": [
      "08:22:03 - cmdstanpy - INFO - CmdStan done processing.\n"
     ]
    },
    {
     "name": "stdout",
     "output_type": "stream",
     "text": [
      "\n"
     ]
    }
   ],
   "source": [
    "fit = model.sample(data, chains=1, iter_sampling=1, iter_warmup=1, fixed_param=False)"
   ],
   "metadata": {
    "collapsed": false
   }
  },
  {
   "cell_type": "code",
   "execution_count": 4,
   "outputs": [
    {
     "data": {
      "text/plain": "{'theta': array([-1.27666])}"
     },
     "execution_count": 4,
     "metadata": {},
     "output_type": "execute_result"
    }
   ],
   "source": [
    "fit.stan_variables()"
   ],
   "metadata": {
    "collapsed": false
   }
  },
  {
   "cell_type": "code",
   "execution_count": 5,
   "outputs": [
    {
     "data": {
      "text/plain": "       lp__  accept_stat__  stepsize__  treedepth__  n_leapfrog__  \\\n0 -0.814932   5.060480e-11     2.66933          1.0           1.0   \n\n   divergent__  energy__    theta  \n0          0.0   1.10787 -1.27666  ",
      "text/html": "<div>\n<style scoped>\n    .dataframe tbody tr th:only-of-type {\n        vertical-align: middle;\n    }\n\n    .dataframe tbody tr th {\n        vertical-align: top;\n    }\n\n    .dataframe thead th {\n        text-align: right;\n    }\n</style>\n<table border=\"1\" class=\"dataframe\">\n  <thead>\n    <tr style=\"text-align: right;\">\n      <th></th>\n      <th>lp__</th>\n      <th>accept_stat__</th>\n      <th>stepsize__</th>\n      <th>treedepth__</th>\n      <th>n_leapfrog__</th>\n      <th>divergent__</th>\n      <th>energy__</th>\n      <th>theta</th>\n    </tr>\n  </thead>\n  <tbody>\n    <tr>\n      <th>0</th>\n      <td>-0.814932</td>\n      <td>5.060480e-11</td>\n      <td>2.66933</td>\n      <td>1.0</td>\n      <td>1.0</td>\n      <td>0.0</td>\n      <td>1.10787</td>\n      <td>-1.27666</td>\n    </tr>\n  </tbody>\n</table>\n</div>"
     },
     "execution_count": 5,
     "metadata": {},
     "output_type": "execute_result"
    }
   ],
   "source": [
    "fit.draws_pd()"
   ],
   "metadata": {
    "collapsed": false
   }
  },
  {
   "cell_type": "code",
   "execution_count": 70,
   "outputs": [],
   "source": [
    "test = {'theta': -0.470869}\n",
    "test = json.dumps(test)"
   ],
   "metadata": {
    "collapsed": false
   }
  },
  {
   "cell_type": "code",
   "execution_count": 72,
   "outputs": [
    {
     "name": "stdout",
     "output_type": "stream",
     "text": [
      "{'theta': [-0.470869]}\n",
      "{\"theta\": -0.470869}\n",
      "[]\n",
      "[]\n",
      "-6.931471805599453\n"
     ]
    }
   ],
   "source": [
    "import tempfile, os, json\n",
    "bridgestan_model = bridgestan.StanModel.from_stan_file(\"bernoulli.stan\", json.dumps(data))\n",
    "with tempfile.NamedTemporaryFile(\"w\", prefix=\".json\", delete=False) as f:\n",
    "    #f.close()\n",
    "    #dirname = f.name\n",
    "    #cmdstanpy.write_stan_json(dirname, fit.stan_variables())\n",
    "    stan_variables_dumpable = {key: val.tolist() for key, val in fit.stan_variables().items()}\n",
    "    print(stan_variables_dumpable)\n",
    "    # unconstrain = bridgestan_model.param_unconstrain_json(json.dumps(stan_variables_dumpable))\n",
    "    unconstrain = bridgestan_model.param_unconstrain_json(test)\n",
    "    print(unconstrain)\n",
    "    constrain = bridgestan_model.param_constrain(unconstrain)\n",
    "    print(constrain)\n",
    "    print(bridgestan_model.log_density(unconstrain))"
   ],
   "metadata": {
    "collapsed": false
   }
  },
  {
   "cell_type": "code",
   "execution_count": 36,
   "outputs": [
    {
     "data": {
      "text/plain": "array([], dtype=float64)"
     },
     "execution_count": 36,
     "metadata": {},
     "output_type": "execute_result"
    }
   ],
   "source": [
    "bridgestan_model.param_constrain(np.array([0.23]))"
   ],
   "metadata": {
    "collapsed": false
   }
  },
  {
   "cell_type": "code",
   "execution_count": 33,
   "outputs": [
    {
     "data": {
      "text/plain": "-12.938300376942575"
     },
     "execution_count": 33,
     "metadata": {},
     "output_type": "execute_result"
    }
   ],
   "source": [
    "from scipy.stats import bernoulli\n",
    "import numpy\n",
    "numpy.sum(bernoulli.logpmf(data[\"y\"], 0.789484))"
   ],
   "metadata": {
    "collapsed": false
   }
  },
  {
   "cell_type": "code",
   "execution_count": null,
   "outputs": [],
   "source": [],
   "metadata": {
    "collapsed": false
   }
  }
 ],
 "metadata": {
  "kernelspec": {
   "display_name": "Python 3",
   "language": "python",
   "name": "python3"
  },
  "language_info": {
   "codemirror_mode": {
    "name": "ipython",
    "version": 2
   },
   "file_extension": ".py",
   "mimetype": "text/x-python",
   "name": "python",
   "nbconvert_exporter": "python",
   "pygments_lexer": "ipython2",
   "version": "2.7.6"
  }
 },
 "nbformat": 4,
 "nbformat_minor": 0
}
